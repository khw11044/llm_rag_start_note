{
 "cells": [
  {
   "cell_type": "markdown",
   "metadata": {},
   "source": [
    "## 02. 캐싱"
   ]
  },
  {
   "cell_type": "code",
   "execution_count": 1,
   "metadata": {},
   "outputs": [
    {
     "data": {
      "text/plain": [
       "True"
      ]
     },
     "execution_count": 1,
     "metadata": {},
     "output_type": "execute_result"
    }
   ],
   "source": [
    "# API KEY를 환경변수로 관리하기 위한 설정 파일\n",
    "from dotenv import load_dotenv\n",
    "\n",
    "# API KEY 정보로드\n",
    "load_dotenv()\n"
   ]
  },
  {
   "cell_type": "markdown",
   "metadata": {},
   "source": [
    "### 캐싱(Caching)\n",
    "\n",
    "LangChain은 LLM을 위한 선택적 캐싱 레이어를 제공합니다.\n",
    "\n",
    "이는 두 가지 이유로 유용합니다:\n",
    "\n",
    "- 동일한 완료를 여러 번 요청하는 경우 LLM 공급자에 대한 API 호출 횟수를 줄여 비용을 절감 할 수 있습니다.\n",
    "- LLM 제공업체에 대한 API 호출 횟수를 줄여 애플리케이션의 속도를 높일 수 있습니다.\n",
    "\n",
    "모델과 프롬프트를 생성합니다"
   ]
  },
  {
   "cell_type": "code",
   "execution_count": 2,
   "metadata": {},
   "outputs": [],
   "source": [
    "from langchain_openai import ChatOpenAI\n",
    "\n",
    "# 모델을 생성합니다.\n",
    "llm = ChatOpenAI()\n"
   ]
  },
  {
   "cell_type": "code",
   "execution_count": 3,
   "metadata": {},
   "outputs": [
    {
     "data": {
      "text/plain": [
       "PromptTemplate(input_variables=['country'], template='{country} 에 대해서 200자 내외로 요약해줘')"
      ]
     },
     "execution_count": 3,
     "metadata": {},
     "output_type": "execute_result"
    }
   ],
   "source": [
    "from langchain.prompts import PromptTemplate\n",
    "\n",
    "prompt = PromptTemplate.from_template(\"{country} 에 대해서 200자 내외로 요약해줘\")\n",
    "prompt\n"
   ]
  },
  {
   "cell_type": "code",
   "execution_count": 4,
   "metadata": {},
   "outputs": [],
   "source": [
    "chain = prompt | llm"
   ]
  },
  {
   "cell_type": "code",
   "execution_count": 5,
   "metadata": {},
   "outputs": [
    {
     "name": "stdout",
     "output_type": "stream",
     "text": [
      "CPU times: total: 62.5 ms\n",
      "Wall time: 4.11 s\n",
      "한국은 동아시아에 있는 고도로 발전한 현대화된 나라로, 전통 문화와 현대 문명이 공존하는 나라이다. 수도는 서울이며, 국가 언어는 한국어이다. 한반도의 남쪽에 위치하고 있으며, 북한과의 국경을 공유하고 있다. 한국은 세계적으로 유명한 K-pop, K-drama 등의 문화 산업을 보유하고 있으며, 전통적인 음식인 김치, 불고기 등이 유명하다. 또한, 세계에서 가장 빠른 인터넷 속도와 첨단 기술을 보유하고 있어 IT 산업이 발달하고 있다. 한국은 혁신적이고 역동적인 문화와 경제 성장을 이룩한 나라로, 세계적으로 영향력 있는 역할을 맡고 있다.\n"
     ]
    }
   ],
   "source": [
    "%time \n",
    "response = chain.invoke({\"country\": \"한국\"})\n",
    "print(response.content)"
   ]
  },
  {
   "cell_type": "markdown",
   "metadata": {},
   "source": [
    "### SQLite Cache"
   ]
  },
  {
   "cell_type": "code",
   "execution_count": 6,
   "metadata": {},
   "outputs": [],
   "source": [
    "from langchain.cache import SQLiteCache\n",
    "from langchain.globals import set_llm_cache\n",
    "\n",
    "set_llm_cache(SQLiteCache(database_path=\"./my_llm_cache.db\"))\n",
    "# \"./my_llm_cache.db\" 가 생성됨 \n"
   ]
  },
  {
   "cell_type": "code",
   "execution_count": 7,
   "metadata": {},
   "outputs": [
    {
     "name": "stdout",
     "output_type": "stream",
     "text": [
      "CPU times: total: 15.6 ms\n",
      "Wall time: 4.31 s\n",
      "한국은 동아시아에 위치한 대한민국과 북한으로 나뉘어져 있는 나라이다. 대한민국은 수도가 서울에 위치하고 있으며, 고도의 경제력과 기술력을 보유한 선진국가로 발전하고 있다. 한국은 대중음악, 드라마, 영화 등의 한류 콘텐츠로 전 세계적으로 유명하며, 전통문화와 현대문화가 조화롭게 공존하는 독특한 매력을 가지고 있다. 또한, 한반도의 북쪽에 위치한 북한은 공산주의 체제를 유지하고 있으며, 국제사회와의 관계가 긴장 상태에 놓여 있지만, 남북관계의 평화와 통일을 향해 노력하고 있다.\n"
     ]
    }
   ],
   "source": [
    "%time \n",
    "response = chain.invoke({\"country\": \"한국\"})\n",
    "print(response.content)\n",
    "\n",
    "# CPU times를 보라, 시간이 확 줄었다."
   ]
  },
  {
   "cell_type": "markdown",
   "metadata": {},
   "source": [
    "## 참고 자료 \n",
    "\n",
    "https://rfriend.tistory.com/845\n",
    "\n",
    "\n"
   ]
  },
  {
   "cell_type": "markdown",
   "metadata": {},
   "source": [
    "### 1. 캐시(Cache)란 무엇인가? \n",
    " \n",
    "\"캐시(Cache)\"는 컴퓨팅에서 데이터를 저장하여 이후 데이터 요청을 더 빠르게 처리할 수 있도록 하는 하드웨어 또는 소프트웨어 구성 요소를 말합니다.\n",
    "\n",
    "- 캐시에 저장되는 데이터는 이전 계산의 결과거나 다른 곳에 저장된 데이터의 복사본일 수 있습니다. \n",
    "\n",
    "- 캐시는 주로 데이터 접근 속도를 높이고, 주 메모리나 더 먼 저장 위치에서 데이터를 가져오는 시간을 줄이는 데 사용됩니다. \n",
    "\n"
   ]
  },
  {
   "cell_type": "markdown",
   "metadata": {},
   "source": [
    "- LangChain과 같은 언어 모델 애플리케이션 구축 프레임워크의 맥락에서, 캐싱은 성능과 효율성을 향상시키는 데 중요한 역할을 합니다.\n",
    "- LangChain과 같은 애플리케이션에서 캐시가 수행하는 기능은 다음과 같습니다. \n",
    "\n",
    "__(1) 응답 속도 향상__: \n",
    "- GPT-3 또는 GPT-4와 같은 언어 모델이 쿼리를 처리할 때, 복잡한 계산을 수행해야 할 수 있으며, 이는 상당한 시간이 소요될 수 있습니다. 비슷한 쿼리가 자주 발생하는 경우, 결과를 캐싱하면 이러한 반복 쿼리에 대한 응답 시간을 크게 단축할 수 있습니다.  \n",
    "\n",
    "__(2) 계산 부하 감소__: \n",
    "- 이전에 계산된 결과를 저장함으로써, 언어 모델이 동일한 계산을 여러 번 수행할 필요를 줄일 수 있습니다. 이는 비용이 들어가는 언어 모델에 대한 호출 API 호출을 줄이는 데 특히 유용할 수 있습니다. \n",
    "\n",
    "__(3) 사용자 경험 개선__: \n",
    "- 높은 사용자 상호 작용을 가진 애플리케이션, 예를 들어 챗봇이나 대화형 도구에서 자주 요청되는 정보나 응답을 캐싱하면 사용자는 즉각적인 피드백을 받을 수 있어 전반적인 경험이 향상됩니다.  \n",
    "\n",
    "__(4) 맞춤화 및 컨텍스트 유지__: \n",
    "- 경우에 따라 캐싱은 세션 동안 컨텍스트나 사용자 특정 데이터를 유지하는 데 사용될 수 있어 언어 모델과의 보다 개인화되고 컨텍스트에 맞는 상호 작용을 가능하게 합니다. \n"
   ]
  },
  {
   "cell_type": "markdown",
   "metadata": {},
   "source": [
    "### 2. LangChain 으로 LLM 기반 애플리케이션 구축 시 사용하는 캐시 유형\n",
    "\n",
    "LangChain은 언어 모델 애플리케이션을 구축하기 위한 프레임워크인데, 이러한 맥락에서 일반적으로 사용되는 캐시 유형은 다음과 같습니다.  \n",
    "\n",
    "__(1) 메모리 캐시 (Memory Cache)__: \n",
    "- 언어 모델 계산 또는 API 응답 결과를 임시로 저장하는 데 사용됩니다. \n",
    "- 이러한 작업이 자원을 많이 사용할 수 있으므로, 메모리에 결과를 캐싱하면 반복 쿼리나 작업에 대한 성능을 크게 향상시킬 수 있습니다.  \n",
    "\n",
    "__(2) 디스크 캐시 (Disk Cache)__: \n",
    "- 더 크거나 시간에 민감하지 않은 데이터에 대해 디스크 캐싱이 사용될 수 있습니다. \n",
    "- 이는 대용량 데이터셋이나 언어 모델 출력을 저장하는 데 특히 유용하며, 메모리 캐시의 속도가 필요하지 않지만 자주 접근되어 캐싱의 이점을 볼 수 있는 경우에 해당합니다. \n",
    "\n",
    "__(3) 애플리케이션 캐시 (Application Cache)__: \n",
    "- LangChain은 애플리케이션 프레임워크이므로 애플리케이션 특정 캐싱 메커니즘을 사용합니다. \n",
    "- 여기에는 사용자 세션, 진행 중인 대화의 컨텍스트 또는 특정 사용자 환경 설정 및 데이터를 캐싱하는 것이 포함됩니다.  \n",
    "\n",
    "__(3) 데이터베이스 캐시 (Database Cache)__: \n",
    "- LangChain이 데이터 저장 및 검색을 위해 데이터베이스와 상호 작용하는 경우, 일반적인 쿼리나 데이터 검색 작업을 가속화하기 위해 데이터베이스 캐싱이 사용될 수 있습니다.  \n",
    "\n",
    "__(4) 웹 캐시 (Web Cache)__: \n",
    "- LangChain 애플리케이션이 웹 소스에서 데이터를 가져올 때, 웹 캐싱 메커니즘을 사용하여 웹 콘텐츠를 저장하고 빠르게 검색할 수 있습니다.  \n",
    "\n",
    "__(5) CDN 캐시 (CDN Cache)__: \n",
    "- 애플리케이션이 웹을 통해 넓은 지역의 사용자 기반에 콘텐츠를 제공하는 경우, 사용자 위치에 가까운 곳에서 정적 리소스를 캐시하기 위해 CDN(콘텐츠 전송 네트워크,Content Delivery Network) 캐시를 사용할 수 있습니다. \n",
    "\n"
   ]
  },
  {
   "cell_type": "markdown",
   "metadata": {},
   "source": [
    "### 3. LangChain 에서 Cache 적용해보기"
   ]
  },
  {
   "cell_type": "markdown",
   "metadata": {},
   "source": [
    "### 3-1. InMemory Cache\n",
    " \n",
    "먼저 메모리 캐시 (Memory Cache)를 이용하는 방법을 소개합니다.  \n",
    "\n",
    "LLM 모델은 OpenAI의 \"gpt-3.5-turbo\"를 이용하겠으며, 환경변수로 OPENAI_API_KEY를 등록해줍니다. \n"
   ]
  },
  {
   "cell_type": "code",
   "execution_count": 13,
   "metadata": {},
   "outputs": [],
   "source": [
    "# (1) InMemoryCache\n",
    "from langchain.globals import set_llm_cache\n",
    "from langchain.cache import InMemoryCache\n",
    "\n",
    "# %time 으로 실행 시간을 측정해보겠습니다. \n",
    "# 처음 사용할 때는 캐시가 적용되지 않기 때문에 시간이 상대적으로 오래 걸립니다. \n",
    "\n",
    "set_llm_cache(InMemoryCache())\n",
    "\n"
   ]
  },
  {
   "cell_type": "code",
   "execution_count": 14,
   "metadata": {},
   "outputs": [
    {
     "name": "stdout",
     "output_type": "stream",
     "text": [
      "CPU times: total: 0 ns\n",
      "Wall time: 4.27 s\n",
      "폴란드는 중유럽에 위치한 국가로, 수도는 바르샤바이다. 인구는 약 3800만 명으로 유럽에서 가장 큰 규모를 자랑한다. 폴란드는 과거에 독일과 소련의 침공을 겪었지만, 1989년 민주주의로 전환되어 현재는 EU의 회원국이다. 경제는 다양한 산업을 중심으로 발전하고 있으며, 유럽 내에서도 중요한 위치를 차지하고 있다. 문화적으로는 폴란드의 전통 음악, 미술, 문학 등이 유명하며, 관광지로는 크라쿠프, 와르샤와 오슬로프 등이 인기가 있다. 현재는 다양한 산업 분야에서 성장하고 있으며, 국제사회에서도 중요한 역할을 하고 있다.\n"
     ]
    }
   ],
   "source": [
    "%time response = chain.invoke({\"country\": \"폴란드\"})\n",
    "print(response.content)"
   ]
  },
  {
   "cell_type": "code",
   "execution_count": 15,
   "metadata": {},
   "outputs": [
    {
     "name": "stdout",
     "output_type": "stream",
     "text": [
      "CPU times: total: 0 ns\n",
      "Wall time: 0 ns\n",
      "폴란드는 중유럽에 위치한 국가로, 수도는 바르샤바이다. 인구는 약 3800만 명으로 유럽에서 가장 큰 규모를 자랑한다. 폴란드는 과거에 독일과 소련의 침공을 겪었지만, 1989년 민주주의로 전환되어 현재는 EU의 회원국이다. 경제는 다양한 산업을 중심으로 발전하고 있으며, 유럽 내에서도 중요한 위치를 차지하고 있다. 문화적으로는 폴란드의 전통 음악, 미술, 문학 등이 유명하며, 관광지로는 크라쿠프, 와르샤와 오슬로프 등이 인기가 있다. 현재는 다양한 산업 분야에서 성장하고 있으며, 국제사회에서도 중요한 역할을 하고 있다.\n"
     ]
    }
   ],
   "source": [
    "%time \n",
    "response = chain.invoke({\"country\": \"폴란드\"})\n",
    "print(response.content)\n",
    "# 똑같은 사용자 쿼리를 LLM 모델에 보내면 캐시에 저장되어 있는 응답을 사용하여 즉시 응답해주기 때문에 소요시간이 대폭 줄어들었음을 알 수 있습니다. \n"
   ]
  },
  {
   "cell_type": "markdown",
   "metadata": {},
   "source": [
    "### 3-2. SQLite Database Cache\n",
    " \n",
    "다음으로 SQLLite Database Cache를 사용하기 위해 database path를 설정해줍니다. \n"
   ]
  },
  {
   "cell_type": "code",
   "execution_count": 16,
   "metadata": {},
   "outputs": [
    {
     "name": "stdout",
     "output_type": "stream",
     "text": [
      "CPU times: total: 0 ns\n",
      "Wall time: 0 ns\n",
      "미국은 북아메리카 대륙에 위치한 연방 공화국으로, 50개의 주로 구성되어 있다. 세계에서 세 번째로 넓은 국가이며, 다양한 인종과 문화가 공존하는 다문화 사회이다. 경제적으로 선진국으로 성장하여 세계 최대의 경제력을 갖고 있으며, 세계 각지에서 영향력을 행사하는 세계 강대국이다. 미국은 자유와 민주주의를 중시하는 국가로서, 다양한 정치적 입장과 종교적 신념을 존중한다. 또한 미국은 기술과 문화적으로도 세계적인 영향력을 행사하고 있으며, 세계 각지에서 많은 사람들이 이민을 통해 미국으로 이주하는 국가이기도 하다.\n"
     ]
    }
   ],
   "source": [
    "## (2) SQLite Cache\n",
    "# We can do the same thing with a SQLite Cache\n",
    "from langchain.globals import set_llm_cache\n",
    "from langchain.cache import SQLiteCache\n",
    "\n",
    "set_llm_cache(SQLiteCache(database_path=\".my_llm_cache.db\"))\n",
    "\n",
    "# To make the caching really obvious, let's use a slower model.\n",
    "%time \n",
    "response = chain.invoke({\"country\": \"미국\"})\n",
    "print(response.content)\n"
   ]
  },
  {
   "cell_type": "code",
   "execution_count": 18,
   "metadata": {},
   "outputs": [
    {
     "name": "stdout",
     "output_type": "stream",
     "text": [
      "CPU times: total: 0 ns\n",
      "Wall time: 0 ns\n",
      "미국은 북아메리카 대륙에 위치한 연방 공화국으로, 50개의 주로 구성되어 있다. 세계에서 세 번째로 넓은 국가이며, 다양한 인종과 문화가 공존하는 다문화 사회이다. 경제적으로 선진국으로 성장하여 세계 최대의 경제력을 갖고 있으며, 세계 각지에서 영향력을 행사하는 세계 강대국이다. 미국은 자유와 민주주의를 중시하는 국가로서, 다양한 정치적 입장과 종교적 신념을 존중한다. 또한 미국은 기술과 문화적으로도 세계적인 영향력을 행사하고 있으며, 세계 각지에서 많은 사람들이 이민을 통해 미국으로 이주하는 국가이기도 하다.\n"
     ]
    }
   ],
   "source": [
    "%time \n",
    "response = chain.invoke({\"country\": \"미국\"})\n",
    "print(response.content)"
   ]
  },
  {
   "cell_type": "code",
   "execution_count": null,
   "metadata": {},
   "outputs": [],
   "source": []
  }
 ],
 "metadata": {
  "kernelspec": {
   "display_name": "rag",
   "language": "python",
   "name": "python3"
  },
  "language_info": {
   "codemirror_mode": {
    "name": "ipython",
    "version": 3
   },
   "file_extension": ".py",
   "mimetype": "text/x-python",
   "name": "python",
   "nbconvert_exporter": "python",
   "pygments_lexer": "ipython3",
   "version": "3.11.9"
  }
 },
 "nbformat": 4,
 "nbformat_minor": 2
}
