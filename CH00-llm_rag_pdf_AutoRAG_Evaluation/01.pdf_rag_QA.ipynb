{
 "cells": [
  {
   "cell_type": "markdown",
   "id": "41ce62a8-251f-4f9e-b375-e93a5861c3fe",
   "metadata": {},
   "source": [
    "# PDF RAG - 소비자 분쟁조정 사례집 QA"
   ]
  },
  {
   "cell_type": "markdown",
   "id": "8e038961",
   "metadata": {},
   "source": [
    "## PDF Data"
   ]
  },
  {
   "cell_type": "markdown",
   "id": "52d16c14",
   "metadata": {},
   "source": [
    "참고 영상 - 유튜브 \n",
    "\n",
    "https://www.youtube.com/watch?v=L053qhoB6zE\n",
    "\n",
    "\n",
    "한국소비자원 - 피해구제.분쟁조정\n",
    "\n",
    "\n",
    "https://www.kca.go.kr/odr/cm/in/bjCaseBook.do\n",
    "\n",
    "\n",
    "아래 코드는 꼭, PDF를 열어보면서 진행하자.\n",
    "\n",
    "이게 결국, 프로그래머가 PDF파일에서 글의 위치, 구성, 패턴등을 파악 하고 코드를 짜야한다. "
   ]
  },
  {
   "cell_type": "code",
   "execution_count": 3,
   "id": "16e769cc",
   "metadata": {},
   "outputs": [
    {
     "data": {
      "text/plain": [
       "3"
      ]
     },
     "execution_count": 3,
     "metadata": {},
     "output_type": "execute_result"
    }
   ],
   "source": [
    "import os\n",
    "from glob import glob\n",
    "pdf_files = glob(os.path.join('./pdf_data', '*분쟁*.pdf'))\n",
    "len(pdf_files) "
   ]
  },
  {
   "cell_type": "code",
   "execution_count": 4,
   "id": "9b47c41e",
   "metadata": {},
   "outputs": [
    {
     "data": {
      "text/plain": [
       "['./pdf_data\\\\2018 물품 분쟁조정 사례집.pdf',\n",
       " './pdf_data\\\\2018 서비스·집단 분쟁조정 사례집.pdf',\n",
       " './pdf_data\\\\2018 의료 분쟁조정 사례집.pdf']"
      ]
     },
     "execution_count": 4,
     "metadata": {},
     "output_type": "execute_result"
    }
   ],
   "source": [
    "# pdf 파일 목록\n",
    "pdf_files"
   ]
  },
  {
   "cell_type": "code",
   "execution_count": 5,
   "id": "8c64527d",
   "metadata": {},
   "outputs": [
    {
     "data": {
      "text/plain": [
       "200"
      ]
     },
     "execution_count": 5,
     "metadata": {},
     "output_type": "execute_result"
    }
   ],
   "source": [
    "# pdf 파일을 읽어서 텍스트로 변환\n",
    "from langchain_community.document_loaders import PyPDFLoader\n",
    "\n",
    "loader = PyPDFLoader(pdf_files[1])\n",
    "data = loader.load()\n",
    "len(data)"
   ]
  },
  {
   "cell_type": "code",
   "execution_count": 7,
   "id": "8febe491",
   "metadata": {},
   "outputs": [
    {
     "name": "stdout",
     "output_type": "stream",
     "text": [
      "'소비자분쟁조정위원회2018\\n서비스·집단 \\n분쟁조정 사례집\\n'\n"
     ]
    }
   ],
   "source": [
    "# 첫번째 페이지의 텍스트 출력\n",
    "from pprint import pprint\n",
    "pprint(data[0].page_content) "
   ]
  },
  {
   "cell_type": "code",
   "execution_count": 8,
   "id": "087c3665",
   "metadata": {},
   "outputs": [
    {
     "name": "stdout",
     "output_type": "stream",
     "text": [
      "{'page': 0, 'source': './pdf_data\\\\2018 서비스·집단 분쟁조정 사례집.pdf'}\n"
     ]
    }
   ],
   "source": [
    "# 첫번째 페이지의 메타데이터 출력\n",
    "pprint(data[0].metadata)  "
   ]
  },
  {
   "cell_type": "code",
   "execution_count": 6,
   "id": "4a5f11f3",
   "metadata": {},
   "outputs": [
    {
     "name": "stdout",
     "output_type": "stream",
     "text": [
      "('제1장\\n'\n",
      " '일\\n'\n",
      " '반분\\n'\n",
      " '쟁\\n'\n",
      " '조정\\n'\n",
      " ' 사\\n'\n",
      " '례 (\\n'\n",
      " '서\\n'\n",
      " '비스)\\n'\n",
      " '제1장 일반분쟁조정 사례(서비스) ● 3\\n'\n",
      " '사\\n'\n",
      " '례01사건번호 2018일나565  | 결정일자 2018. 8. 7.\\n'\n",
      " '세탁 후 갑피 마모 및 경화된 가죽 \\n'\n",
      " '운동화에 대한 손해배상 요구\\n'\n",
      " '주 문\\n'\n",
      " '1. 신청인은 2018. 10. 16.까지 피신청인에게 이 사건 제품(제품명 : ○○○○ 가죽 \\n'\n",
      " '운동화, 색상 : 흰색) 1켤레를 반환한다. \\n'\n",
      " '2. 피신청인은 신청인으로부터 제1항 제품을 반환받음과 동시에 신청인에게 71,000원\\n'\n",
      " '을 지급한다.\\n'\n",
      " '이 유\\n'\n",
      " '1. 기초사실\\n'\n",
      " '가. 신청인은 2017. 6. 6. 가죽 운동화(제품명 : ○○○○ 가죽 운동화, 색상 : 흰색, \\n'\n",
      " '이하 ‘이 사건 제품’) 1켤레를 160,200원에 구매하여 착화하였고, 2018. 1. 10. 피신청인에게 이 사건 제품의 세탁을 '\n",
      " '의뢰(세탁비 4,000원)하였는데 수령 후 갑피 \\n'\n",
      " '마모 및 경화된 사실(이하 ‘이 사건 현상’)을 확인하여 피신청인이 재세탁을 하였\\n'\n",
      " '으나, 이후에도 경화현상만 다소 개선될 뿐 갑피 마모 현상이 개선되지 않아 피신청인에게 손해배상(세탁비 환급 포함)을 요구하였으며, '\n",
      " '피신청인은 세탁과실이 없\\n'\n",
      " '다는 이유로 이를 거부하였다.\\n'\n",
      " '나. 한국소비자원 신발제품심의위원회 심의 결과는 다음과 같다.\\n'\n",
      " '   \\n'\n",
      " '신청인이 주장하는 갑피 벗겨짐(스크래치 등) 증상은 관찰되나 현 제품 상태만\\n'\n",
      " '으로는 제품 훼손의 원인이 세탁 과정상 발생한 것인지 착화 환경에 따른 문제\\n'\n",
      " '인지 단정하기 어려운바, 판단 불가하다.')\n"
     ]
    }
   ],
   "source": [
    "# 10번째 페이지의 텍스트 출력\n",
    "pprint(data[10].page_content)   # 11페이지 내용"
   ]
  },
  {
   "cell_type": "code",
   "execution_count": 9,
   "id": "02dc1cd1",
   "metadata": {},
   "outputs": [
    {
     "data": {
      "text/plain": [
       "['사\\n례01사건번호 2018일나565  | 결정일자 2018. 8. 7.']"
      ]
     },
     "execution_count": 9,
     "metadata": {},
     "output_type": "execute_result"
    }
   ],
   "source": [
    "# 10번째 페이지의 텍스트에서 정보 추출\n",
    "import re\n",
    "split_pattern = r'사\\n례\\d+.*사건번호.*결정일자.*\\d{4}\\.\\s?\\d{1,2}\\.\\s?\\d{1,2}\\.'       # 해당 패턴\n",
    "split_text = re.findall(split_pattern, \"\".join(data[10].page_content))              # 을 발견하면 찾아서 출력\n",
    "split_text  "
   ]
  },
  {
   "cell_type": "code",
   "execution_count": 10,
   "id": "3e1c11ce",
   "metadata": {},
   "outputs": [],
   "source": [
    "# split_text가 존재하면, split_pattern으로 분리\n",
    "if split_text:\n",
    "    parts = re.split(split_pattern, \"\".join(data[10].page_content))"
   ]
  },
  {
   "cell_type": "code",
   "execution_count": 11,
   "id": "8ddad4f6",
   "metadata": {},
   "outputs": [
    {
     "data": {
      "text/plain": [
       "'제1장\\n일\\n반분\\n쟁\\n조정\\n 사\\n례 (\\n서\\n비스)\\n제1장 일반분쟁조정 사례(서비스) ● 3\\n'"
      ]
     },
     "execution_count": 11,
     "metadata": {},
     "output_type": "execute_result"
    }
   ],
   "source": [
    "# 분리된 텍스트 출력\n",
    "parts[0]"
   ]
  },
  {
   "cell_type": "code",
   "execution_count": 12,
   "id": "38246708",
   "metadata": {},
   "outputs": [
    {
     "data": {
      "text/plain": [
       "'\\n세탁 후 갑피 마모 및 경화된 가죽 \\n운동화에 대한 손해배상 요구\\n주 문\\n1. 신청인은 2018. 10. 16.까지 피신청인에게 이 사건 제품(제품명 : ○○○○ 가죽 \\n운동화, 색상 : 흰색) 1켤레를 반환한다. \\n2. 피신청인은 신청인으로부터 제1항 제품을 반환받음과 동시에 신청인에게 71,000원\\n을 지급한다.\\n이 유\\n1. 기초사실\\n가. 신청인은 2017. 6. 6. 가죽 운동화(제품명 : ○○○○ 가죽 운동화, 색상 : 흰색, \\n이하 ‘이 사건 제품’) 1켤레를 160,200원에 구매하여 착화하였고, 2018. 1. 10. 피신청인에게 이 사건 제품의 세탁을 의뢰(세탁비 4,000원)하였는데 수령 후 갑피 \\n마모 및 경화된 사실(이하 ‘이 사건 현상’)을 확인하여 피신청인이 재세탁을 하였\\n으나, 이후에도 경화현상만 다소 개선될 뿐 갑피 마모 현상이 개선되지 않아 피신청인에게 손해배상(세탁비 환급 포함)을 요구하였으며, 피신청인은 세탁과실이 없\\n다는 이유로 이를 거부하였다.\\n나. 한국소비자원 신발제품심의위원회 심의 결과는 다음과 같다.\\n   \\n신청인이 주장하는 갑피 벗겨짐(스크래치 등) 증상은 관찰되나 현 제품 상태만\\n으로는 제품 훼손의 원인이 세탁 과정상 발생한 것인지 착화 환경에 따른 문제\\n인지 단정하기 어려운바, 판단 불가하다.'"
      ]
     },
     "execution_count": 12,
     "metadata": {},
     "output_type": "execute_result"
    }
   ],
   "source": [
    "# 분리된 텍스트 출력\n",
    "parts[1]"
   ]
  },
  {
   "cell_type": "code",
   "execution_count": 13,
   "id": "e6ac0379",
   "metadata": {},
   "outputs": [
    {
     "data": {
      "text/plain": [
       "38"
      ]
     },
     "execution_count": 13,
     "metadata": {},
     "output_type": "execute_result"
    }
   ],
   "source": [
    "# 특정 문자열의 위치 찾기\n",
    "re.search(r'주 문\\n', parts[1]).span()[0]"
   ]
  },
  {
   "cell_type": "code",
   "execution_count": 14,
   "id": "6d83d55a",
   "metadata": {},
   "outputs": [
    {
     "data": {
      "text/plain": [
       "'세탁 후 갑피 마모 및 경화된 가죽 \\n운동화에 대한 손해배상 요구'"
      ]
     },
     "execution_count": 14,
     "metadata": {},
     "output_type": "execute_result"
    }
   ],
   "source": [
    "# 제목 추출\n",
    "title = parts[1][:re.search(r'주 문\\n', parts[1]).span()[0]].strip()\n",
    "title"
   ]
  },
  {
   "cell_type": "code",
   "execution_count": 13,
   "id": "45628cd2",
   "metadata": {},
   "outputs": [
    {
     "data": {
      "text/plain": [
       "'주 문\\n1. 신청인은 2018. 10. 16.까지 피신청인에게 이 사건 제품(제품명 : ○○○○ 가죽 \\n운동화, 색상 : 흰색) 1켤레를 반환한다. \\n2. 피신청인은 신청인으로부터 제1항 제품을 반환받음과 동시에 신청인에게 71,000원\\n을 지급한다.\\n이 유\\n1. 기초사실\\n가. 신청인은 2017. 6. 6. 가죽 운동화(제품명 : ○○○○ 가죽 운동화, 색상 : 흰색, \\n이하 ‘이 사건 제품’) 1켤레를 160,200원에 구매하여 착화하였고, 2018. 1. 10. 피신청인에게 이 사건 제품의 세탁을 의뢰(세탁비 4,000원)하였는데 수령 후 갑피 \\n마모 및 경화된 사실(이하 ‘이 사건 현상’)을 확인하여 피신청인이 재세탁을 하였\\n으나, 이후에도 경화현상만 다소 개선될 뿐 갑피 마모 현상이 개선되지 않아 피신청인에게 손해배상(세탁비 환급 포함)을 요구하였으며, 피신청인은 세탁과실이 없\\n다는 이유로 이를 거부하였다.\\n나. 한국소비자원 신발제품심의위원회 심의 결과는 다음과 같다.\\n   \\n신청인이 주장하는 갑피 벗겨짐(스크래치 등) 증상은 관찰되나 현 제품 상태만\\n으로는 제품 훼손의 원인이 세탁 과정상 발생한 것인지 착화 환경에 따른 문제\\n인지 단정하기 어려운바, 판단 불가하다.'"
      ]
     },
     "execution_count": 13,
     "metadata": {},
     "output_type": "execute_result"
    }
   ],
   "source": [
    "# 내용 추출\n",
    "content = parts[1][re.search(r'주 문\\n', parts[1]).span()[0]:]\n",
    "content"
   ]
  },
  {
   "cell_type": "code",
   "execution_count": 23,
   "id": "d477ba1f",
   "metadata": {},
   "outputs": [
    {
     "data": {
      "text/plain": [
       "'사\\n례01사건번호 2018일나565  | 결정일자 2018. 8. 7.'"
      ]
     },
     "execution_count": 23,
     "metadata": {},
     "output_type": "execute_result"
    }
   ],
   "source": [
    "# 구분 문자열에서 사례 번호 추출\n",
    "split_text[0]"
   ]
  },
  {
   "cell_type": "code",
   "execution_count": 20,
   "id": "0f5b7714",
   "metadata": {},
   "outputs": [
    {
     "data": {
      "text/plain": [
       "'01'"
      ]
     },
     "execution_count": 20,
     "metadata": {},
     "output_type": "execute_result"
    }
   ],
   "source": [
    "re.findall('례\\s?(\\d+)\\s?사건번호', split_text[0])[0]       # 사건번호 추출"
   ]
  },
  {
   "cell_type": "code",
   "execution_count": 17,
   "id": "74cfce87",
   "metadata": {},
   "outputs": [],
   "source": [
    "# 사건에 대한 메타데이터 추출하는 Pydantic 스키마 정의\n",
    "# 스키마에 맞춰서 데이터를 추출하기 위해\n",
    "\n",
    "from langchain_core.pydantic_v1 import BaseModel, Field\n",
    "\n",
    "class Case(BaseModel):\n",
    "    case_number: str = Field(description=\"The number of the case\", required=True)                                       # 케이스 넘버 \n",
    "    case_date: str = Field(description=\"The date when the case was occurred (year, month, day)\", required=True)         # 해당 사건 년월일"
   ]
  },
  {
   "cell_type": "code",
   "execution_count": 21,
   "id": "aabc8c5d",
   "metadata": {},
   "outputs": [],
   "source": [
    "# !pip install langchain_experimental"
   ]
  },
  {
   "cell_type": "code",
   "execution_count": 24,
   "id": "f50ca57e",
   "metadata": {},
   "outputs": [
    {
     "name": "stdout",
     "output_type": "stream",
     "text": [
      "text: 사\n",
      "례01사건번호 2018일나565  | 결정일자 2018. 8. 7.\n",
      "------------------------------\n",
      "case_number='2018일나565' case_date='2018. 8. 7.'\n"
     ]
    }
   ],
   "source": [
    "# Extraction chain 구성\n",
    "from langchain_core.prompts import PromptTemplate\n",
    "from langchain_experimental.llms.ollama_functions import OllamaFunctions\n",
    "\n",
    "# 프롬프트 템플릿 생성 \n",
    "prompt = PromptTemplate.from_template(\n",
    "    \"\"\" Extract relevant information from the following text:\n",
    "    \n",
    "TEXT: {text} \\n\n",
    "\n",
    "AI: \"\"\"\n",
    ")\n",
    "\n",
    "text = split_text[0]\n",
    "print('text:', text)\n",
    "print('---'*10)\n",
    "\n",
    "llm = OllamaFunctions(model=\"llama3\", format=\"json\", temperature=0)\n",
    "runnable = prompt | llm.with_structured_output(schema=Case)                 # 프롬프트와 모델이 위에서 정의한 class Case(BaseModel)에 맞게 출력할 수 있게 체인을 검 \n",
    "response = runnable.invoke({\"text\": text})                                  # \n",
    "print(response)"
   ]
  },
  {
   "cell_type": "code",
   "execution_count": 18,
   "id": "e8fb417b",
   "metadata": {},
   "outputs": [
    {
     "data": {
      "text/plain": [
       "{'case_number': '2018일나565', 'case_date': '2018. 8. 7.'}"
      ]
     },
     "execution_count": 18,
     "metadata": {},
     "output_type": "execute_result"
    }
   ],
   "source": [
    "dict(response)"
   ]
  },
  {
   "cell_type": "code",
   "execution_count": 19,
   "id": "0ea09a1d",
   "metadata": {},
   "outputs": [
    {
     "data": {
      "text/plain": [
       "'2018 서비스·집단 분쟁조정사례집\\n인 쇄 / 2019년 5월\\n발 행 / 2019년 5월발행인 / 한국소비자원 원장 이 희 숙\\n편집인 / 소비자분쟁조정위원회 위원장 \\n제 작 / 소비자분쟁조정위원회 분쟁조정사무국디자인 ․인쇄 / (사)아름다운사람들복지회\\n발행처 / 한국소비자원 소비자분쟁조정위원회\\n\\U000f02b2\\U000f02b7\\U000f02b7\\U000f02b3\\U000f02b8\\n충청북도 음성군 맹동면 용두로 54\\n전 화 / 043-880-5500'"
      ]
     },
     "execution_count": 19,
     "metadata": {},
     "output_type": "execute_result"
    }
   ],
   "source": [
    "data[-2].page_content   "
   ]
  },
  {
   "cell_type": "code",
   "execution_count": 25,
   "id": "5a8c1477",
   "metadata": {},
   "outputs": [
    {
     "data": {
      "text/plain": [
       "188"
      ]
     },
     "execution_count": 25,
     "metadata": {},
     "output_type": "execute_result"
    }
   ],
   "source": [
    "# 문서 객체를 페이지별로 순회하며 사례 번호 등 메타데이터를 추출하고 업데이트\n",
    "pdf_docs = []\n",
    "case_metadata = {}\n",
    "for doc in data[10:-2]:             # 11번째 페이지부터 마지막 2번째 페이지까지 유의미한 내용이므로 \n",
    "    # 먼저 split_pattern을 찾고, \n",
    "    split_text = re.findall(split_pattern, \"\".join(doc.page_content))\n",
    "    # 그 패턴이 있으면 \n",
    "    if split_text:\n",
    "\n",
    "        # case id\n",
    "        case_metadata['case_id'] = re.findall('례\\s?(\\d+)\\s?사건번호', split_text[0])[0]\n",
    "\n",
    "        parts = re.split(split_pattern, \"\".join(doc.page_content))\n",
    "\n",
    "        if re.search(r'주 문\\n', parts[1]):\n",
    "            # Add title to metadata\n",
    "            case_metadata['title'] = parts[1][:re.search(r'주 문\\n', parts[1]).span()[0]].replace('\\n', '').strip()     # 타이틀 중간에 줄바꿈이 있다면 제거 \n",
    "                    \n",
    "            # Update content\n",
    "            doc.page_content = parts[1][re.search(r'주 문\\n', parts[1]).span()[0]:].strip()\n",
    "        else:\n",
    "            case_metadata['title'] = ''     # 주문이 없다면, 타이틀은 비워둔다. \n",
    "            \n",
    "        # Extract metadata from text\n",
    "        i = 0\n",
    "        while i < 10:\n",
    "            try:\n",
    "                response = runnable.invoke({\"text\": split_text[0]})     # 라마 체인을 통해 \n",
    "                for k, v in dict(response).items():\n",
    "                    case_metadata[k] = v.replace(\"\\n\", \"\").replace(\" \", \"\")\n",
    "                break\n",
    "            except:\n",
    "                i += 1\n",
    "                continue\n",
    "\n",
    "        # Update metadata \n",
    "        doc.metadata.update(case_metadata)\n",
    "\n",
    "        # Append to split_docs\n",
    "        pdf_docs.append(doc)\n",
    "\n",
    "    else:\n",
    "        # Update metadata \n",
    "        doc.metadata.update(case_metadata) \n",
    "\n",
    "        # Append to split_docs\n",
    "        pdf_docs.append(doc)\n",
    "\n",
    "len(pdf_docs)"
   ]
  },
  {
   "cell_type": "code",
   "execution_count": 26,
   "id": "16c9b660",
   "metadata": {},
   "outputs": [
    {
     "data": {
      "text/plain": [
       "Document(page_content='주 문\\n1. 신청인은 2018. 10. 16.까지 피신청인에게 이 사건 제품(제품명 : ○○○○ 가죽 \\n운동화, 색상 : 흰색) 1켤레를 반환한다. \\n2. 피신청인은 신청인으로부터 제1항 제품을 반환받음과 동시에 신청인에게 71,000원\\n을 지급한다.\\n이 유\\n1. 기초사실\\n가. 신청인은 2017. 6. 6. 가죽 운동화(제품명 : ○○○○ 가죽 운동화, 색상 : 흰색, \\n이하 ‘이 사건 제품’) 1켤레를 160,200원에 구매하여 착화하였고, 2018. 1. 10. 피신청인에게 이 사건 제품의 세탁을 의뢰(세탁비 4,000원)하였는데 수령 후 갑피 \\n마모 및 경화된 사실(이하 ‘이 사건 현상’)을 확인하여 피신청인이 재세탁을 하였\\n으나, 이후에도 경화현상만 다소 개선될 뿐 갑피 마모 현상이 개선되지 않아 피신청인에게 손해배상(세탁비 환급 포함)을 요구하였으며, 피신청인은 세탁과실이 없\\n다는 이유로 이를 거부하였다.\\n나. 한국소비자원 신발제품심의위원회 심의 결과는 다음과 같다.\\n   \\n신청인이 주장하는 갑피 벗겨짐(스크래치 등) 증상은 관찰되나 현 제품 상태만\\n으로는 제품 훼손의 원인이 세탁 과정상 발생한 것인지 착화 환경에 따른 문제\\n인지 단정하기 어려운바, 판단 불가하다.', metadata={'source': './pdf_data\\\\2018 서비스·집단 분쟁조정 사례집.pdf', 'page': 10, 'case_id': '01', 'title': '세탁 후 갑피 마모 및 경화된 가죽 운동화에 대한 손해배상 요구', 'case_number': '2018일나565', 'case_date': '2018.8.7.'})"
      ]
     },
     "execution_count": 26,
     "metadata": {},
     "output_type": "execute_result"
    }
   ],
   "source": [
    "pdf_docs[0]"
   ]
  },
  {
   "cell_type": "code",
   "execution_count": 21,
   "id": "b07eacae",
   "metadata": {},
   "outputs": [
    {
     "name": "stdout",
     "output_type": "stream",
     "text": [
      "('주 문\\n'\n",
      " '1. 신청인은 2018. 10. 16.까지 피신청인에게 이 사건 제품(제품명 : ○○○○ 가죽 \\n'\n",
      " '운동화, 색상 : 흰색) 1켤레를 반환한다. \\n'\n",
      " '2. 피신청인은 신청인으로부터 제1항 제품을 반환받음과 동시에 신청인에게 71,000원\\n'\n",
      " '을 지급한다.\\n'\n",
      " '이 유\\n'\n",
      " '1. 기초사실\\n'\n",
      " '가. 신청인은 2017. 6. 6. 가죽 운동화(제품명 : ○○○○ 가죽 운동화, 색상 : 흰색, \\n'\n",
      " '이하 ‘이 사건 제품’) 1켤레를 160,200원에 구매하여 착화하였고, 2018. 1. 10. 피신청인에게 이 사건 제품의 세탁을 '\n",
      " '의뢰(세탁비 4,000원)하였는데 수령 후 갑피 \\n'\n",
      " '마모 및 경화된 사실(이하 ‘이 사건 현상’)을 확인하여 피신청인이 재세탁을 하였\\n'\n",
      " '으나, 이후에도 경화현상만 다소 개선될 뿐 갑피 마모 현상이 개선되지 않아 피신청인에게 손해배상(세탁비 환급 포함)을 요구하였으며, '\n",
      " '피신청인은 세탁과실이 없\\n'\n",
      " '다는 이유로 이를 거부하였다.\\n'\n",
      " '나. 한국소비자원 신발제품심의위원회 심의 결과는 다음과 같다.\\n'\n",
      " '   \\n'\n",
      " '신청인이 주장하는 갑피 벗겨짐(스크래치 등) 증상은 관찰되나 현 제품 상태만\\n'\n",
      " '으로는 제품 훼손의 원인이 세탁 과정상 발생한 것인지 착화 환경에 따른 문제\\n'\n",
      " '인지 단정하기 어려운바, 판단 불가하다.')\n"
     ]
    }
   ],
   "source": [
    "pprint(pdf_docs[0].page_content)"
   ]
  },
  {
   "cell_type": "code",
   "execution_count": 27,
   "id": "94d99a4f",
   "metadata": {},
   "outputs": [
    {
     "name": "stdout",
     "output_type": "stream",
     "text": [
      "{'case_date': '2018.8.7.',\n",
      " 'case_id': '01',\n",
      " 'case_number': '2018일나565',\n",
      " 'page': 10,\n",
      " 'source': './pdf_data\\\\2018 서비스·집단 분쟁조정 사례집.pdf',\n",
      " 'title': '세탁 후 갑피 마모 및 경화된 가죽 운동화에 대한 손해배상 요구'}\n"
     ]
    }
   ],
   "source": [
    "pprint(pdf_docs[0].metadata)"
   ]
  },
  {
   "cell_type": "markdown",
   "id": "a26da56f",
   "metadata": {},
   "source": [
    "## Embedding"
   ]
  },
  {
   "cell_type": "code",
   "execution_count": 30,
   "id": "66bce18c",
   "metadata": {},
   "outputs": [],
   "source": [
    "# !pip install sentence-transformers"
   ]
  },
  {
   "cell_type": "code",
   "execution_count": 31,
   "id": "7059c741",
   "metadata": {},
   "outputs": [
    {
     "name": "stderr",
     "output_type": "stream",
     "text": [
      "c:\\Users\\kim_h\\anaconda3\\envs\\rag\\Lib\\site-packages\\sentence_transformers\\cross_encoder\\CrossEncoder.py:11: TqdmExperimentalWarning: Using `tqdm.autonotebook.tqdm` in notebook mode. Use `tqdm.tqdm` instead to force console mode (e.g. in jupyter console)\n",
      "  from tqdm.autonotebook import tqdm, trange\n"
     ]
    },
    {
     "data": {
      "application/vnd.jupyter.widget-view+json": {
       "model_id": "49b4c53a3e0e41c7b439bdcfb749fab9",
       "version_major": 2,
       "version_minor": 0
      },
      "text/plain": [
       "modules.json:   0%|          | 0.00/229 [00:00<?, ?B/s]"
      ]
     },
     "metadata": {},
     "output_type": "display_data"
    },
    {
     "name": "stderr",
     "output_type": "stream",
     "text": [
      "c:\\Users\\kim_h\\anaconda3\\envs\\rag\\Lib\\site-packages\\huggingface_hub\\file_download.py:157: UserWarning: `huggingface_hub` cache-system uses symlinks by default to efficiently store duplicated files but your machine does not support them in C:\\Users\\kim_h\\.cache\\huggingface\\hub\\models--snunlp--KR-SBERT-V40K-klueNLI-augSTS. Caching files will still work but in a degraded version that might require more space on your disk. This warning can be disabled by setting the `HF_HUB_DISABLE_SYMLINKS_WARNING` environment variable. For more details, see https://huggingface.co/docs/huggingface_hub/how-to-cache#limitations.\n",
      "To support symlinks on Windows, you either need to activate Developer Mode or to run Python as an administrator. In order to see activate developer mode, see this article: https://docs.microsoft.com/en-us/windows/apps/get-started/enable-your-device-for-development\n",
      "  warnings.warn(message)\n"
     ]
    },
    {
     "data": {
      "application/vnd.jupyter.widget-view+json": {
       "model_id": "195bf1b026b8423ebacd6a8e470e3824",
       "version_major": 2,
       "version_minor": 0
      },
      "text/plain": [
       "config_sentence_transformers.json:   0%|          | 0.00/124 [00:00<?, ?B/s]"
      ]
     },
     "metadata": {},
     "output_type": "display_data"
    },
    {
     "data": {
      "application/vnd.jupyter.widget-view+json": {
       "model_id": "f8f68bf3fe0845549a5953dbd91839ae",
       "version_major": 2,
       "version_minor": 0
      },
      "text/plain": [
       "README.md:   0%|          | 0.00/4.02k [00:00<?, ?B/s]"
      ]
     },
     "metadata": {},
     "output_type": "display_data"
    },
    {
     "data": {
      "application/vnd.jupyter.widget-view+json": {
       "model_id": "f4537512883340509814794468e59c81",
       "version_major": 2,
       "version_minor": 0
      },
      "text/plain": [
       "sentence_bert_config.json:   0%|          | 0.00/53.0 [00:00<?, ?B/s]"
      ]
     },
     "metadata": {},
     "output_type": "display_data"
    },
    {
     "data": {
      "application/vnd.jupyter.widget-view+json": {
       "model_id": "82d2f48d7bad4b36a1d19e23db838c4c",
       "version_major": 2,
       "version_minor": 0
      },
      "text/plain": [
       "config.json:   0%|          | 0.00/707 [00:00<?, ?B/s]"
      ]
     },
     "metadata": {},
     "output_type": "display_data"
    },
    {
     "data": {
      "application/vnd.jupyter.widget-view+json": {
       "model_id": "729264857ce844799776411fba773291",
       "version_major": 2,
       "version_minor": 0
      },
      "text/plain": [
       "pytorch_model.bin:   0%|          | 0.00/467M [00:00<?, ?B/s]"
      ]
     },
     "metadata": {},
     "output_type": "display_data"
    },
    {
     "data": {
      "application/vnd.jupyter.widget-view+json": {
       "model_id": "bb4c996dd1b74e979f7543004a1fbf60",
       "version_major": 2,
       "version_minor": 0
      },
      "text/plain": [
       "tokenizer_config.json:   0%|          | 0.00/394 [00:00<?, ?B/s]"
      ]
     },
     "metadata": {},
     "output_type": "display_data"
    },
    {
     "data": {
      "application/vnd.jupyter.widget-view+json": {
       "model_id": "a5e2b2badedc41779474ed060ab87d38",
       "version_major": 2,
       "version_minor": 0
      },
      "text/plain": [
       "vocab.txt:   0%|          | 0.00/336k [00:00<?, ?B/s]"
      ]
     },
     "metadata": {},
     "output_type": "display_data"
    },
    {
     "data": {
      "application/vnd.jupyter.widget-view+json": {
       "model_id": "3e7689c6ebbb44d1af0599201f85b4e0",
       "version_major": 2,
       "version_minor": 0
      },
      "text/plain": [
       "tokenizer.json:   0%|          | 0.00/967k [00:00<?, ?B/s]"
      ]
     },
     "metadata": {},
     "output_type": "display_data"
    },
    {
     "data": {
      "application/vnd.jupyter.widget-view+json": {
       "model_id": "a6add33a700842bc98fb53b4bd4904fb",
       "version_major": 2,
       "version_minor": 0
      },
      "text/plain": [
       "special_tokens_map.json:   0%|          | 0.00/112 [00:00<?, ?B/s]"
      ]
     },
     "metadata": {},
     "output_type": "display_data"
    },
    {
     "data": {
      "application/vnd.jupyter.widget-view+json": {
       "model_id": "df40e42d05ad4678b4b798fe76d48933",
       "version_major": 2,
       "version_minor": 0
      },
      "text/plain": [
       "1_Pooling/config.json:   0%|          | 0.00/190 [00:00<?, ?B/s]"
      ]
     },
     "metadata": {},
     "output_type": "display_data"
    }
   ],
   "source": [
    "# HugoingFace Embeddings를 다운로드\n",
    "from langchain.embeddings import HuggingFaceEmbeddings\n",
    "\n",
    "# 한글 데이터 임베딩을 위해 허깅페이스에 한국어로 fine-tuning된 서울대에서 공개한 KR-SBERT 임베딩 모델을 가져옴 \n",
    "embeddings_model = HuggingFaceEmbeddings(\n",
    "    model_name=\"snunlp/KR-SBERT-V40K-klueNLI-augSTS\",\n",
    ")"
   ]
  },
  {
   "cell_type": "code",
   "execution_count": 32,
   "id": "54c4d908",
   "metadata": {},
   "outputs": [
    {
     "data": {
      "text/plain": [
       "(5, 768)"
      ]
     },
     "execution_count": 32,
     "metadata": {},
     "output_type": "execute_result"
    }
   ],
   "source": [
    "# 문서를 임베딩\n",
    "# 예시 질문들 \n",
    "embeddings = embeddings_model.embed_documents(\n",
    "    [\n",
    "        \"온라인 쇼핑몰에서 주문한 제품이 불량품으로 배송되었습니다. 이에 대한 법적 책임은 누구에게 있나요?\",\n",
    "        \"구입한 전자제품이 고장나서 환불을 요청했지만 거부당했습니다. 피해 보상을 받을 수 있나요?\",\n",
    "        \"호텔 예약 후 도착했는데 예약이 취소되었다고 했습니다. 이에 대한 대응 방법은 무엇인가요?\",\n",
    "        \"자동차 수리 후 동일한 문제가 재발했습니다. 수리업체에 대한 법적 조치를 취할 수 있나요?\",\n",
    "        \"항공편이 지연되어 중요한 일정을 놓쳤습니다. 이에 대한 피해 보상을 받을 수 있나요?\"\n",
    "    ]\n",
    ")\n",
    "len(embeddings), len(embeddings[0])"
   ]
  },
  {
   "cell_type": "code",
   "execution_count": 33,
   "id": "4357bce1",
   "metadata": {},
   "outputs": [
    {
     "data": {
      "text/plain": [
       "[0.7448058128356934,\n",
       " -0.26126280426979065,\n",
       " -0.2569150924682617,\n",
       " 0.12548868358135223,\n",
       " -0.02586393617093563]"
      ]
     },
     "execution_count": 33,
     "metadata": {},
     "output_type": "execute_result"
    }
   ],
   "source": [
    "# 다음 쿼리에 대해 임베딩 벡터를 살펴 본다. \n",
    "embedded_query = embeddings_model.embed_query(\"에어컨 제품 불량에 대해서 보상을 받을 수 있을까요?\")\n",
    "embedded_query[:5]"
   ]
  },
  {
   "cell_type": "code",
   "execution_count": 34,
   "id": "baf0cb96",
   "metadata": {},
   "outputs": [
    {
     "name": "stdout",
     "output_type": "stream",
     "text": [
      "0.453043633495248\n",
      "0.6305272259265237\n",
      "0.3854963691295418\n",
      "0.4729427836622993\n",
      "0.3779669630503054\n"
     ]
    }
   ],
   "source": [
    "# 코사인 유사도\n",
    "import numpy as np\n",
    "from numpy import dot\n",
    "from numpy.linalg import norm\n",
    "\n",
    "def cos_sim(A, B):\n",
    "  return dot(A, B)/(norm(A)*norm(B))\n",
    "\n",
    "# 쿼리와 문서 간의 코사인 유사도 계산\n",
    "for embedding in embeddings:\n",
    "    print(cos_sim(embedding, embedded_query))\n",
    "    \n",
    "# 에어컨 제품 불량에 대한 보상 질문은 두번째(\"구입한 전자제품이 고장나서 환불을 요청했지만 ~\")와 가장 유사함을 알 수 있다."
   ]
  },
  {
   "cell_type": "markdown",
   "id": "ae51fed8",
   "metadata": {},
   "source": [
    "## Chunking"
   ]
  },
  {
   "cell_type": "code",
   "execution_count": 35,
   "id": "33c991d1",
   "metadata": {},
   "outputs": [
    {
     "name": "stdout",
     "output_type": "stream",
     "text": [
      "29 12\n",
      "[2, 19224, 8918, 20035, 5051, 9665, 22898, 9622, 3317, 21981, 35, 3]\n"
     ]
    }
   ],
   "source": [
    "# HugoingFace Embedding 모델의 Tokenizer를 사용하여 토큰화\n",
    "from transformers import AutoTokenizer\n",
    "tokenizer = AutoTokenizer.from_pretrained('snunlp/KR-SBERT-V40K-klueNLI-augSTS')\n",
    "\n",
    "text = \"에어컨 제품 불량에 대해서 보상을 받을 수 있을까요?\"\n",
    "encoded = tokenizer.encode(text)\n",
    "print(len(text), len(encoded))  # 텍스트 수, 토큰 수 \n",
    "print(encoded)      "
   ]
  },
  {
   "cell_type": "code",
   "execution_count": 36,
   "id": "f94e170f",
   "metadata": {},
   "outputs": [
    {
     "name": "stdout",
     "output_type": "stream",
     "text": [
      "905\n",
      "page_content='주 문\\n1. 신청인은 2018. 10. 16.까지 피신청인에게 이 사건 제품(제품명 : ○○○○ 가죽 \\n운동화, 색상 : 흰색) 1켤레를 반환한다. \\n2. 피신청인은 신청인으로부터 제1항 제품을 반환받음과 동시에 신청인에게 71,000원\\n을 지급한다.\\n이 유\\n1. 기초사실' metadata={'source': './pdf_data\\\\2018 서비스·집단 분쟁조정 사례집.pdf', 'page': 10, 'case_id': '01', 'title': '세탁 후 갑피 마모 및 경화된 가죽 운동화에 대한 손해배상 요구', 'case_number': '2018일나565', 'case_date': '2018.8.7.'}\n"
     ]
    }
   ],
   "source": [
    "# Token 수를 기준으로 문서를 청크 단위로 분할\n",
    "from langchain_text_splitters import RecursiveCharacterTextSplitter\n",
    "\n",
    "# text_splitter 정의 \n",
    "text_splitter = RecursiveCharacterTextSplitter.from_huggingface_tokenizer(\n",
    "    tokenizer = tokenizer,\n",
    "    chunk_size = 120,           # 120단어 기준으로 분할을 해주고 \n",
    "    chunk_overlap  = 10,        # chunk는 10단어는 겹치도록 \n",
    ")\n",
    "\n",
    "# 문서 분할\n",
    "split_docs = text_splitter.split_documents(pdf_docs)            \n",
    "print(len(split_docs))      \n",
    "print(split_docs[0])"
   ]
  },
  {
   "cell_type": "code",
   "execution_count": 37,
   "id": "7fa49d34",
   "metadata": {},
   "outputs": [
    {
     "data": {
      "text/plain": [
       "(152, 71)"
      ]
     },
     "execution_count": 37,
     "metadata": {},
     "output_type": "execute_result"
    }
   ],
   "source": [
    "sample_text = split_docs[0].page_content\n",
    "sample_encoded = tokenizer.encode(sample_text)\n",
    "len(sample_text), len(sample_encoded)"
   ]
  },
  {
   "cell_type": "code",
   "execution_count": 38,
   "id": "bf733259",
   "metadata": {},
   "outputs": [
    {
     "name": "stdout",
     "output_type": "stream",
     "text": [
      "71\n",
      "('주 문\\n'\n",
      " '1. 신청인은 2018. 10. 16.까지 피신청인에게 이 사건 제품(제품명 : ○○○○ 가죽 \\n'\n",
      " '운동화, 색상 : 흰색) 1켤레를 반환한다. \\n'\n",
      " '2. 피신청인은 신청인으로부터 제1항 제품을 반환받음과 동시에 신청인에게 71,000원\\n'\n",
      " '을 지급한다.\\n'\n",
      " '이 유\\n'\n",
      " '1. 기초사실')\n"
     ]
    }
   ],
   "source": [
    "print(len(tokenizer.encode(split_docs[0].page_content)))\n",
    "pprint(split_docs[0].page_content)"
   ]
  },
  {
   "cell_type": "code",
   "execution_count": 39,
   "id": "dfcdc407",
   "metadata": {},
   "outputs": [
    {
     "name": "stdout",
     "output_type": "stream",
     "text": [
      "107\n",
      "('1. 기초사실\\n'\n",
      " '가. 신청인은 2017. 6. 6. 가죽 운동화(제품명 : ○○○○ 가죽 운동화, 색상 : 흰색, \\n'\n",
      " '이하 ‘이 사건 제품’) 1켤레를 160,200원에 구매하여 착화하였고, 2018. 1. 10. 피신청인에게 이 사건 제품의 세탁을 '\n",
      " '의뢰(세탁비 4,000원)하였는데 수령 후 갑피 \\n'\n",
      " '마모 및 경화된 사실(이하 ‘이 사건 현상’)을 확인하여 피신청인이 재세탁을 하였')\n"
     ]
    }
   ],
   "source": [
    "print(len(tokenizer.encode(split_docs[1].page_content)))\n",
    "pprint(split_docs[1].page_content)"
   ]
  },
  {
   "cell_type": "code",
   "execution_count": 40,
   "id": "b8967cb1",
   "metadata": {},
   "outputs": [
    {
     "data": {
      "text/plain": [
       "'1. 기초사실 가. 신청인은 2017. 6. 6. 가죽 운동화(제품명 : ○○○○ 가죽 운동화, 색상 : 흰색,  이하 ‘이 사건 제품’) 1켤레를 160,200원에 구매하여 착화하였고, 2018. 1. 10. 피신청인에게 이 사건 제품의 세탁을 의뢰(세탁비 4,000원)하였는데 수령 후 갑피  마모 및 경화된 사실(이하 ‘이 사건 현상’)을 확인하여 피신청인이 재세탁을 하였'"
      ]
     },
     "execution_count": 40,
     "metadata": {},
     "output_type": "execute_result"
    }
   ],
   "source": [
    "# 위에 출력된 결과를 보면 색상: 흰색 하고 줄바꿈이 일어나 버린다. \n",
    "\n",
    "# \"마침표\" 뒤에 나오는 줄바꿈 문자는 그대로 두고 나머지 줄바꿈 문자만 제거\n",
    "result = re.sub(r'(?<!\\.)\\n', ' ', split_docs[1].page_content)\n",
    "result"
   ]
  },
  {
   "cell_type": "code",
   "execution_count": 41,
   "id": "4131da02",
   "metadata": {},
   "outputs": [
    {
     "name": "stdout",
     "output_type": "stream",
     "text": [
      "{'case_date': '2018.8.7.',\n",
      " 'case_id': '01',\n",
      " 'case_number': '2018일나565',\n",
      " 'page': 10,\n",
      " 'source': './pdf_data\\\\2018 서비스·집단 분쟁조정 사례집.pdf',\n",
      " 'title': '세탁 후 갑피 마모 및 경화된 가죽 운동화에 대한 손해배상 요구'}\n"
     ]
    }
   ],
   "source": [
    "pprint(split_docs[0].metadata)"
   ]
  },
  {
   "cell_type": "code",
   "execution_count": 42,
   "id": "799aec4b",
   "metadata": {},
   "outputs": [
    {
     "name": "stdout",
     "output_type": "stream",
     "text": [
      "{'case_date': '2018.8.7.',\n",
      " 'case_id': '01',\n",
      " 'case_number': '2018일나565',\n",
      " 'page': 10,\n",
      " 'source': './pdf_data\\\\2018 서비스·집단 분쟁조정 사례집.pdf',\n",
      " 'title': '세탁 후 갑피 마모 및 경화된 가죽 운동화에 대한 손해배상 요구'}\n"
     ]
    }
   ],
   "source": [
    "pprint(split_docs[1].metadata)"
   ]
  },
  {
   "cell_type": "markdown",
   "id": "9f97395c",
   "metadata": {},
   "source": [
    "이렇게 메타데이터를 통해 데이터를 관리해야함"
   ]
  },
  {
   "cell_type": "code",
   "execution_count": 43,
   "id": "3a1a4086",
   "metadata": {},
   "outputs": [
    {
     "data": {
      "text/plain": [
       "\"### 이 사건은 '세탁 후 갑피 마모 및 경화된 가죽 운동화에 대한 손해배상 요구'에 대한 사례입니다.\""
      ]
     },
     "execution_count": 43,
     "metadata": {},
     "output_type": "execute_result"
    }
   ],
   "source": [
    "# 어떤 사건인지, 사건의 전반적인 개요를 나타낼 수 있는 title 부분 \n",
    "f\"### 이 사건은 '{split_docs[1].metadata['title']}'에 대한 사례입니다.\""
   ]
  },
  {
   "cell_type": "markdown",
   "id": "f38bc41b",
   "metadata": {},
   "source": [
    "# Indexing"
   ]
  },
  {
   "cell_type": "code",
   "execution_count": 44,
   "id": "a557396b",
   "metadata": {},
   "outputs": [
    {
     "name": "stdout",
     "output_type": "stream",
     "text": [
      "### 이 사건은 '세탁 후 갑피 마모 및 경화된 가죽 운동화에 대한 손해배상 요구'에 대한 사례입니다.\n",
      "\n",
      "주 문 1. 신청인은 2018. 10. 16.까지 피신청인에게 이 사건 제품(제품명 : ○○○○ 가죽  운동화, 색상 : 흰색) 1켤레를 반환한다.  2. 피신청인은 신청인으로부터 제1항 제품을 반환받음과 동시에 신청인에게 71,000원 을 지급한다.\n",
      "이 유 1. 기초사실\n"
     ]
    }
   ],
   "source": [
    "final_docs = []\n",
    "for doc in split_docs:\n",
    "    doc.page_content = f\"### 이 사건은 '{doc.metadata['title']}'에 대한 사례입니다.\\n\\n\" + \\\n",
    "    re.sub(r'(?<!\\.)\\n', ' ', doc.page_content)\n",
    "    final_docs.append(doc)\n",
    "\n",
    "print(final_docs[0].page_content)"
   ]
  },
  {
   "cell_type": "code",
   "execution_count": 45,
   "id": "8073e9ec",
   "metadata": {},
   "outputs": [
    {
     "name": "stdout",
     "output_type": "stream",
     "text": [
      "### 이 사건은 '세탁 후 갑피 마모 및 경화된 가죽 운동화에 대한 손해배상 요구'에 대한 사례입니다.\n",
      "\n",
      "1. 기초사실 가. 신청인은 2017. 6. 6. 가죽 운동화(제품명 : ○○○○ 가죽 운동화, 색상 : 흰색,  이하 ‘이 사건 제품’) 1켤레를 160,200원에 구매하여 착화하였고, 2018. 1. 10. 피신청인에게 이 사건 제품의 세탁을 의뢰(세탁비 4,000원)하였는데 수령 후 갑피  마모 및 경화된 사실(이하 ‘이 사건 현상’)을 확인하여 피신청인이 재세탁을 하였\n"
     ]
    }
   ],
   "source": [
    "print(final_docs[1].page_content)"
   ]
  },
  {
   "cell_type": "code",
   "execution_count": 47,
   "id": "e4a0359d",
   "metadata": {},
   "outputs": [],
   "source": [
    "# Chroma를 통한 임베딩 데이터 VectorDB로 저장 \n",
    "\n",
    "from langchain_community.vectorstores import Chroma\n",
    "vectorstore = Chroma.from_documents(documents=final_docs, \n",
    "                                    embedding=embeddings_model, # 허깅페이스에 한국어 KR-SBERT 임베딩 모델로 \n",
    "                                    collection_name=\"consumer_case_qa\",\n",
    "                                    persist_directory=\"./chroma_db\")    # 로컬의 chroma_db라는 폴더에 저장 "
   ]
  },
  {
   "cell_type": "code",
   "execution_count": 52,
   "id": "e6105953",
   "metadata": {},
   "outputs": [
    {
     "name": "stdout",
     "output_type": "stream",
     "text": [
      "사례:01, 페이지 번호: 11\n",
      "### 이 사건은 '세탁 후 갑피 마모 및 경화된 가죽 운동화에 대한 손해배상 요구'에 대한 사례입니다.\n",
      "\n",
      "므로, 세탁과실에 따른 손해배상 및 세탁비 환급을 요구한다.\n",
      "이에 대하여 피신청인은 이 사건 제품을 인수하였을 당시 이미 제품 상태가 좋지 않았 고, 한국소비자원의 신발제품심의위원회에서도 세탁과실로 인정하지 않았기 때문에 신 청인의 요구를 수용할 수 \n",
      "------------------------------\n",
      "사례:01, 페이지 번호: 11\n",
      "### 이 사건은 '세탁 후 갑피 마모 및 경화된 가죽 운동화에 대한 손해배상 요구'에 대한 사례입니다.\n",
      "\n",
      "세탁물에 대하여 세탁업자는 고객에게 세탁요금을 청구하지 못하므로, 세탁업자인 피신청인이 세탁비 4,000원을 신청인에게 환급이 상당하다.\n",
      "이상을 종합하면, 신청인은 피신청인에게 이 사건 제품을 반환하고 피신청인은 손해배 상액 67,000원(112,14\n",
      "------------------------------\n",
      "사례:01, 페이지 번호: 11\n",
      "### 이 사건은 '세탁 후 갑피 마모 및 경화된 가죽 운동화에 대한 손해배상 요구'에 대한 사례입니다.\n",
      "\n",
      "하여 그 손해가 발생 및 확대되었을 가능성을 배제할 수 없는 점 등에 비추어 볼 때,  손해의 공평·타당한 분담이라는 손해배상 제도의 지도이념과 상호 양보를 통한 분쟁의 원만한 해결이라는 조정의 취지를 고려하여, 피신청인의 책임을 60%로 제한함이 상\n",
      "------------------------------\n",
      "사례:01, 페이지 번호: 10\n",
      "### 이 사건은 '세탁 후 갑피 마모 및 경화된 가죽 운동화에 대한 손해배상 요구'에 대한 사례입니다.\n",
      "\n",
      "으나, 이후에도 경화현상만 다소 개선될 뿐 갑피 마모 현상이 개선되지 않아 피신청인에게 손해배상(세탁비 환급 포함)을 요구하였으며, 피신청인은 세탁과실이 없 다는 이유로 이를 거부하였다.\n",
      "나. 한국소비자원 신발제품심의위원회 심의 결과는 다음과 같다.\n",
      "\n",
      "------------------------------\n",
      "사례:01, 페이지 번호: 11\n",
      "### 이 사건은 '세탁 후 갑피 마모 및 경화된 가죽 운동화에 대한 손해배상 요구'에 대한 사례입니다.\n",
      "\n",
      "살피건대, 피신청인은 세탁 전부터 이 사건 제품의 상태가 좋지 않았다고 주장하나,  다음과 같은 사정들, 즉 ① 피신청인이 세탁을 위해 이 사건 제품을 인수하면서 세탁 물의 하자유무가 작성된 인수증을 교부하지 않은 점, ② 「세탁업 표준약관」 제3조 \n",
      "------------------------------\n"
     ]
    }
   ],
   "source": [
    "chroma_docs = vectorstore.similarity_search(\"세탁 후 오염에 대한 손해배상은 어떻게 이루어지나요?\", k=5)     # 5개의 유사한 문서 검색 하여 가져오기 \n",
    "for doc in chroma_docs:\n",
    "    case_id = str(doc.metadata[\"case_id\"])\n",
    "    page_num = str(doc.metadata[\"page\"])\n",
    "    print(f\"사례:{case_id}, 페이지 번호: {page_num}\")              # 케이스 번호와, PDF 문서에서의 페이지 번호\n",
    "    print(doc.page_content[:200])                                   # 본문 내용 일부 \n",
    "    print('---'*10)"
   ]
  },
  {
   "cell_type": "markdown",
   "id": "236f6492",
   "metadata": {},
   "source": [
    "## Retrieval\n",
    "\n",
    "임베딩된 데이터가 쌓여있는 VectorDB에 접근하여 검색"
   ]
  },
  {
   "cell_type": "code",
   "execution_count": 54,
   "id": "785a145c",
   "metadata": {},
   "outputs": [
    {
     "name": "stdout",
     "output_type": "stream",
     "text": [
      "01 11 ### 이 사건은 '세탁 후 갑피 마모 및 경화된 가죽 운동화에 대한 손해배상 요구'에 대한 사례입니다.\n",
      "\n",
      "므로, 세탁과실에 따른 손해배상 및 세탁비 환급을 요구한다.\n",
      "이에 대하여\n",
      "------------------------------\n",
      "01 11 ### 이 사건은 '세탁 후 갑피 마모 및 경화된 가죽 운동화에 대한 손해배상 요구'에 대한 사례입니다.\n",
      "\n",
      "세탁물에 대하여 세탁업자는 고객에게 세탁요금을 청구하지 못하므로, 세탁업\n",
      "------------------------------\n",
      "01 11 ### 이 사건은 '세탁 후 갑피 마모 및 경화된 가죽 운동화에 대한 손해배상 요구'에 대한 사례입니다.\n",
      "\n",
      "하여 그 손해가 발생 및 확대되었을 가능성을 배제할 수 없는 점 등에 비\n",
      "------------------------------\n",
      "01 10 ### 이 사건은 '세탁 후 갑피 마모 및 경화된 가죽 운동화에 대한 손해배상 요구'에 대한 사례입니다.\n",
      "\n",
      "으나, 이후에도 경화현상만 다소 개선될 뿐 갑피 마모 현상이 개선되지 않\n",
      "------------------------------\n",
      "01 11 ### 이 사건은 '세탁 후 갑피 마모 및 경화된 가죽 운동화에 대한 손해배상 요구'에 대한 사례입니다.\n",
      "\n",
      "살피건대, 피신청인은 세탁 전부터 이 사건 제품의 상태가 좋지 않았다고 \n",
      "------------------------------\n"
     ]
    }
   ],
   "source": [
    "# Top K\n",
    "retriever = vectorstore.as_retriever(\n",
    "    search_kwargs={\"k\": 5}                  # 유사도 기준 유사한 내용 5가지 \n",
    ")\n",
    "\n",
    "query = \"세탁 후 오염에 대한 손해배상은 어떻게 이루어지나요?\"\n",
    "retrieved_docs = retriever.invoke(query)\n",
    "\n",
    "for doc in retrieved_docs:\n",
    "    print(str(doc.metadata[\"case_id\"]), str(doc.metadata[\"page\"]), doc.page_content[:100])\n",
    "    print('---'*10)"
   ]
  },
  {
   "cell_type": "code",
   "execution_count": 55,
   "id": "350a93ba",
   "metadata": {},
   "outputs": [
    {
     "name": "stdout",
     "output_type": "stream",
     "text": [
      "01 11 ### 이 사건은 '세탁 후 갑피 마모 및 경화된 가죽 운동화에 대한 손해배상 요구'에 대한 사례입니다.\n",
      "\n",
      "므로, 세탁과실에 따른 손해배상 및 세탁비 환급을 요구한다.\n",
      "이에 대하여\n",
      "01 11 ### 이 사건은 '세탁 후 갑피 마모 및 경화된 가죽 운동화에 대한 손해배상 요구'에 대한 사례입니다.\n",
      "\n",
      "세탁물에 대하여 세탁업자는 고객에게 세탁요금을 청구하지 못하므로, 세탁업\n",
      "01 11 ### 이 사건은 '세탁 후 갑피 마모 및 경화된 가죽 운동화에 대한 손해배상 요구'에 대한 사례입니다.\n",
      "\n",
      "하여 그 손해가 발생 및 확대되었을 가능성을 배제할 수 없는 점 등에 비\n",
      "01 10 ### 이 사건은 '세탁 후 갑피 마모 및 경화된 가죽 운동화에 대한 손해배상 요구'에 대한 사례입니다.\n",
      "\n",
      "으나, 이후에도 경화현상만 다소 개선될 뿐 갑피 마모 현상이 개선되지 않\n",
      "01 11 ### 이 사건은 '세탁 후 갑피 마모 및 경화된 가죽 운동화에 대한 손해배상 요구'에 대한 사례입니다.\n",
      "\n",
      "살피건대, 피신청인은 세탁 전부터 이 사건 제품의 상태가 좋지 않았다고 \n"
     ]
    }
   ],
   "source": [
    "# metadata를 이용한 필터링\n",
    "# 잘못된 정보 검색을 막기 위해 \n",
    "\n",
    "retriever = vectorstore.as_retriever(\n",
    "    search_kwargs={\n",
    "        'k': 5,\n",
    "        'filter': {'case_id':'01'}          # 질문에 맞춰 검색 조건을 정해서 필터링 함으로써 더 퀄리티 있는 대답을 할 수 있을 것임 \n",
    "        }\n",
    ")\n",
    "\n",
    "\n",
    "query = \"세탁 후 오염에 대한 손해배상은 어떻게 이루어지나요?\"\n",
    "retrieved_docs = retriever.invoke(query)\n",
    "\n",
    "for doc in retrieved_docs:\n",
    "    print(str(doc.metadata[\"case_id\"]), str(doc.metadata[\"page\"]), doc.page_content[:100])"
   ]
  },
  {
   "cell_type": "code",
   "execution_count": 56,
   "id": "ff6d1f7c",
   "metadata": {},
   "outputs": [
    {
     "name": "stdout",
     "output_type": "stream",
     "text": [
      "01 11 ### 이 사건은 '세탁 후 갑피 마모 및 경화된 가죽 운동화에 대한 손해배상 요구'에 대한 사례입니다.\n",
      "\n",
      "므로, 세탁과실에 따른 손해배상 및 세탁비 환급을 요구한다.\n",
      "이에 대하여\n",
      "01 11 ### 이 사건은 '세탁 후 갑피 마모 및 경화된 가죽 운동화에 대한 손해배상 요구'에 대한 사례입니다.\n",
      "\n",
      "세탁물에 대하여 세탁업자는 고객에게 세탁요금을 청구하지 못하므로, 세탁업\n",
      "01 11 ### 이 사건은 '세탁 후 갑피 마모 및 경화된 가죽 운동화에 대한 손해배상 요구'에 대한 사례입니다.\n",
      "\n",
      "하여 그 손해가 발생 및 확대되었을 가능성을 배제할 수 없는 점 등에 비\n",
      "01 10 ### 이 사건은 '세탁 후 갑피 마모 및 경화된 가죽 운동화에 대한 손해배상 요구'에 대한 사례입니다.\n",
      "\n",
      "으나, 이후에도 경화현상만 다소 개선될 뿐 갑피 마모 현상이 개선되지 않\n",
      "01 11 ### 이 사건은 '세탁 후 갑피 마모 및 경화된 가죽 운동화에 대한 손해배상 요구'에 대한 사례입니다.\n",
      "\n",
      "살피건대, 피신청인은 세탁 전부터 이 사건 제품의 상태가 좋지 않았다고 \n"
     ]
    }
   ],
   "source": [
    "# page_content를 이용한 필터링\n",
    "\n",
    "retriever = vectorstore.as_retriever(\n",
    "    search_kwargs={\n",
    "        'k': 5,\n",
    "        'where_document': {'$contains': '세탁'}     # 질문에 맞춰 검색 조건을 정해서 필터링 함으로써 더 퀄리티 있는 대답을 할 수 있을 것임 \n",
    "        }\n",
    ")\n",
    "\n",
    "query = \"세탁 후 오염에 대한 손해배상은 어떻게 이루어지나요?\"\n",
    "retrieved_docs = retriever.invoke(query)\n",
    "\n",
    "for doc in retrieved_docs:\n",
    "    print(str(doc.metadata[\"case_id\"]), str(doc.metadata[\"page\"]), doc.page_content[:100])"
   ]
  },
  {
   "cell_type": "markdown",
   "id": "0f03b6e1",
   "metadata": {},
   "source": [
    "## Generation\n",
    "\n",
    "질문하고 답변 받기 "
   ]
  },
  {
   "cell_type": "code",
   "execution_count": 57,
   "id": "f5360311",
   "metadata": {},
   "outputs": [
    {
     "data": {
      "text/plain": [
       "ChatPromptTemplate(input_variables=['context', 'question'], messages=[HumanMessagePromptTemplate(prompt=PromptTemplate(input_variables=['context', 'question'], template='Answer the question based only on the following context:\\n{context}\\n\\nQuestion: {question}\\n'))])"
      ]
     },
     "execution_count": 57,
     "metadata": {},
     "output_type": "execute_result"
    }
   ],
   "source": [
    "from langchain_community.chat_models import ChatOllama\n",
    "from langchain.prompts import ChatPromptTemplate\n",
    "\n",
    "# 가장 기본적인 Prompt\n",
    "template = \"\"\"Answer the question based only on the following context:\n",
    "{context}\n",
    "\n",
    "Question: {question}\n",
    "\"\"\"\n",
    "\n",
    "prompt = ChatPromptTemplate.from_template(template)\n",
    "prompt"
   ]
  },
  {
   "cell_type": "code",
   "execution_count": 61,
   "id": "32cefc20",
   "metadata": {},
   "outputs": [
    {
     "name": "stdout",
     "output_type": "stream",
     "text": [
      "세탁 불량에 대한 손해배상은 다음과 같이 이루어집니다:\n",
      "\n",
      "1. 먼저, 피신청인은 이 사건 제품을 인수하였을 당시 이미 제품 상태가 좋지 않았다는 주장과 한국소비자원의 신발제품심의위원회에서도 세탁과실로 인정하지 않았다는 점을 들어 신청인의 요구를 수용할 수 없다고 주장합니다.\n",
      "\n",
      "2. 그러나 피신청인은 피해구제 담당자가 제시한 배상산정액 112,140원의 50%인 50,670원을 환급하기로 의사를 밝혔습니다.\n",
      "\n",
      "3. 이 사건 손해배상에 있어서는 공평하고 타당한 분담이 이루어져야 하며, 조정의 취지가 원만한 해결을 통한 분쟁 해결입니다. 따라서 피신청인의 책임을 60%로 제한하였습니다.\n",
      "\n",
      "4. 세탁비와 관련하여, '세탁업 표준약관'에 따르면 세탁업자의 책임 있는 사유로 세탁물이 손상, 색상변화, 얼룩 등의 하자가 발생하였을 때에는 해당 비용을 환급해야 합니다.\n",
      "\n",
      "따라서, 세탁 불량에 대한 손해배상은 위와 같은 원칙과 규정에 따라 이루어집니다.\n"
     ]
    }
   ],
   "source": [
    "from langchain_community.chat_models import ChatOllama\n",
    "\n",
    "# RAG Chain\n",
    "# 터미널에 ollama pull qwen2\n",
    "llm = ChatOllama(model=\"qwen2\", temperature=0)\n",
    "\n",
    "from langchain_core.output_parsers import StrOutputParser\n",
    "from langchain_core.runnables import RunnablePassthrough\n",
    "\n",
    "# 페이지 내용을 하나의 문자열로 결합을 해줌\n",
    "def format_docs(docs):\n",
    "    return \"\\n\\n\".join([d.page_content for d in docs])      \n",
    "\n",
    "item = \"세탁\"\n",
    "query = f\"{item} 불량에 대한 손해배상은 어떻게 이루어지나요?\"\n",
    "\n",
    "retriever = vectorstore.as_retriever(\n",
    "    search_kwargs={\n",
    "        'k': 2,\n",
    "        'where_document': {'$contains': item}           # itme(세탁)에 대한 내용 위주로 검색 \n",
    "        }\n",
    ")\n",
    "\n",
    "# 체인 걸기 \n",
    "rag_chain = (\n",
    "    {\"context\": retriever | format_docs, \"question\": RunnablePassthrough()}     # 유사도 기반으로 가장 관련있는 내용으로 검색, 사용자 입력 \n",
    "    | prompt\n",
    "    | llm\n",
    "    | StrOutputParser()     # 생성된 답변은 문자열만 \n",
    ")\n",
    "\n",
    "\n",
    "response = rag_chain.invoke(query)\n",
    "\n",
    "print(response)"
   ]
  },
  {
   "cell_type": "code",
   "execution_count": null,
   "id": "4b7bcc20",
   "metadata": {},
   "outputs": [],
   "source": []
  }
 ],
 "metadata": {
  "kernelspec": {
   "display_name": "Python 3 (ipykernel)",
   "language": "python",
   "name": "python3"
  },
  "language_info": {
   "codemirror_mode": {
    "name": "ipython",
    "version": 3
   },
   "file_extension": ".py",
   "mimetype": "text/x-python",
   "name": "python",
   "nbconvert_exporter": "python",
   "pygments_lexer": "ipython3",
   "version": "3.11.9"
  }
 },
 "nbformat": 4,
 "nbformat_minor": 5
}
