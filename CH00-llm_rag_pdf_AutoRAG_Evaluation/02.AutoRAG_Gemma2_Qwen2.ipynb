{
 "cells": [
  {
   "cell_type": "markdown",
   "metadata": {},
   "source": [
    "## QA RAG"
   ]
  },
  {
   "cell_type": "markdown",
   "metadata": {},
   "source": [
    "https://www.youtube.com/watch?v=jSd6pdydBNU&list=PL5bzmUGXvZNRPQi4PAGFkA2inN-tRF4Mi&index=13 \n",
    "\n",
    "위 영상을 참고하자 \n"
   ]
  },
  {
   "cell_type": "code",
   "execution_count": 1,
   "metadata": {},
   "outputs": [
    {
     "data": {
      "text/plain": [
       "True"
      ]
     },
     "execution_count": 1,
     "metadata": {},
     "output_type": "execute_result"
    }
   ],
   "source": [
    "# API KEY를 환경변수로 관리하기 위한 설정 파일\n",
    "from dotenv import load_dotenv\n",
    "\n",
    "# API KEY 정보로드\n",
    "load_dotenv()"
   ]
  },
  {
   "cell_type": "code",
   "execution_count": 2,
   "metadata": {},
   "outputs": [
    {
     "name": "stderr",
     "output_type": "stream",
     "text": [
      "USER_AGENT environment variable not set, consider setting it to identify your requests.\n"
     ]
    },
    {
     "name": "stdout",
     "output_type": "stream",
     "text": [
      "1\n",
      "------------------------------\n",
      "page_content='\\n\\n\\n\\n\\n[정보문화사] IT 도서의 새로운 패러다임\\n\\n\\n\\n\\nCJ스타일베너[좌슬라이드]\\n\\n\\n\\n\\n\\n \\n\\n\\n\\n\\n\\n\\n\\n\\n\\n\\n\\n\\n\\n\\xa0\\n\\n\\n\\n\\n\\n\\n\\n\\n\\n\\n\\n\\n\\n\\n\\n\\n\\n\\n\\n\\n\\n\\n\\n\\n\\n\\n\\n\\n\\n\\n\\n\\n\\n\\n\\n\\n\\n\\n\\n\\n\\n\\n\\n\\n\\n\\n\\n\\n\\n\\n\\n\\n\\n\\n\\n\\n\\n\\n\\n\\n\\n\\n\\n\\n\\n\\r\\n파이썬 머신러닝 판다스 데이터 분석 개정판\\r\\n\\n\\n\\n저자:\\n\\n오승환\\n\\n\\n\\n역자:\\n\\n\\n\\n\\n구분:\\n\\r\\n\\t\\r\\n\\t\\r\\n       국내서\\r\\n    \\r\\n\\t\\r\\n\\t\\n\\n\\n발행일:\\n2024년 6월 25일\\n\\n\\n정가:\\n30,000원\\n\\n\\n페이지:\\n584 페이지\\n\\n\\nISBN:\\n978-89-5674-980-8\\n\\n\\n출판사:\\n\\n\\r\\n\\t\\t\\t\\t정보문화사\\r\\n\\r\\n\\t\\n\\n\\n판형:\\n187×235\\n\\n\\n\\n난이도:\\n\\n\\n\\n\\n\\n\\n\\n\\n\\n\\n\\n\\n\\n\\n\\n\\n\\n\\n\\n\\n\\n\\n\\n\\n\\n\\n\\n\\n\\n\\n\\n\\n\\n\\n\\n\\n\\n\\n\\n\\n\\n\\n\\n\\n\\n\\n\\n\\n\\n\\n책소개\\n저자소개\\n미리보기\\n오탈자\\n보도자료실\\n샘플자료 다운로드\\n\\n\\n\\n데이터 과학자가 되기 위한 첫걸음!어려운 이론은 최소화하고, 예제 코드를 따라 하며 자연스럽게 사용법에 익숙해지도록 안내하는 데이터 분석 입문서다. 데이터 분석을 처음 배우는 입문자의 입장에서 고급 이론과 데이터 분석 도구를 함께 배우는 것의 어려움을 아는 저자가, 데이터 분석에 필요한 필수 라이브러리를 소개하고 설치부터 예제 코드까지 따라 할 수 있게 구성했다. 개념 이해를 돕기 위해 다이어그램 등 풍부한 도식화도 적극 활용했다. 1판에서 큰 인기를 얻어 준비된 이번 개정판에서는 저자가 실무에서 쌓은 경험을 자연스럽게 녹이기 위해 노력했다. 여러 기업과 대학에서 계속 강의를 해오고 있는 만큼 더욱 자세한 설명과 다양한 데이터 시각화, 데이터 전처리 기법을 담았으며, Pandas 2.0 버전에서 추가되거나 변경된 내용을 풍부하게 담아 데이터 분석에 필요한 최신 기술과 기능을 습득할 수 있다. 또한 저자 블로그나 깃헙, 그리고 유튜브에서 질의응답 게시판을 운영하고 있어, 궁금한 점이나 책과 관련된 요청 사항을 전달할 수 있다. 출판사 서평예제 중심으로 실무용 데이터 분석을 바로 배우자!복잡한 이론이 아닌, 풍부한 예제로 비전공자와 입문자의 마음을 사로잡은 강의가 개정판으로 돌아왔다. 최신 버전인 Pandas 2.0 버전에서 추가되거나 변경된 내용을 포함하여 시계열 데이터 처리 등의 기법과 사례 등을 더해 150쪽 이상의 분량이 더해졌다. 특히 시계열 데이터의 효율적인 처리와 분석을 위한 다양한 기법을 추가했다. 시계열 데이터는 시간의 흐름에 따른 연속적인 값으로, 미래를 예측하고 그에 맞는 전략을 세우는 데 큰 도움이 되기 때문에 주식, 환율 등 금융 데이터에 특히 많이 쓰인다. 데이터 분석에서 중요한 부분이기 때문에 다른 자료형을 시계열 객체로 변환하는 것부터 시계열 데이터 처리 기법까지 사례를 대폭 추가해 시간에 따른 데이터 변화를 효과적으로 분석할 수 있도록 했다. 또한 시계열 데이터 처리 강화와 더불어, 데이터 전처리 기법을 더욱 다양화했다. 데이터 정제, 변환, 통합 등 다양한 데이터 전처리 기법을 추가하여 데이터 분석의 기초를 더욱 탄탄히 다질 수 있도록 했다. 데이터의 시각적 표현을 위한 다양한 기법과 도구 역시 새롭게 포함했으며, 데이터 시각화 개선으로 복잡한 데이터를 직관적으로 이해하고 전달하는 기법을 더욱 쉽게 배울 수 있다. 그리고 이 모든 과정을 실습 중심으로 진행한다. 지루하고 복잡한 이론은 최소화하고, 실무에 바로 적용할 수 있는 실습 예제를 풍부하게 담았다. 파이썬 소개와 기초 문법에 대한 설명을 생략하고 예제의 수를 늘렸기 때문에 파이썬 리스트, 딕셔너리 등의 자료구조와 반복문, 조건문 등의 기본 문법을 알고 있는 독자라면 이 책 한 권으로 정확하고 빠르게 실력을 향상시킬 수 있다. 책 속 예제 코드를 하나씩 실행하다 보면 파이썬 데이터 분석과 자연스럽게 가까워질 수 있을 것이다. 이책을 통해, 데이터를 수집하고 분석하는 일을 즐기게 될 여러분을 환영한다.\\n\\n\\n지은이 | 오승환과학고, 서울대를 졸업하고, 중 국 C KGSB MBA, FRM(미국 재무위험관리사) 자격을 보유하고 있다. 국내 주요 금융기관과 대기업에서 기업분석 및 전략기획 업무를 담당했다. IT 비전공자이지만 데이터 분석과 인공지능을 독학으로 익혔고, 현재 핀테크 스타트업 대표이자 인공지능 강사로 활발하게 활동하고 있다. 유튜브 <판다스 스튜디오>를 운영하며, 저서로는 『파이썬 딥러닝 텐서플로』 등이 있다.\\r\\n    \\n\\n\\n\\n\\n\\n\\n\\n\\n\\n\\n\\n\\n\\n\\n\\n\\n\\n\\n\\r\\n                330\\n\\n[보도자료] 예제가 가득한 챗GPT 프롬프트 길라잡이\\n운영자\\n2024-05-16\\n\\n\\r\\n                5674-976.zip(9654KB)\\n\\n\\n\\n \\n\\n\\n\\r\\n                329\\n\\n[보도자료] 데이터베이스 관리 시스템\\n운영자\\n2024-05-07\\n\\n\\r\\n                5674-977.zip(3768KB)\\n\\n\\n\\n \\n\\n\\n\\r\\n                328\\n\\n[보도자료] 챗GPT 프롬프트 120% 질문 기술\\n운영자\\n2024-04-24\\n\\n\\r\\n                5674-975.zip(5649KB)\\n\\n\\n\\n \\n\\n\\n\\r\\n                327\\n\\n[보도자료] 비동기 우선 플레이북\\n운영자\\n2024-04-03\\n\\n\\r\\n                5674-974.zip(11MB)\\n\\n\\n\\n \\n\\n\\n\\r\\n                326\\n\\n[보도자료] 투명 수채화로 소녀 일러스트 그리는 방법\\n운영자\\n2024-03-20\\n\\n\\r\\n                5674-935.zip(24MB)\\n\\n\\n\\n \\n\\n\\n\\r\\n                325\\n\\n[보도자료] 기초부터 배우는 웹 개발 리터러시\\n운영자\\n2024-02-26\\n\\n\\r\\n                5674-934.zip(3209KB)\\n\\n\\n\\n \\n\\n\\n\\r\\n                324\\n\\n[보도자료] 배경이 있는 캐릭터 일러스트 그리는 방법\\n운영자\\n2024-02-16\\n\\n\\r\\n                5674-933.zip(26MB)\\n\\n\\n\\n \\n\\n\\n\\r\\n                323\\n\\n[보도자료] 인물 쉽게 그리는 방법\\n운영자\\n2024-01-19\\n\\n\\r\\n                5674-932.zip(19MB)\\n\\n\\n\\n \\n\\n\\n\\r\\n                322\\n\\n[보도자료] 가장 쉬운 자동화 수익 프로그램 만들기\\n운영자\\n2023-12-20\\n\\n\\r\\n                5674-931.zip(10MB)\\n\\n\\n\\n \\n\\n\\n\\r\\n                321\\n\\n[보도자료] AI, WEB 3 패러다임 | 검색에서 생성으로 비즈니스 모델의 혁신\\n운영자\\n2023-10-24\\n\\n\\r\\n                5674-930.zip(4293KB)\\n\\n\\n\\n \\n\\n\\n\\r\\n                320\\n\\n[보도자료] 가장 쉬운 이모티콘 만들기 2판\\n운영자\\n2023-08-30\\n\\n\\r\\n                5674-929.zip()\\n\\n\\n\\n \\n\\n\\n\\r\\n                319\\n\\n[보도자료] 파이썬과 엑셀로 시작하는 딥러닝\\n운영자\\n2023-07-19\\n\\n\\r\\n                5674-928.zip(9338KB)\\n\\n\\n\\n \\n\\n\\n\\r\\n                318\\n\\n[보도자료] 회사 실무에 힘을 주는 엑셀 2021\\n운영자\\n2023-07-04\\n\\n\\r\\n                5674-927.zip(15MB)\\n\\n\\n\\n \\n\\n\\n\\r\\n                317\\n\\n[보도자료] 예제가 가득한 파이썬 길라잡이\\n운영자\\n2023-05-23\\n\\n\\r\\n                5674-925.zip(8719KB)\\n\\n\\n\\n \\n\\n\\n\\r\\n                316\\n\\n[보도자료] 가장 쉬운 유니티 게임 제작 2판\\n운영자\\n2023-04-26\\n\\n\\r\\n                5674-926.zip(6664KB)\\n\\n\\n\\n \\n\\n\\n\\r\\n                315\\n\\n[보도자료] 실무자를 위한 C 언어 100제\\n운영자\\n2023-03-28\\n\\n\\r\\n                5674-924.zip(15MB)\\n\\n\\n\\n \\n\\n\\n\\r\\n                314\\n\\n[보도자료] 매출 올리는 네이버 스마트스토어 광고 활용법\\n운영자\\n2023-02-17\\n\\n\\r\\n                5674-923.zip(4898KB)\\n\\n\\n\\n \\n\\n\\n\\r\\n                313\\n\\n[보도자료] 회사 실무에 힘을 주는 오토캐드 2023\\n운영자\\n2023-01-16\\n\\n\\r\\n                5674-992.zip(10MB)\\n\\n\\n\\n \\n\\n\\n\\r\\n                312\\n\\n[보도자료] 3D프린터 활용 가이드\\n운영자\\n2023-01-11\\n\\n\\r\\n                5674-921.zip(9023KB)\\n\\n\\n\\n \\n\\n\\n\\r\\n                311\\n\\n[보도자료] 회사 실무에 힘을 주는 한글 2022\\n운영자\\n2022-11-21\\n\\n\\r\\n                5674-919.zip(9267KB)\\n\\n\\n\\n \\n\\n\\n\\n\\n\\n\\n\\n\\n자료명\\n등록일\\n다운로드\\n\\n\\n본문 소스 코드\\n2024-06-25\\n05000274.zip\\n\\n\\n\\n\\n\\n\\n\\n\\n\\n\\n\\n\\n\\n\\n\\n\\n\\n\\n\\n\\n\\n\\n\\n\\n\\n\\n\\n\\n\\n\\n\\n\\n' metadata={'source': 'http://www.infopub.co.kr/new/include/detail.asp?sku=05000274', 'title': '[정보문화사] IT 도서의 새로운 패러다임', 'language': 'No language found.'}\n",
      "------------------------------\n",
      "{'language': 'No language found.',\n",
      " 'source': 'http://www.infopub.co.kr/new/include/detail.asp?sku=05000274',\n",
      " 'title': '[정보문화사] IT 도서의 새로운 패러다임'}\n"
     ]
    }
   ],
   "source": [
    "from langchain_community.document_loaders import WebBaseLoader\n",
    "from langchain_community.vectorstores import Chroma\n",
    "from langchain_core.output_parsers import StrOutputParser\n",
    "from langchain_core.runnables import RunnablePassthrough\n",
    "from langchain_text_splitters import RecursiveCharacterTextSplitter\n",
    "from langchain_community.chat_models import ChatOllama\n",
    "from langchain.prompts import ChatPromptTemplate\n",
    "from pprint import pprint\n",
    "\n",
    "# Load, chunk and index the contents of the blog.\n",
    "loader = WebBaseLoader(\n",
    "    web_paths=(\"http://www.infopub.co.kr/new/include/detail.asp?sku=05000274\",),\n",
    ")\n",
    "docs = loader.load()\n",
    "\n",
    "print(len(docs))\n",
    "print('---'*10)\n",
    "print(docs[0])\n",
    "print('---'*10)\n",
    "pprint(docs[0].metadata)"
   ]
  },
  {
   "cell_type": "code",
   "execution_count": 3,
   "metadata": {},
   "outputs": [
    {
     "name": "stdout",
     "output_type": "stream",
     "text": [
      "36\n",
      "page_content='[정보문화사] IT 도서의 새로운 패러다임\\n\\n\\n\\n\\nCJ스타일베너[좌슬라이드]' metadata={'source': 'http://www.infopub.co.kr/new/include/detail.asp?sku=05000274', 'title': '[정보문화사] IT 도서의 새로운 패러다임', 'language': 'No language found.'}\n"
     ]
    }
   ],
   "source": [
    "# HugoingFace Embedding 모델의 Tokenizer를 사용하여 토큰화\n",
    "from transformers import AutoTokenizer\n",
    "\n",
    "# 토크나이저 \n",
    "tokenizer = AutoTokenizer.from_pretrained('snunlp/KR-SBERT-V40K-klueNLI-augSTS')\n",
    "\n",
    "# Token 수를 기준으로 문서를 청크 단위로 분할\n",
    "text_splitter = RecursiveCharacterTextSplitter.from_huggingface_tokenizer(\n",
    "    tokenizer = tokenizer,\n",
    "    chunk_size = 120,           # 120개의 단어 크기로 청크\n",
    "    chunk_overlap  = 10,        # 10단어는 중첩이 되도록 \n",
    ")\n",
    "\n",
    "split_docs = text_splitter.split_documents(docs)            # 문서를 위에서 설정한 text_splitter로 쪼개줌 \n",
    "print(len(split_docs))\n",
    "print(split_docs[0])"
   ]
  },
  {
   "cell_type": "code",
   "execution_count": 4,
   "metadata": {},
   "outputs": [
    {
     "name": "stderr",
     "output_type": "stream",
     "text": [
      "c:\\Users\\kim_h\\anaconda3\\envs\\rag\\Lib\\site-packages\\langchain_core\\_api\\deprecation.py:139: LangChainDeprecationWarning: The class `HuggingFaceEmbeddings` was deprecated in LangChain 0.2.2 and will be removed in 0.3.0. An updated version of the class exists in the langchain-huggingface package and should be used instead. To use it run `pip install -U langchain-huggingface` and import as `from langchain_huggingface import HuggingFaceEmbeddings`.\n",
      "  warn_deprecated(\n"
     ]
    },
    {
     "name": "stdout",
     "output_type": "stream",
     "text": [
      "1. **새로운 버전의 Pandas 활용**: 이 책은 Pandas 2.0 버전에서 추가되거나 변경된 내용을 포함하고 있습니다. 이를 통해 독자는 최신 기술과 방법에 대해 배우고 실력을 향상시킬 수 있습니다.\n",
      "\n",
      "2. **시스템적 학습 구성**: 책의 구성이 시스템적이며, Pandas를 설치하기 위한 단계부터 시작하여 각각의 예제 코드까지 제공합니다. 이로써 독자는 직접적으로 따라 할 수 있으며, 실질적인 경험을 통해 배울 수 있습니다.\n",
      "\n",
      "3. **개념 이해와 도시화**: 개념을 이해하는 데 도움이 되도록 다양한 다이어그램과 풍부한 도시화가 적극 활용됩니다. 이로써 독자는 복잡한 이론을 쉽게 이해하고, 이를 실무에 적용할 수 있습니다.\n"
     ]
    }
   ],
   "source": [
    "# HugoingFace Embeddings를 다운로드\n",
    "from langchain.embeddings import HuggingFaceEmbeddings\n",
    "from llama_index.llms.ollama import Ollama\n",
    "from llama_index.llms.openai import OpenAI\n",
    "from langchain_openai import ChatOpenAI\n",
    "\n",
    "# 임베딩 모델 \n",
    "embeddings_model = HuggingFaceEmbeddings(\n",
    "    model_name=\"snunlp/KR-SBERT-V40K-klueNLI-augSTS\",           # 한국어 fine-tuning한 임베딩 모델 \n",
    ")\n",
    "\n",
    "\n",
    "vectorstore = Chroma.from_documents(documents=split_docs,               # 자른 내용 \n",
    "                                    embedding=embeddings_model)         # 임베딩모델로 임베딩하여 Chroma를 통해 vectorstore로 저장 \n",
    "\n",
    "retriever = vectorstore.as_retriever()                                  # vectorstore 전용 검색기 \n",
    "\n",
    "# 기본 질문 대답 Prompt 템플릿 설정 \n",
    "template = \"\"\"Answer the question based only on the following context:\n",
    "{context}\n",
    "\n",
    "Question: {question}\n",
    "\"\"\"\n",
    "\n",
    "prompt = ChatPromptTemplate.from_template(template)\n",
    "\n",
    "# Chat Model\n",
    "# llm = ChatOpenAI(model='gpt-4o')\n",
    "llm = ChatOllama(model=\"qwen2\")\n",
    "# llm = ChatOllama(model='gemma2')\n",
    "\n",
    "def format_docs(docs):\n",
    "    return \"\\n\\n\".join(doc.page_content for doc in docs)\n",
    "\n",
    "\n",
    "# RAG Chain\n",
    "rag_chain = (\n",
    "    {\"context\": retriever | format_docs, \"question\": RunnablePassthrough()}\n",
    "    | prompt\n",
    "    | llm\n",
    "    | StrOutputParser()\n",
    ")\n",
    "\n",
    "# Chain 실행\n",
    "response = rag_chain.invoke(\"이 책의 특징을 3가지 요점으로 설명해주세요.\")\n",
    "print(response)"
   ]
  },
  {
   "cell_type": "markdown",
   "metadata": {},
   "source": [
    "## Test Data 만들기 - AutoRAG 활용\n",
    "\n",
    "https://github.com/Marker-Inc-Korea/AutoRAG"
   ]
  },
  {
   "cell_type": "code",
   "execution_count": 5,
   "metadata": {},
   "outputs": [],
   "source": [
    "# !pip install AutoRAG"
   ]
  },
  {
   "cell_type": "code",
   "execution_count": 6,
   "metadata": {},
   "outputs": [],
   "source": [
    "# 생성한 이벤트 루프와의 중첩을 피하기 위해 \n",
    "import nest_asyncio\n",
    "nest_asyncio.apply()"
   ]
  },
  {
   "cell_type": "code",
   "execution_count": 7,
   "metadata": {},
   "outputs": [
    {
     "name": "stderr",
     "output_type": "stream",
     "text": [
      "c:\\Users\\kim_h\\anaconda3\\envs\\rag\\Lib\\site-packages\\pydantic\\_internal\\_fields.py:160: UserWarning: Field \"model_id\" has conflict with protected namespace \"model_\".\n",
      "\n",
      "You may be able to resolve this warning by setting `model_config['protected_namespaces'] = ()`.\n",
      "  warnings.warn(\n"
     ]
    }
   ],
   "source": [
    "from autorag.data.corpus import langchain_documents_to_parquet\n",
    "import os \n",
    "import pandas as pd \n",
    "from os import path\n",
    "\n",
    "path = './corpus_data'\n",
    "\n",
    "os.makedirs(path, exist_ok=True)\n",
    "file = f'{path}/pandas_book.parquet'\n",
    "if not os.path.exists(file):\n",
    "    # text_splitter를 통해 36개의 청크로 잘라 놓은 split_docs를 .parquet 형태로 변환함 \n",
    "    corpus_df = langchain_documents_to_parquet(split_docs, file)\n",
    "    \n",
    "else:\n",
    "    corpus_df = pd.read_parquet(file)"
   ]
  },
  {
   "cell_type": "code",
   "execution_count": 8,
   "metadata": {},
   "outputs": [
    {
     "data": {
      "text/html": [
       "<div>\n",
       "<style scoped>\n",
       "    .dataframe tbody tr th:only-of-type {\n",
       "        vertical-align: middle;\n",
       "    }\n",
       "\n",
       "    .dataframe tbody tr th {\n",
       "        vertical-align: top;\n",
       "    }\n",
       "\n",
       "    .dataframe thead th {\n",
       "        text-align: right;\n",
       "    }\n",
       "</style>\n",
       "<table border=\"1\" class=\"dataframe\">\n",
       "  <thead>\n",
       "    <tr style=\"text-align: right;\">\n",
       "      <th></th>\n",
       "      <th>doc_id</th>\n",
       "      <th>contents</th>\n",
       "      <th>metadata</th>\n",
       "    </tr>\n",
       "  </thead>\n",
       "  <tbody>\n",
       "    <tr>\n",
       "      <th>0</th>\n",
       "      <td>d86f1049-c718-4953-a13a-36a2a89754c1</td>\n",
       "      <td>[정보문화사] IT 도서의 새로운 패러다임\\n\\n\\n\\n\\nCJ스타일베너[좌슬라이드]</td>\n",
       "      <td>{'language': 'No language found.', 'last_modif...</td>\n",
       "    </tr>\n",
       "    <tr>\n",
       "      <th>1</th>\n",
       "      <td>d84efc62-cb6c-495e-af58-96049a1277fd</td>\n",
       "      <td>파이썬 머신러닝 판다스 데이터 분석 개정판\\r\\n\\n\\n\\n저자:</td>\n",
       "      <td>{'language': 'No language found.', 'last_modif...</td>\n",
       "    </tr>\n",
       "    <tr>\n",
       "      <th>2</th>\n",
       "      <td>1f60783b-6e34-4fe5-8dd6-607aaca32eb0</td>\n",
       "      <td>저자:\\n\\n오승환\\n\\n\\n\\n역자:\\n\\n\\n\\n\\n구분:\\n\\r\\n\\t\\r\\n...</td>\n",
       "      <td>{'language': 'No language found.', 'last_modif...</td>\n",
       "    </tr>\n",
       "    <tr>\n",
       "      <th>3</th>\n",
       "      <td>27478669-ce70-44d9-a5ad-37dd246e02e1</td>\n",
       "      <td>난이도:</td>\n",
       "      <td>{'language': 'No language found.', 'last_modif...</td>\n",
       "    </tr>\n",
       "    <tr>\n",
       "      <th>4</th>\n",
       "      <td>21ea171c-0c15-44b4-b4dd-acfeb63166e3</td>\n",
       "      <td>책소개\\n저자소개\\n미리보기\\n오탈자\\n보도자료실\\n샘플자료 다운로드</td>\n",
       "      <td>{'language': 'No language found.', 'last_modif...</td>\n",
       "    </tr>\n",
       "    <tr>\n",
       "      <th>5</th>\n",
       "      <td>b6d369d2-63d8-4910-977c-beb1686e8fcd</td>\n",
       "      <td>데이터 과학자가 되기 위한 첫걸음!어려운 이론은 최소화하고, 예제 코드를 따라 하며...</td>\n",
       "      <td>{'language': 'No language found.', 'last_modif...</td>\n",
       "    </tr>\n",
       "    <tr>\n",
       "      <th>6</th>\n",
       "      <td>4778a047-b33b-40bf-ace3-5541d28ca54c</td>\n",
       "      <td>분석을 처음 배우는 입문자의 입장에서 고급 이론과 데이터 분석 도구를 함께 배우는 ...</td>\n",
       "      <td>{'language': 'No language found.', 'last_modif...</td>\n",
       "    </tr>\n",
       "    <tr>\n",
       "      <th>7</th>\n",
       "      <td>6db40309-0edc-4025-91b7-3b38bb31e3e6</td>\n",
       "      <td>소개하고 설치부터 예제 코드까지 따라 할 수 있게 구성했다. 개념 이해를 돕기 위해...</td>\n",
       "      <td>{'language': 'No language found.', 'last_modif...</td>\n",
       "    </tr>\n",
       "    <tr>\n",
       "      <th>8</th>\n",
       "      <td>5b79f309-73e6-4fed-b524-e3f4abfdd46c</td>\n",
       "      <td>큰 인기를 얻어 준비된 이번 개정판에서는 저자가 실무에서 쌓은 경험을 자연스럽게 녹...</td>\n",
       "      <td>{'language': 'No language found.', 'last_modif...</td>\n",
       "    </tr>\n",
       "    <tr>\n",
       "      <th>9</th>\n",
       "      <td>a2defa5b-8d29-4be9-9a1c-734ae9908da4</td>\n",
       "      <td>만큼 더욱 자세한 설명과 다양한 데이터 시각화, 데이터 전처리 기법을 담았으며, P...</td>\n",
       "      <td>{'language': 'No language found.', 'last_modif...</td>\n",
       "    </tr>\n",
       "    <tr>\n",
       "      <th>10</th>\n",
       "      <td>a39cdad9-a62f-475a-b0d0-a07edf044b7e</td>\n",
       "      <td>데이터 분석에 필요한 최신 기술과 기능을 습득할 수 있다. 또한 저자 블로그나 깃헙...</td>\n",
       "      <td>{'language': 'No language found.', 'last_modif...</td>\n",
       "    </tr>\n",
       "    <tr>\n",
       "      <th>11</th>\n",
       "      <td>2e9ee0b5-dfe1-4ab4-9d91-603807fee9a1</td>\n",
       "      <td>점이나 책과 관련된 요청 사항을 전달할 수 있다. 출판사 서평예제 중심으로 실무용 ...</td>\n",
       "      <td>{'language': 'No language found.', 'last_modif...</td>\n",
       "    </tr>\n",
       "    <tr>\n",
       "      <th>12</th>\n",
       "      <td>3c0aed8b-65be-416e-81ab-8413efa38f14</td>\n",
       "      <td>비전공자와 입문자의 마음을 사로잡은 강의가 개정판으로 돌아왔다. 최신 버전인 Pan...</td>\n",
       "      <td>{'language': 'No language found.', 'last_modif...</td>\n",
       "    </tr>\n",
       "    <tr>\n",
       "      <th>13</th>\n",
       "      <td>6efb506d-100e-4b81-be0e-cd39bbf237cb</td>\n",
       "      <td>등의 기법과 사례 등을 더해 150쪽 이상의 분량이 더해졌다. 특히 시계열 데이터의...</td>\n",
       "      <td>{'language': 'No language found.', 'last_modif...</td>\n",
       "    </tr>\n",
       "    <tr>\n",
       "      <th>14</th>\n",
       "      <td>b2aa1eab-5e99-42bc-97b9-cc550014f246</td>\n",
       "      <td>데이터는 시간의 흐름에 따른 연속적인 값으로, 미래를 예측하고 그에 맞는 전략을 세...</td>\n",
       "      <td>{'language': 'No language found.', 'last_modif...</td>\n",
       "    </tr>\n",
       "    <tr>\n",
       "      <th>15</th>\n",
       "      <td>525ca226-9074-470d-bfb8-c53b6575da5d</td>\n",
       "      <td>데이터에 특히 많이 쓰인다. 데이터 분석에서 중요한 부분이기 때문에 다른 자료형을 ...</td>\n",
       "      <td>{'language': 'No language found.', 'last_modif...</td>\n",
       "    </tr>\n",
       "    <tr>\n",
       "      <th>16</th>\n",
       "      <td>039c58d5-6083-428f-a940-712a7415845b</td>\n",
       "      <td>대폭 추가해 시간에 따른 데이터 변화를 효과적으로 분석할 수 있도록 했다. 또한 시...</td>\n",
       "      <td>{'language': 'No language found.', 'last_modif...</td>\n",
       "    </tr>\n",
       "    <tr>\n",
       "      <th>17</th>\n",
       "      <td>7a4fb297-60a1-4c6a-8c75-f5d264242735</td>\n",
       "      <td>다양화했다. 데이터 정제, 변환, 통합 등 다양한 데이터 전처리 기법을 추가하여 데...</td>\n",
       "      <td>{'language': 'No language found.', 'last_modif...</td>\n",
       "    </tr>\n",
       "    <tr>\n",
       "      <th>18</th>\n",
       "      <td>8d253109-afa7-418b-8eb8-940efb02cc6c</td>\n",
       "      <td>데이터의 시각적 표현을 위한 다양한 기법과 도구 역시 새롭게 포함했으며, 데이터 시...</td>\n",
       "      <td>{'language': 'No language found.', 'last_modif...</td>\n",
       "    </tr>\n",
       "    <tr>\n",
       "      <th>19</th>\n",
       "      <td>9443d430-79d0-47e9-8026-17e59055d88f</td>\n",
       "      <td>쉽게 배울 수 있다. 그리고 이 모든 과정을 실습 중심으로 진행한다. 지루하고 복잡...</td>\n",
       "      <td>{'language': 'No language found.', 'last_modif...</td>\n",
       "    </tr>\n",
       "    <tr>\n",
       "      <th>20</th>\n",
       "      <td>19bc4f57-8deb-407e-b5be-4c182e54a742</td>\n",
       "      <td>실습 예제를 풍부하게 담았다. 파이썬 소개와 기초 문법에 대한 설명을 생략하고 예제...</td>\n",
       "      <td>{'language': 'No language found.', 'last_modif...</td>\n",
       "    </tr>\n",
       "    <tr>\n",
       "      <th>21</th>\n",
       "      <td>02c0e37a-f7ea-43a3-b30e-bc7ff3342cbc</td>\n",
       "      <td>등의 자료구조와 반복문, 조건문 등의 기본 문법을 알고 있는 독자라면 이 책 한 권...</td>\n",
       "      <td>{'language': 'No language found.', 'last_modif...</td>\n",
       "    </tr>\n",
       "    <tr>\n",
       "      <th>22</th>\n",
       "      <td>650f1040-a025-49ff-ba5f-9308cba8f1a3</td>\n",
       "      <td>책 속 예제 코드를 하나씩 실행하다 보면 파이썬 데이터 분석과 자연스럽게 가까워질 ...</td>\n",
       "      <td>{'language': 'No language found.', 'last_modif...</td>\n",
       "    </tr>\n",
       "    <tr>\n",
       "      <th>23</th>\n",
       "      <td>191d9004-cbdf-4778-a01e-31b68b242aa3</td>\n",
       "      <td>일을 즐기게 될 여러분을 환영한다.</td>\n",
       "      <td>{'language': 'No language found.', 'last_modif...</td>\n",
       "    </tr>\n",
       "    <tr>\n",
       "      <th>24</th>\n",
       "      <td>aff8ab1e-2a45-42b6-b5d7-ea5a314519fe</td>\n",
       "      <td>지은이 | 오승환과학고, 서울대를 졸업하고, 중 국 C KGSB MBA, FRM(미...</td>\n",
       "      <td>{'language': 'No language found.', 'last_modif...</td>\n",
       "    </tr>\n",
       "    <tr>\n",
       "      <th>25</th>\n",
       "      <td>296f2f6e-2602-4723-b8a7-bf4812a610e0</td>\n",
       "      <td>330\\n\\n[보도자료] 예제가 가득한 챗GPT 프롬프트 길라잡이\\n운영자\\n202...</td>\n",
       "      <td>{'language': 'No language found.', 'last_modif...</td>\n",
       "    </tr>\n",
       "    <tr>\n",
       "      <th>26</th>\n",
       "      <td>70b74199-9865-4844-9355-8ed2de5febf8</td>\n",
       "      <td>5674-977.zip(3768KB)\\n\\n\\n\\n \\n\\n\\n\\r\\n       ...</td>\n",
       "      <td>{'language': 'No language found.', 'last_modif...</td>\n",
       "    </tr>\n",
       "    <tr>\n",
       "      <th>27</th>\n",
       "      <td>ef8f6696-b463-48a7-94cd-02c28703d0d4</td>\n",
       "      <td>5674-974.zip(11MB)\\n\\n\\n\\n \\n\\n\\n\\r\\n         ...</td>\n",
       "      <td>{'language': 'No language found.', 'last_modif...</td>\n",
       "    </tr>\n",
       "    <tr>\n",
       "      <th>28</th>\n",
       "      <td>d3e2f311-565e-4bf4-a676-7a1f38ed1db4</td>\n",
       "      <td>5674-934.zip(3209KB)\\n\\n\\n\\n \\n\\n\\n\\r\\n       ...</td>\n",
       "      <td>{'language': 'No language found.', 'last_modif...</td>\n",
       "    </tr>\n",
       "    <tr>\n",
       "      <th>29</th>\n",
       "      <td>4ba85788-1f19-4a76-9de1-968f511e6bca</td>\n",
       "      <td>5674-932.zip(19MB)\\n\\n\\n\\n \\n\\n\\n\\r\\n         ...</td>\n",
       "      <td>{'language': 'No language found.', 'last_modif...</td>\n",
       "    </tr>\n",
       "    <tr>\n",
       "      <th>30</th>\n",
       "      <td>241cab43-3017-40bf-b703-12a6029a05ca</td>\n",
       "      <td>5674-930.zip(4293KB)\\n\\n\\n\\n \\n\\n\\n\\r\\n       ...</td>\n",
       "      <td>{'language': 'No language found.', 'last_modif...</td>\n",
       "    </tr>\n",
       "    <tr>\n",
       "      <th>31</th>\n",
       "      <td>4b53aa0e-c7b7-45b4-8c8f-2045edab594c</td>\n",
       "      <td>5674-928.zip(9338KB)\\n\\n\\n\\n \\n\\n\\n\\r\\n       ...</td>\n",
       "      <td>{'language': 'No language found.', 'last_modif...</td>\n",
       "    </tr>\n",
       "    <tr>\n",
       "      <th>32</th>\n",
       "      <td>dcc592e9-9bd5-4c2e-9acd-321a5c082b09</td>\n",
       "      <td>5674-925.zip(8719KB)\\n\\n\\n\\n \\n\\n\\n\\r\\n       ...</td>\n",
       "      <td>{'language': 'No language found.', 'last_modif...</td>\n",
       "    </tr>\n",
       "    <tr>\n",
       "      <th>33</th>\n",
       "      <td>133e27f1-0306-4d47-a088-b00ee9429156</td>\n",
       "      <td>5674-924.zip(15MB)\\n\\n\\n\\n \\n\\n\\n\\r\\n         ...</td>\n",
       "      <td>{'language': 'No language found.', 'last_modif...</td>\n",
       "    </tr>\n",
       "    <tr>\n",
       "      <th>34</th>\n",
       "      <td>9417bae2-b2f2-4c92-ad7e-659a11fea24a</td>\n",
       "      <td>5674-992.zip(10MB)\\n\\n\\n\\n \\n\\n\\n\\r\\n         ...</td>\n",
       "      <td>{'language': 'No language found.', 'last_modif...</td>\n",
       "    </tr>\n",
       "    <tr>\n",
       "      <th>35</th>\n",
       "      <td>f3b63111-8036-4f21-a629-667f3b416c72</td>\n",
       "      <td>5674-919.zip(9267KB)\\n\\n\\n\\n \\n\\n\\n\\n\\n\\n\\n\\n\\...</td>\n",
       "      <td>{'language': 'No language found.', 'last_modif...</td>\n",
       "    </tr>\n",
       "  </tbody>\n",
       "</table>\n",
       "</div>"
      ],
      "text/plain": [
       "                                  doc_id  \\\n",
       "0   d86f1049-c718-4953-a13a-36a2a89754c1   \n",
       "1   d84efc62-cb6c-495e-af58-96049a1277fd   \n",
       "2   1f60783b-6e34-4fe5-8dd6-607aaca32eb0   \n",
       "3   27478669-ce70-44d9-a5ad-37dd246e02e1   \n",
       "4   21ea171c-0c15-44b4-b4dd-acfeb63166e3   \n",
       "5   b6d369d2-63d8-4910-977c-beb1686e8fcd   \n",
       "6   4778a047-b33b-40bf-ace3-5541d28ca54c   \n",
       "7   6db40309-0edc-4025-91b7-3b38bb31e3e6   \n",
       "8   5b79f309-73e6-4fed-b524-e3f4abfdd46c   \n",
       "9   a2defa5b-8d29-4be9-9a1c-734ae9908da4   \n",
       "10  a39cdad9-a62f-475a-b0d0-a07edf044b7e   \n",
       "11  2e9ee0b5-dfe1-4ab4-9d91-603807fee9a1   \n",
       "12  3c0aed8b-65be-416e-81ab-8413efa38f14   \n",
       "13  6efb506d-100e-4b81-be0e-cd39bbf237cb   \n",
       "14  b2aa1eab-5e99-42bc-97b9-cc550014f246   \n",
       "15  525ca226-9074-470d-bfb8-c53b6575da5d   \n",
       "16  039c58d5-6083-428f-a940-712a7415845b   \n",
       "17  7a4fb297-60a1-4c6a-8c75-f5d264242735   \n",
       "18  8d253109-afa7-418b-8eb8-940efb02cc6c   \n",
       "19  9443d430-79d0-47e9-8026-17e59055d88f   \n",
       "20  19bc4f57-8deb-407e-b5be-4c182e54a742   \n",
       "21  02c0e37a-f7ea-43a3-b30e-bc7ff3342cbc   \n",
       "22  650f1040-a025-49ff-ba5f-9308cba8f1a3   \n",
       "23  191d9004-cbdf-4778-a01e-31b68b242aa3   \n",
       "24  aff8ab1e-2a45-42b6-b5d7-ea5a314519fe   \n",
       "25  296f2f6e-2602-4723-b8a7-bf4812a610e0   \n",
       "26  70b74199-9865-4844-9355-8ed2de5febf8   \n",
       "27  ef8f6696-b463-48a7-94cd-02c28703d0d4   \n",
       "28  d3e2f311-565e-4bf4-a676-7a1f38ed1db4   \n",
       "29  4ba85788-1f19-4a76-9de1-968f511e6bca   \n",
       "30  241cab43-3017-40bf-b703-12a6029a05ca   \n",
       "31  4b53aa0e-c7b7-45b4-8c8f-2045edab594c   \n",
       "32  dcc592e9-9bd5-4c2e-9acd-321a5c082b09   \n",
       "33  133e27f1-0306-4d47-a088-b00ee9429156   \n",
       "34  9417bae2-b2f2-4c92-ad7e-659a11fea24a   \n",
       "35  f3b63111-8036-4f21-a629-667f3b416c72   \n",
       "\n",
       "                                             contents  \\\n",
       "0     [정보문화사] IT 도서의 새로운 패러다임\\n\\n\\n\\n\\nCJ스타일베너[좌슬라이드]   \n",
       "1                파이썬 머신러닝 판다스 데이터 분석 개정판\\r\\n\\n\\n\\n저자:   \n",
       "2   저자:\\n\\n오승환\\n\\n\\n\\n역자:\\n\\n\\n\\n\\n구분:\\n\\r\\n\\t\\r\\n...   \n",
       "3                                                난이도:   \n",
       "4              책소개\\n저자소개\\n미리보기\\n오탈자\\n보도자료실\\n샘플자료 다운로드   \n",
       "5   데이터 과학자가 되기 위한 첫걸음!어려운 이론은 최소화하고, 예제 코드를 따라 하며...   \n",
       "6   분석을 처음 배우는 입문자의 입장에서 고급 이론과 데이터 분석 도구를 함께 배우는 ...   \n",
       "7   소개하고 설치부터 예제 코드까지 따라 할 수 있게 구성했다. 개념 이해를 돕기 위해...   \n",
       "8   큰 인기를 얻어 준비된 이번 개정판에서는 저자가 실무에서 쌓은 경험을 자연스럽게 녹...   \n",
       "9   만큼 더욱 자세한 설명과 다양한 데이터 시각화, 데이터 전처리 기법을 담았으며, P...   \n",
       "10  데이터 분석에 필요한 최신 기술과 기능을 습득할 수 있다. 또한 저자 블로그나 깃헙...   \n",
       "11  점이나 책과 관련된 요청 사항을 전달할 수 있다. 출판사 서평예제 중심으로 실무용 ...   \n",
       "12  비전공자와 입문자의 마음을 사로잡은 강의가 개정판으로 돌아왔다. 최신 버전인 Pan...   \n",
       "13  등의 기법과 사례 등을 더해 150쪽 이상의 분량이 더해졌다. 특히 시계열 데이터의...   \n",
       "14  데이터는 시간의 흐름에 따른 연속적인 값으로, 미래를 예측하고 그에 맞는 전략을 세...   \n",
       "15  데이터에 특히 많이 쓰인다. 데이터 분석에서 중요한 부분이기 때문에 다른 자료형을 ...   \n",
       "16  대폭 추가해 시간에 따른 데이터 변화를 효과적으로 분석할 수 있도록 했다. 또한 시...   \n",
       "17  다양화했다. 데이터 정제, 변환, 통합 등 다양한 데이터 전처리 기법을 추가하여 데...   \n",
       "18  데이터의 시각적 표현을 위한 다양한 기법과 도구 역시 새롭게 포함했으며, 데이터 시...   \n",
       "19  쉽게 배울 수 있다. 그리고 이 모든 과정을 실습 중심으로 진행한다. 지루하고 복잡...   \n",
       "20  실습 예제를 풍부하게 담았다. 파이썬 소개와 기초 문법에 대한 설명을 생략하고 예제...   \n",
       "21  등의 자료구조와 반복문, 조건문 등의 기본 문법을 알고 있는 독자라면 이 책 한 권...   \n",
       "22  책 속 예제 코드를 하나씩 실행하다 보면 파이썬 데이터 분석과 자연스럽게 가까워질 ...   \n",
       "23                                일을 즐기게 될 여러분을 환영한다.   \n",
       "24  지은이 | 오승환과학고, 서울대를 졸업하고, 중 국 C KGSB MBA, FRM(미...   \n",
       "25  330\\n\\n[보도자료] 예제가 가득한 챗GPT 프롬프트 길라잡이\\n운영자\\n202...   \n",
       "26  5674-977.zip(3768KB)\\n\\n\\n\\n \\n\\n\\n\\r\\n       ...   \n",
       "27  5674-974.zip(11MB)\\n\\n\\n\\n \\n\\n\\n\\r\\n         ...   \n",
       "28  5674-934.zip(3209KB)\\n\\n\\n\\n \\n\\n\\n\\r\\n       ...   \n",
       "29  5674-932.zip(19MB)\\n\\n\\n\\n \\n\\n\\n\\r\\n         ...   \n",
       "30  5674-930.zip(4293KB)\\n\\n\\n\\n \\n\\n\\n\\r\\n       ...   \n",
       "31  5674-928.zip(9338KB)\\n\\n\\n\\n \\n\\n\\n\\r\\n       ...   \n",
       "32  5674-925.zip(8719KB)\\n\\n\\n\\n \\n\\n\\n\\r\\n       ...   \n",
       "33  5674-924.zip(15MB)\\n\\n\\n\\n \\n\\n\\n\\r\\n         ...   \n",
       "34  5674-992.zip(10MB)\\n\\n\\n\\n \\n\\n\\n\\r\\n         ...   \n",
       "35  5674-919.zip(9267KB)\\n\\n\\n\\n \\n\\n\\n\\n\\n\\n\\n\\n\\...   \n",
       "\n",
       "                                             metadata  \n",
       "0   {'language': 'No language found.', 'last_modif...  \n",
       "1   {'language': 'No language found.', 'last_modif...  \n",
       "2   {'language': 'No language found.', 'last_modif...  \n",
       "3   {'language': 'No language found.', 'last_modif...  \n",
       "4   {'language': 'No language found.', 'last_modif...  \n",
       "5   {'language': 'No language found.', 'last_modif...  \n",
       "6   {'language': 'No language found.', 'last_modif...  \n",
       "7   {'language': 'No language found.', 'last_modif...  \n",
       "8   {'language': 'No language found.', 'last_modif...  \n",
       "9   {'language': 'No language found.', 'last_modif...  \n",
       "10  {'language': 'No language found.', 'last_modif...  \n",
       "11  {'language': 'No language found.', 'last_modif...  \n",
       "12  {'language': 'No language found.', 'last_modif...  \n",
       "13  {'language': 'No language found.', 'last_modif...  \n",
       "14  {'language': 'No language found.', 'last_modif...  \n",
       "15  {'language': 'No language found.', 'last_modif...  \n",
       "16  {'language': 'No language found.', 'last_modif...  \n",
       "17  {'language': 'No language found.', 'last_modif...  \n",
       "18  {'language': 'No language found.', 'last_modif...  \n",
       "19  {'language': 'No language found.', 'last_modif...  \n",
       "20  {'language': 'No language found.', 'last_modif...  \n",
       "21  {'language': 'No language found.', 'last_modif...  \n",
       "22  {'language': 'No language found.', 'last_modif...  \n",
       "23  {'language': 'No language found.', 'last_modif...  \n",
       "24  {'language': 'No language found.', 'last_modif...  \n",
       "25  {'language': 'No language found.', 'last_modif...  \n",
       "26  {'language': 'No language found.', 'last_modif...  \n",
       "27  {'language': 'No language found.', 'last_modif...  \n",
       "28  {'language': 'No language found.', 'last_modif...  \n",
       "29  {'language': 'No language found.', 'last_modif...  \n",
       "30  {'language': 'No language found.', 'last_modif...  \n",
       "31  {'language': 'No language found.', 'last_modif...  \n",
       "32  {'language': 'No language found.', 'last_modif...  \n",
       "33  {'language': 'No language found.', 'last_modif...  \n",
       "34  {'language': 'No language found.', 'last_modif...  \n",
       "35  {'language': 'No language found.', 'last_modif...  "
      ]
     },
     "execution_count": 8,
     "metadata": {},
     "output_type": "execute_result"
    }
   ],
   "source": [
    "corpus_df"
   ]
  },
  {
   "cell_type": "markdown",
   "metadata": {},
   "source": [
    "### AutoRAG를 통해 데이터로부터 질문과 대답 (라벨 데이터) 구축"
   ]
  },
  {
   "cell_type": "markdown",
   "metadata": {},
   "source": [
    "https://ollama.com/library/gemma2\n",
    "\n",
    "에서 9b 짜리 모델 다운 스크립트 복사하고 prompt에 붙여넣기 해서 모델 다운 받기 \n",
    "\n",
    "너무 무겁다, 나는 데탑에서 돌렸는데, 아마 노트북에서는 안돌아 갈것이다. "
   ]
  },
  {
   "cell_type": "code",
   "execution_count": 9,
   "metadata": {},
   "outputs": [],
   "source": [
    "# # LangChain\n",
    "# from langchain_community.llms import Ollama\n",
    "# llm = Ollama(model=\"gemma2\")\n",
    "# llm.invoke(\"Why is the sky blue?\")"
   ]
  },
  {
   "cell_type": "code",
   "execution_count": 10,
   "metadata": {},
   "outputs": [],
   "source": [
    "# # LlamaIndex\n",
    "# from llama_index.llms.ollama import Ollama\n",
    "# llm = Ollama(model=\"gemma2\")\n",
    "# llm.complete(\"Why is the sky blue?\")"
   ]
  },
  {
   "cell_type": "code",
   "execution_count": 11,
   "metadata": {},
   "outputs": [
    {
     "data": {
      "text/html": [
       "<pre style=\"white-space:pre;overflow-x:auto;line-height:normal;font-family:Menlo,'DejaVu Sans Mono',consolas,'Courier New',monospace\"><span style=\"color: #7fbfbf; text-decoration-color: #7fbfbf\">[06/29/24 22:11:14] </span><span style=\"color: #000080; text-decoration-color: #000080\">INFO    </span> <span style=\"font-weight: bold\">[</span>_client.py:<span style=\"color: #008080; text-decoration-color: #008080; font-weight: bold\">1773</span><span style=\"font-weight: bold\">]</span> &gt;&gt; HTTP Request: <span style=\"color: #808000; text-decoration-color: #808000; font-weight: bold\">POST</span>                                <a href=\"file://c:\\Users\\kim_h\\anaconda3\\envs\\rag\\Lib\\site-packages\\httpx\\_client.py\" target=\"_blank\"><span style=\"color: #7f7f7f; text-decoration-color: #7f7f7f\">_client.py</span></a><span style=\"color: #7f7f7f; text-decoration-color: #7f7f7f\">:</span><a href=\"file://c:\\Users\\kim_h\\anaconda3\\envs\\rag\\Lib\\site-packages\\httpx\\_client.py#1773\" target=\"_blank\"><span style=\"color: #7f7f7f; text-decoration-color: #7f7f7f\">1773</span></a>\n",
       "<span style=\"color: #7fbfbf; text-decoration-color: #7fbfbf\">                    </span>         <span style=\"color: #0000ff; text-decoration-color: #0000ff; text-decoration: underline\">https://api.openai.com/v1/chat/completions</span> <span style=\"color: #008000; text-decoration-color: #008000\">\"HTTP/1.1 200 OK\"</span>           <span style=\"color: #7f7f7f; text-decoration-color: #7f7f7f\">               </span>\n",
       "</pre>\n"
      ],
      "text/plain": [
       "\u001b[2;36m[06/29/24 22:11:14]\u001b[0m\u001b[2;36m \u001b[0m\u001b[34mINFO    \u001b[0m \u001b[1m[\u001b[0m_client.py:\u001b[1;36m1773\u001b[0m\u001b[1m]\u001b[0m >> HTTP Request: \u001b[1;33mPOST\u001b[0m                                \u001b]8;id=202200;file://c:\\Users\\kim_h\\anaconda3\\envs\\rag\\Lib\\site-packages\\httpx\\_client.py\u001b\\\u001b[2m_client.py\u001b[0m\u001b]8;;\u001b\\\u001b[2m:\u001b[0m\u001b]8;id=525928;file://c:\\Users\\kim_h\\anaconda3\\envs\\rag\\Lib\\site-packages\\httpx\\_client.py#1773\u001b\\\u001b[2m1773\u001b[0m\u001b]8;;\u001b\\\n",
       "\u001b[2;36m                    \u001b[0m         \u001b[4;94mhttps://api.openai.com/v1/chat/completions\u001b[0m \u001b[32m\"HTTP/1.1 200 OK\"\u001b[0m           \u001b[2m               \u001b[0m\n"
      ]
     },
     "metadata": {},
     "output_type": "display_data"
    },
    {
     "data": {
      "text/html": [
       "<pre style=\"white-space:pre;overflow-x:auto;line-height:normal;font-family:Menlo,'DejaVu Sans Mono',consolas,'Courier New',monospace\"><span style=\"color: #7fbfbf; text-decoration-color: #7fbfbf\">[06/29/24 22:11:15] </span><span style=\"color: #000080; text-decoration-color: #000080\">INFO    </span> <span style=\"font-weight: bold\">[</span>_client.py:<span style=\"color: #008080; text-decoration-color: #008080; font-weight: bold\">1773</span><span style=\"font-weight: bold\">]</span> &gt;&gt; HTTP Request: <span style=\"color: #808000; text-decoration-color: #808000; font-weight: bold\">POST</span>                                <a href=\"file://c:\\Users\\kim_h\\anaconda3\\envs\\rag\\Lib\\site-packages\\httpx\\_client.py\" target=\"_blank\"><span style=\"color: #7f7f7f; text-decoration-color: #7f7f7f\">_client.py</span></a><span style=\"color: #7f7f7f; text-decoration-color: #7f7f7f\">:</span><a href=\"file://c:\\Users\\kim_h\\anaconda3\\envs\\rag\\Lib\\site-packages\\httpx\\_client.py#1773\" target=\"_blank\"><span style=\"color: #7f7f7f; text-decoration-color: #7f7f7f\">1773</span></a>\n",
       "<span style=\"color: #7fbfbf; text-decoration-color: #7fbfbf\">                    </span>         <span style=\"color: #0000ff; text-decoration-color: #0000ff; text-decoration: underline\">https://api.openai.com/v1/chat/completions</span> <span style=\"color: #008000; text-decoration-color: #008000\">\"HTTP/1.1 200 OK\"</span>           <span style=\"color: #7f7f7f; text-decoration-color: #7f7f7f\">               </span>\n",
       "</pre>\n"
      ],
      "text/plain": [
       "\u001b[2;36m[06/29/24 22:11:15]\u001b[0m\u001b[2;36m \u001b[0m\u001b[34mINFO    \u001b[0m \u001b[1m[\u001b[0m_client.py:\u001b[1;36m1773\u001b[0m\u001b[1m]\u001b[0m >> HTTP Request: \u001b[1;33mPOST\u001b[0m                                \u001b]8;id=842357;file://c:\\Users\\kim_h\\anaconda3\\envs\\rag\\Lib\\site-packages\\httpx\\_client.py\u001b\\\u001b[2m_client.py\u001b[0m\u001b]8;;\u001b\\\u001b[2m:\u001b[0m\u001b]8;id=742881;file://c:\\Users\\kim_h\\anaconda3\\envs\\rag\\Lib\\site-packages\\httpx\\_client.py#1773\u001b\\\u001b[2m1773\u001b[0m\u001b]8;;\u001b\\\n",
       "\u001b[2;36m                    \u001b[0m         \u001b[4;94mhttps://api.openai.com/v1/chat/completions\u001b[0m \u001b[32m\"HTTP/1.1 200 OK\"\u001b[0m           \u001b[2m               \u001b[0m\n"
      ]
     },
     "metadata": {},
     "output_type": "display_data"
    },
    {
     "data": {
      "text/html": [
       "<pre style=\"white-space:pre;overflow-x:auto;line-height:normal;font-family:Menlo,'DejaVu Sans Mono',consolas,'Courier New',monospace\"><span style=\"color: #7fbfbf; text-decoration-color: #7fbfbf\">                    </span><span style=\"color: #000080; text-decoration-color: #000080\">INFO    </span> <span style=\"font-weight: bold\">[</span>_client.py:<span style=\"color: #008080; text-decoration-color: #008080; font-weight: bold\">1773</span><span style=\"font-weight: bold\">]</span> &gt;&gt; HTTP Request: <span style=\"color: #808000; text-decoration-color: #808000; font-weight: bold\">POST</span>                                <a href=\"file://c:\\Users\\kim_h\\anaconda3\\envs\\rag\\Lib\\site-packages\\httpx\\_client.py\" target=\"_blank\"><span style=\"color: #7f7f7f; text-decoration-color: #7f7f7f\">_client.py</span></a><span style=\"color: #7f7f7f; text-decoration-color: #7f7f7f\">:</span><a href=\"file://c:\\Users\\kim_h\\anaconda3\\envs\\rag\\Lib\\site-packages\\httpx\\_client.py#1773\" target=\"_blank\"><span style=\"color: #7f7f7f; text-decoration-color: #7f7f7f\">1773</span></a>\n",
       "<span style=\"color: #7fbfbf; text-decoration-color: #7fbfbf\">                    </span>         <span style=\"color: #0000ff; text-decoration-color: #0000ff; text-decoration: underline\">https://api.openai.com/v1/chat/completions</span> <span style=\"color: #008000; text-decoration-color: #008000\">\"HTTP/1.1 200 OK\"</span>           <span style=\"color: #7f7f7f; text-decoration-color: #7f7f7f\">               </span>\n",
       "</pre>\n"
      ],
      "text/plain": [
       "\u001b[2;36m                   \u001b[0m\u001b[2;36m \u001b[0m\u001b[34mINFO    \u001b[0m \u001b[1m[\u001b[0m_client.py:\u001b[1;36m1773\u001b[0m\u001b[1m]\u001b[0m >> HTTP Request: \u001b[1;33mPOST\u001b[0m                                \u001b]8;id=508767;file://c:\\Users\\kim_h\\anaconda3\\envs\\rag\\Lib\\site-packages\\httpx\\_client.py\u001b\\\u001b[2m_client.py\u001b[0m\u001b]8;;\u001b\\\u001b[2m:\u001b[0m\u001b]8;id=723903;file://c:\\Users\\kim_h\\anaconda3\\envs\\rag\\Lib\\site-packages\\httpx\\_client.py#1773\u001b\\\u001b[2m1773\u001b[0m\u001b]8;;\u001b\\\n",
       "\u001b[2;36m                    \u001b[0m         \u001b[4;94mhttps://api.openai.com/v1/chat/completions\u001b[0m \u001b[32m\"HTTP/1.1 200 OK\"\u001b[0m           \u001b[2m               \u001b[0m\n"
      ]
     },
     "metadata": {},
     "output_type": "display_data"
    },
    {
     "data": {
      "text/html": [
       "<pre style=\"white-space:pre;overflow-x:auto;line-height:normal;font-family:Menlo,'DejaVu Sans Mono',consolas,'Courier New',monospace\"><span style=\"color: #7fbfbf; text-decoration-color: #7fbfbf\">                    </span><span style=\"color: #000080; text-decoration-color: #000080\">INFO    </span> <span style=\"font-weight: bold\">[</span>_client.py:<span style=\"color: #008080; text-decoration-color: #008080; font-weight: bold\">1773</span><span style=\"font-weight: bold\">]</span> &gt;&gt; HTTP Request: <span style=\"color: #808000; text-decoration-color: #808000; font-weight: bold\">POST</span>                                <a href=\"file://c:\\Users\\kim_h\\anaconda3\\envs\\rag\\Lib\\site-packages\\httpx\\_client.py\" target=\"_blank\"><span style=\"color: #7f7f7f; text-decoration-color: #7f7f7f\">_client.py</span></a><span style=\"color: #7f7f7f; text-decoration-color: #7f7f7f\">:</span><a href=\"file://c:\\Users\\kim_h\\anaconda3\\envs\\rag\\Lib\\site-packages\\httpx\\_client.py#1773\" target=\"_blank\"><span style=\"color: #7f7f7f; text-decoration-color: #7f7f7f\">1773</span></a>\n",
       "<span style=\"color: #7fbfbf; text-decoration-color: #7fbfbf\">                    </span>         <span style=\"color: #0000ff; text-decoration-color: #0000ff; text-decoration: underline\">https://api.openai.com/v1/chat/completions</span> <span style=\"color: #008000; text-decoration-color: #008000\">\"HTTP/1.1 200 OK\"</span>           <span style=\"color: #7f7f7f; text-decoration-color: #7f7f7f\">               </span>\n",
       "</pre>\n"
      ],
      "text/plain": [
       "\u001b[2;36m                   \u001b[0m\u001b[2;36m \u001b[0m\u001b[34mINFO    \u001b[0m \u001b[1m[\u001b[0m_client.py:\u001b[1;36m1773\u001b[0m\u001b[1m]\u001b[0m >> HTTP Request: \u001b[1;33mPOST\u001b[0m                                \u001b]8;id=712153;file://c:\\Users\\kim_h\\anaconda3\\envs\\rag\\Lib\\site-packages\\httpx\\_client.py\u001b\\\u001b[2m_client.py\u001b[0m\u001b]8;;\u001b\\\u001b[2m:\u001b[0m\u001b]8;id=620035;file://c:\\Users\\kim_h\\anaconda3\\envs\\rag\\Lib\\site-packages\\httpx\\_client.py#1773\u001b\\\u001b[2m1773\u001b[0m\u001b]8;;\u001b\\\n",
       "\u001b[2;36m                    \u001b[0m         \u001b[4;94mhttps://api.openai.com/v1/chat/completions\u001b[0m \u001b[32m\"HTTP/1.1 200 OK\"\u001b[0m           \u001b[2m               \u001b[0m\n"
      ]
     },
     "metadata": {},
     "output_type": "display_data"
    },
    {
     "data": {
      "text/html": [
       "<pre style=\"white-space:pre;overflow-x:auto;line-height:normal;font-family:Menlo,'DejaVu Sans Mono',consolas,'Courier New',monospace\"><span style=\"color: #7fbfbf; text-decoration-color: #7fbfbf\">[06/29/24 22:11:16] </span><span style=\"color: #000080; text-decoration-color: #000080\">INFO    </span> <span style=\"font-weight: bold\">[</span>_client.py:<span style=\"color: #008080; text-decoration-color: #008080; font-weight: bold\">1773</span><span style=\"font-weight: bold\">]</span> &gt;&gt; HTTP Request: <span style=\"color: #808000; text-decoration-color: #808000; font-weight: bold\">POST</span>                                <a href=\"file://c:\\Users\\kim_h\\anaconda3\\envs\\rag\\Lib\\site-packages\\httpx\\_client.py\" target=\"_blank\"><span style=\"color: #7f7f7f; text-decoration-color: #7f7f7f\">_client.py</span></a><span style=\"color: #7f7f7f; text-decoration-color: #7f7f7f\">:</span><a href=\"file://c:\\Users\\kim_h\\anaconda3\\envs\\rag\\Lib\\site-packages\\httpx\\_client.py#1773\" target=\"_blank\"><span style=\"color: #7f7f7f; text-decoration-color: #7f7f7f\">1773</span></a>\n",
       "<span style=\"color: #7fbfbf; text-decoration-color: #7fbfbf\">                    </span>         <span style=\"color: #0000ff; text-decoration-color: #0000ff; text-decoration: underline\">https://api.openai.com/v1/chat/completions</span> <span style=\"color: #008000; text-decoration-color: #008000\">\"HTTP/1.1 200 OK\"</span>           <span style=\"color: #7f7f7f; text-decoration-color: #7f7f7f\">               </span>\n",
       "</pre>\n"
      ],
      "text/plain": [
       "\u001b[2;36m[06/29/24 22:11:16]\u001b[0m\u001b[2;36m \u001b[0m\u001b[34mINFO    \u001b[0m \u001b[1m[\u001b[0m_client.py:\u001b[1;36m1773\u001b[0m\u001b[1m]\u001b[0m >> HTTP Request: \u001b[1;33mPOST\u001b[0m                                \u001b]8;id=582340;file://c:\\Users\\kim_h\\anaconda3\\envs\\rag\\Lib\\site-packages\\httpx\\_client.py\u001b\\\u001b[2m_client.py\u001b[0m\u001b]8;;\u001b\\\u001b[2m:\u001b[0m\u001b]8;id=158961;file://c:\\Users\\kim_h\\anaconda3\\envs\\rag\\Lib\\site-packages\\httpx\\_client.py#1773\u001b\\\u001b[2m1773\u001b[0m\u001b]8;;\u001b\\\n",
       "\u001b[2;36m                    \u001b[0m         \u001b[4;94mhttps://api.openai.com/v1/chat/completions\u001b[0m \u001b[32m\"HTTP/1.1 200 OK\"\u001b[0m           \u001b[2m               \u001b[0m\n"
      ]
     },
     "metadata": {},
     "output_type": "display_data"
    },
    {
     "data": {
      "text/html": [
       "<pre style=\"white-space:pre;overflow-x:auto;line-height:normal;font-family:Menlo,'DejaVu Sans Mono',consolas,'Courier New',monospace\"><span style=\"color: #7fbfbf; text-decoration-color: #7fbfbf\">                    </span><span style=\"color: #000080; text-decoration-color: #000080\">INFO    </span> <span style=\"font-weight: bold\">[</span>_client.py:<span style=\"color: #008080; text-decoration-color: #008080; font-weight: bold\">1773</span><span style=\"font-weight: bold\">]</span> &gt;&gt; HTTP Request: <span style=\"color: #808000; text-decoration-color: #808000; font-weight: bold\">POST</span>                                <a href=\"file://c:\\Users\\kim_h\\anaconda3\\envs\\rag\\Lib\\site-packages\\httpx\\_client.py\" target=\"_blank\"><span style=\"color: #7f7f7f; text-decoration-color: #7f7f7f\">_client.py</span></a><span style=\"color: #7f7f7f; text-decoration-color: #7f7f7f\">:</span><a href=\"file://c:\\Users\\kim_h\\anaconda3\\envs\\rag\\Lib\\site-packages\\httpx\\_client.py#1773\" target=\"_blank\"><span style=\"color: #7f7f7f; text-decoration-color: #7f7f7f\">1773</span></a>\n",
       "<span style=\"color: #7fbfbf; text-decoration-color: #7fbfbf\">                    </span>         <span style=\"color: #0000ff; text-decoration-color: #0000ff; text-decoration: underline\">https://api.openai.com/v1/chat/completions</span> <span style=\"color: #008000; text-decoration-color: #008000\">\"HTTP/1.1 200 OK\"</span>           <span style=\"color: #7f7f7f; text-decoration-color: #7f7f7f\">               </span>\n",
       "</pre>\n"
      ],
      "text/plain": [
       "\u001b[2;36m                   \u001b[0m\u001b[2;36m \u001b[0m\u001b[34mINFO    \u001b[0m \u001b[1m[\u001b[0m_client.py:\u001b[1;36m1773\u001b[0m\u001b[1m]\u001b[0m >> HTTP Request: \u001b[1;33mPOST\u001b[0m                                \u001b]8;id=628183;file://c:\\Users\\kim_h\\anaconda3\\envs\\rag\\Lib\\site-packages\\httpx\\_client.py\u001b\\\u001b[2m_client.py\u001b[0m\u001b]8;;\u001b\\\u001b[2m:\u001b[0m\u001b]8;id=166917;file://c:\\Users\\kim_h\\anaconda3\\envs\\rag\\Lib\\site-packages\\httpx\\_client.py#1773\u001b\\\u001b[2m1773\u001b[0m\u001b]8;;\u001b\\\n",
       "\u001b[2;36m                    \u001b[0m         \u001b[4;94mhttps://api.openai.com/v1/chat/completions\u001b[0m \u001b[32m\"HTTP/1.1 200 OK\"\u001b[0m           \u001b[2m               \u001b[0m\n"
      ]
     },
     "metadata": {},
     "output_type": "display_data"
    },
    {
     "data": {
      "text/html": [
       "<pre style=\"white-space:pre;overflow-x:auto;line-height:normal;font-family:Menlo,'DejaVu Sans Mono',consolas,'Courier New',monospace\"><span style=\"color: #7fbfbf; text-decoration-color: #7fbfbf\">                    </span><span style=\"color: #000080; text-decoration-color: #000080\">INFO    </span> <span style=\"font-weight: bold\">[</span>_client.py:<span style=\"color: #008080; text-decoration-color: #008080; font-weight: bold\">1773</span><span style=\"font-weight: bold\">]</span> &gt;&gt; HTTP Request: <span style=\"color: #808000; text-decoration-color: #808000; font-weight: bold\">POST</span>                                <a href=\"file://c:\\Users\\kim_h\\anaconda3\\envs\\rag\\Lib\\site-packages\\httpx\\_client.py\" target=\"_blank\"><span style=\"color: #7f7f7f; text-decoration-color: #7f7f7f\">_client.py</span></a><span style=\"color: #7f7f7f; text-decoration-color: #7f7f7f\">:</span><a href=\"file://c:\\Users\\kim_h\\anaconda3\\envs\\rag\\Lib\\site-packages\\httpx\\_client.py#1773\" target=\"_blank\"><span style=\"color: #7f7f7f; text-decoration-color: #7f7f7f\">1773</span></a>\n",
       "<span style=\"color: #7fbfbf; text-decoration-color: #7fbfbf\">                    </span>         <span style=\"color: #0000ff; text-decoration-color: #0000ff; text-decoration: underline\">https://api.openai.com/v1/chat/completions</span> <span style=\"color: #008000; text-decoration-color: #008000\">\"HTTP/1.1 200 OK\"</span>           <span style=\"color: #7f7f7f; text-decoration-color: #7f7f7f\">               </span>\n",
       "</pre>\n"
      ],
      "text/plain": [
       "\u001b[2;36m                   \u001b[0m\u001b[2;36m \u001b[0m\u001b[34mINFO    \u001b[0m \u001b[1m[\u001b[0m_client.py:\u001b[1;36m1773\u001b[0m\u001b[1m]\u001b[0m >> HTTP Request: \u001b[1;33mPOST\u001b[0m                                \u001b]8;id=441493;file://c:\\Users\\kim_h\\anaconda3\\envs\\rag\\Lib\\site-packages\\httpx\\_client.py\u001b\\\u001b[2m_client.py\u001b[0m\u001b]8;;\u001b\\\u001b[2m:\u001b[0m\u001b]8;id=657048;file://c:\\Users\\kim_h\\anaconda3\\envs\\rag\\Lib\\site-packages\\httpx\\_client.py#1773\u001b\\\u001b[2m1773\u001b[0m\u001b]8;;\u001b\\\n",
       "\u001b[2;36m                    \u001b[0m         \u001b[4;94mhttps://api.openai.com/v1/chat/completions\u001b[0m \u001b[32m\"HTTP/1.1 200 OK\"\u001b[0m           \u001b[2m               \u001b[0m\n"
      ]
     },
     "metadata": {},
     "output_type": "display_data"
    },
    {
     "data": {
      "text/html": [
       "<pre style=\"white-space:pre;overflow-x:auto;line-height:normal;font-family:Menlo,'DejaVu Sans Mono',consolas,'Courier New',monospace\"><span style=\"color: #7fbfbf; text-decoration-color: #7fbfbf\">                    </span><span style=\"color: #000080; text-decoration-color: #000080\">INFO    </span> <span style=\"font-weight: bold\">[</span>_client.py:<span style=\"color: #008080; text-decoration-color: #008080; font-weight: bold\">1773</span><span style=\"font-weight: bold\">]</span> &gt;&gt; HTTP Request: <span style=\"color: #808000; text-decoration-color: #808000; font-weight: bold\">POST</span>                                <a href=\"file://c:\\Users\\kim_h\\anaconda3\\envs\\rag\\Lib\\site-packages\\httpx\\_client.py\" target=\"_blank\"><span style=\"color: #7f7f7f; text-decoration-color: #7f7f7f\">_client.py</span></a><span style=\"color: #7f7f7f; text-decoration-color: #7f7f7f\">:</span><a href=\"file://c:\\Users\\kim_h\\anaconda3\\envs\\rag\\Lib\\site-packages\\httpx\\_client.py#1773\" target=\"_blank\"><span style=\"color: #7f7f7f; text-decoration-color: #7f7f7f\">1773</span></a>\n",
       "<span style=\"color: #7fbfbf; text-decoration-color: #7fbfbf\">                    </span>         <span style=\"color: #0000ff; text-decoration-color: #0000ff; text-decoration: underline\">https://api.openai.com/v1/chat/completions</span> <span style=\"color: #008000; text-decoration-color: #008000\">\"HTTP/1.1 200 OK\"</span>           <span style=\"color: #7f7f7f; text-decoration-color: #7f7f7f\">               </span>\n",
       "</pre>\n"
      ],
      "text/plain": [
       "\u001b[2;36m                   \u001b[0m\u001b[2;36m \u001b[0m\u001b[34mINFO    \u001b[0m \u001b[1m[\u001b[0m_client.py:\u001b[1;36m1773\u001b[0m\u001b[1m]\u001b[0m >> HTTP Request: \u001b[1;33mPOST\u001b[0m                                \u001b]8;id=591690;file://c:\\Users\\kim_h\\anaconda3\\envs\\rag\\Lib\\site-packages\\httpx\\_client.py\u001b\\\u001b[2m_client.py\u001b[0m\u001b]8;;\u001b\\\u001b[2m:\u001b[0m\u001b]8;id=244199;file://c:\\Users\\kim_h\\anaconda3\\envs\\rag\\Lib\\site-packages\\httpx\\_client.py#1773\u001b\\\u001b[2m1773\u001b[0m\u001b]8;;\u001b\\\n",
       "\u001b[2;36m                    \u001b[0m         \u001b[4;94mhttps://api.openai.com/v1/chat/completions\u001b[0m \u001b[32m\"HTTP/1.1 200 OK\"\u001b[0m           \u001b[2m               \u001b[0m\n"
      ]
     },
     "metadata": {},
     "output_type": "display_data"
    },
    {
     "data": {
      "text/html": [
       "<pre style=\"white-space:pre;overflow-x:auto;line-height:normal;font-family:Menlo,'DejaVu Sans Mono',consolas,'Courier New',monospace\"><span style=\"color: #7fbfbf; text-decoration-color: #7fbfbf\">[06/29/24 22:11:17] </span><span style=\"color: #000080; text-decoration-color: #000080\">INFO    </span> <span style=\"font-weight: bold\">[</span>_client.py:<span style=\"color: #008080; text-decoration-color: #008080; font-weight: bold\">1773</span><span style=\"font-weight: bold\">]</span> &gt;&gt; HTTP Request: <span style=\"color: #808000; text-decoration-color: #808000; font-weight: bold\">POST</span>                                <a href=\"file://c:\\Users\\kim_h\\anaconda3\\envs\\rag\\Lib\\site-packages\\httpx\\_client.py\" target=\"_blank\"><span style=\"color: #7f7f7f; text-decoration-color: #7f7f7f\">_client.py</span></a><span style=\"color: #7f7f7f; text-decoration-color: #7f7f7f\">:</span><a href=\"file://c:\\Users\\kim_h\\anaconda3\\envs\\rag\\Lib\\site-packages\\httpx\\_client.py#1773\" target=\"_blank\"><span style=\"color: #7f7f7f; text-decoration-color: #7f7f7f\">1773</span></a>\n",
       "<span style=\"color: #7fbfbf; text-decoration-color: #7fbfbf\">                    </span>         <span style=\"color: #0000ff; text-decoration-color: #0000ff; text-decoration: underline\">https://api.openai.com/v1/chat/completions</span> <span style=\"color: #008000; text-decoration-color: #008000\">\"HTTP/1.1 200 OK\"</span>           <span style=\"color: #7f7f7f; text-decoration-color: #7f7f7f\">               </span>\n",
       "</pre>\n"
      ],
      "text/plain": [
       "\u001b[2;36m[06/29/24 22:11:17]\u001b[0m\u001b[2;36m \u001b[0m\u001b[34mINFO    \u001b[0m \u001b[1m[\u001b[0m_client.py:\u001b[1;36m1773\u001b[0m\u001b[1m]\u001b[0m >> HTTP Request: \u001b[1;33mPOST\u001b[0m                                \u001b]8;id=261303;file://c:\\Users\\kim_h\\anaconda3\\envs\\rag\\Lib\\site-packages\\httpx\\_client.py\u001b\\\u001b[2m_client.py\u001b[0m\u001b]8;;\u001b\\\u001b[2m:\u001b[0m\u001b]8;id=726764;file://c:\\Users\\kim_h\\anaconda3\\envs\\rag\\Lib\\site-packages\\httpx\\_client.py#1773\u001b\\\u001b[2m1773\u001b[0m\u001b]8;;\u001b\\\n",
       "\u001b[2;36m                    \u001b[0m         \u001b[4;94mhttps://api.openai.com/v1/chat/completions\u001b[0m \u001b[32m\"HTTP/1.1 200 OK\"\u001b[0m           \u001b[2m               \u001b[0m\n"
      ]
     },
     "metadata": {},
     "output_type": "display_data"
    },
    {
     "data": {
      "text/html": [
       "<pre style=\"white-space:pre;overflow-x:auto;line-height:normal;font-family:Menlo,'DejaVu Sans Mono',consolas,'Courier New',monospace\"><span style=\"color: #7fbfbf; text-decoration-color: #7fbfbf\">                    </span><span style=\"color: #000080; text-decoration-color: #000080\">INFO    </span> <span style=\"font-weight: bold\">[</span>_client.py:<span style=\"color: #008080; text-decoration-color: #008080; font-weight: bold\">1773</span><span style=\"font-weight: bold\">]</span> &gt;&gt; HTTP Request: <span style=\"color: #808000; text-decoration-color: #808000; font-weight: bold\">POST</span>                                <a href=\"file://c:\\Users\\kim_h\\anaconda3\\envs\\rag\\Lib\\site-packages\\httpx\\_client.py\" target=\"_blank\"><span style=\"color: #7f7f7f; text-decoration-color: #7f7f7f\">_client.py</span></a><span style=\"color: #7f7f7f; text-decoration-color: #7f7f7f\">:</span><a href=\"file://c:\\Users\\kim_h\\anaconda3\\envs\\rag\\Lib\\site-packages\\httpx\\_client.py#1773\" target=\"_blank\"><span style=\"color: #7f7f7f; text-decoration-color: #7f7f7f\">1773</span></a>\n",
       "<span style=\"color: #7fbfbf; text-decoration-color: #7fbfbf\">                    </span>         <span style=\"color: #0000ff; text-decoration-color: #0000ff; text-decoration: underline\">https://api.openai.com/v1/chat/completions</span> <span style=\"color: #008000; text-decoration-color: #008000\">\"HTTP/1.1 200 OK\"</span>           <span style=\"color: #7f7f7f; text-decoration-color: #7f7f7f\">               </span>\n",
       "</pre>\n"
      ],
      "text/plain": [
       "\u001b[2;36m                   \u001b[0m\u001b[2;36m \u001b[0m\u001b[34mINFO    \u001b[0m \u001b[1m[\u001b[0m_client.py:\u001b[1;36m1773\u001b[0m\u001b[1m]\u001b[0m >> HTTP Request: \u001b[1;33mPOST\u001b[0m                                \u001b]8;id=260093;file://c:\\Users\\kim_h\\anaconda3\\envs\\rag\\Lib\\site-packages\\httpx\\_client.py\u001b\\\u001b[2m_client.py\u001b[0m\u001b]8;;\u001b\\\u001b[2m:\u001b[0m\u001b]8;id=921218;file://c:\\Users\\kim_h\\anaconda3\\envs\\rag\\Lib\\site-packages\\httpx\\_client.py#1773\u001b\\\u001b[2m1773\u001b[0m\u001b]8;;\u001b\\\n",
       "\u001b[2;36m                    \u001b[0m         \u001b[4;94mhttps://api.openai.com/v1/chat/completions\u001b[0m \u001b[32m\"HTTP/1.1 200 OK\"\u001b[0m           \u001b[2m               \u001b[0m\n"
      ]
     },
     "metadata": {},
     "output_type": "display_data"
    },
    {
     "data": {
      "text/html": [
       "<pre style=\"white-space:pre;overflow-x:auto;line-height:normal;font-family:Menlo,'DejaVu Sans Mono',consolas,'Courier New',monospace\"><span style=\"color: #7fbfbf; text-decoration-color: #7fbfbf\">                    </span><span style=\"color: #000080; text-decoration-color: #000080\">INFO    </span> <span style=\"font-weight: bold\">[</span>_client.py:<span style=\"color: #008080; text-decoration-color: #008080; font-weight: bold\">1773</span><span style=\"font-weight: bold\">]</span> &gt;&gt; HTTP Request: <span style=\"color: #808000; text-decoration-color: #808000; font-weight: bold\">POST</span>                                <a href=\"file://c:\\Users\\kim_h\\anaconda3\\envs\\rag\\Lib\\site-packages\\httpx\\_client.py\" target=\"_blank\"><span style=\"color: #7f7f7f; text-decoration-color: #7f7f7f\">_client.py</span></a><span style=\"color: #7f7f7f; text-decoration-color: #7f7f7f\">:</span><a href=\"file://c:\\Users\\kim_h\\anaconda3\\envs\\rag\\Lib\\site-packages\\httpx\\_client.py#1773\" target=\"_blank\"><span style=\"color: #7f7f7f; text-decoration-color: #7f7f7f\">1773</span></a>\n",
       "<span style=\"color: #7fbfbf; text-decoration-color: #7fbfbf\">                    </span>         <span style=\"color: #0000ff; text-decoration-color: #0000ff; text-decoration: underline\">https://api.openai.com/v1/chat/completions</span> <span style=\"color: #008000; text-decoration-color: #008000\">\"HTTP/1.1 200 OK\"</span>           <span style=\"color: #7f7f7f; text-decoration-color: #7f7f7f\">               </span>\n",
       "</pre>\n"
      ],
      "text/plain": [
       "\u001b[2;36m                   \u001b[0m\u001b[2;36m \u001b[0m\u001b[34mINFO    \u001b[0m \u001b[1m[\u001b[0m_client.py:\u001b[1;36m1773\u001b[0m\u001b[1m]\u001b[0m >> HTTP Request: \u001b[1;33mPOST\u001b[0m                                \u001b]8;id=209343;file://c:\\Users\\kim_h\\anaconda3\\envs\\rag\\Lib\\site-packages\\httpx\\_client.py\u001b\\\u001b[2m_client.py\u001b[0m\u001b]8;;\u001b\\\u001b[2m:\u001b[0m\u001b]8;id=432758;file://c:\\Users\\kim_h\\anaconda3\\envs\\rag\\Lib\\site-packages\\httpx\\_client.py#1773\u001b\\\u001b[2m1773\u001b[0m\u001b]8;;\u001b\\\n",
       "\u001b[2;36m                    \u001b[0m         \u001b[4;94mhttps://api.openai.com/v1/chat/completions\u001b[0m \u001b[32m\"HTTP/1.1 200 OK\"\u001b[0m           \u001b[2m               \u001b[0m\n"
      ]
     },
     "metadata": {},
     "output_type": "display_data"
    },
    {
     "data": {
      "text/html": [
       "<pre style=\"white-space:pre;overflow-x:auto;line-height:normal;font-family:Menlo,'DejaVu Sans Mono',consolas,'Courier New',monospace\"><span style=\"color: #7fbfbf; text-decoration-color: #7fbfbf\">                    </span><span style=\"color: #000080; text-decoration-color: #000080\">INFO    </span> <span style=\"font-weight: bold\">[</span>_client.py:<span style=\"color: #008080; text-decoration-color: #008080; font-weight: bold\">1773</span><span style=\"font-weight: bold\">]</span> &gt;&gt; HTTP Request: <span style=\"color: #808000; text-decoration-color: #808000; font-weight: bold\">POST</span>                                <a href=\"file://c:\\Users\\kim_h\\anaconda3\\envs\\rag\\Lib\\site-packages\\httpx\\_client.py\" target=\"_blank\"><span style=\"color: #7f7f7f; text-decoration-color: #7f7f7f\">_client.py</span></a><span style=\"color: #7f7f7f; text-decoration-color: #7f7f7f\">:</span><a href=\"file://c:\\Users\\kim_h\\anaconda3\\envs\\rag\\Lib\\site-packages\\httpx\\_client.py#1773\" target=\"_blank\"><span style=\"color: #7f7f7f; text-decoration-color: #7f7f7f\">1773</span></a>\n",
       "<span style=\"color: #7fbfbf; text-decoration-color: #7fbfbf\">                    </span>         <span style=\"color: #0000ff; text-decoration-color: #0000ff; text-decoration: underline\">https://api.openai.com/v1/chat/completions</span> <span style=\"color: #008000; text-decoration-color: #008000\">\"HTTP/1.1 200 OK\"</span>           <span style=\"color: #7f7f7f; text-decoration-color: #7f7f7f\">               </span>\n",
       "</pre>\n"
      ],
      "text/plain": [
       "\u001b[2;36m                   \u001b[0m\u001b[2;36m \u001b[0m\u001b[34mINFO    \u001b[0m \u001b[1m[\u001b[0m_client.py:\u001b[1;36m1773\u001b[0m\u001b[1m]\u001b[0m >> HTTP Request: \u001b[1;33mPOST\u001b[0m                                \u001b]8;id=327264;file://c:\\Users\\kim_h\\anaconda3\\envs\\rag\\Lib\\site-packages\\httpx\\_client.py\u001b\\\u001b[2m_client.py\u001b[0m\u001b]8;;\u001b\\\u001b[2m:\u001b[0m\u001b]8;id=60568;file://c:\\Users\\kim_h\\anaconda3\\envs\\rag\\Lib\\site-packages\\httpx\\_client.py#1773\u001b\\\u001b[2m1773\u001b[0m\u001b]8;;\u001b\\\n",
       "\u001b[2;36m                    \u001b[0m         \u001b[4;94mhttps://api.openai.com/v1/chat/completions\u001b[0m \u001b[32m\"HTTP/1.1 200 OK\"\u001b[0m           \u001b[2m               \u001b[0m\n"
      ]
     },
     "metadata": {},
     "output_type": "display_data"
    },
    {
     "data": {
      "text/html": [
       "<pre style=\"white-space:pre;overflow-x:auto;line-height:normal;font-family:Menlo,'DejaVu Sans Mono',consolas,'Courier New',monospace\"><span style=\"color: #7fbfbf; text-decoration-color: #7fbfbf\">[06/29/24 22:11:18] </span><span style=\"color: #000080; text-decoration-color: #000080\">INFO    </span> <span style=\"font-weight: bold\">[</span>_client.py:<span style=\"color: #008080; text-decoration-color: #008080; font-weight: bold\">1773</span><span style=\"font-weight: bold\">]</span> &gt;&gt; HTTP Request: <span style=\"color: #808000; text-decoration-color: #808000; font-weight: bold\">POST</span>                                <a href=\"file://c:\\Users\\kim_h\\anaconda3\\envs\\rag\\Lib\\site-packages\\httpx\\_client.py\" target=\"_blank\"><span style=\"color: #7f7f7f; text-decoration-color: #7f7f7f\">_client.py</span></a><span style=\"color: #7f7f7f; text-decoration-color: #7f7f7f\">:</span><a href=\"file://c:\\Users\\kim_h\\anaconda3\\envs\\rag\\Lib\\site-packages\\httpx\\_client.py#1773\" target=\"_blank\"><span style=\"color: #7f7f7f; text-decoration-color: #7f7f7f\">1773</span></a>\n",
       "<span style=\"color: #7fbfbf; text-decoration-color: #7fbfbf\">                    </span>         <span style=\"color: #0000ff; text-decoration-color: #0000ff; text-decoration: underline\">https://api.openai.com/v1/chat/completions</span> <span style=\"color: #008000; text-decoration-color: #008000\">\"HTTP/1.1 200 OK\"</span>           <span style=\"color: #7f7f7f; text-decoration-color: #7f7f7f\">               </span>\n",
       "</pre>\n"
      ],
      "text/plain": [
       "\u001b[2;36m[06/29/24 22:11:18]\u001b[0m\u001b[2;36m \u001b[0m\u001b[34mINFO    \u001b[0m \u001b[1m[\u001b[0m_client.py:\u001b[1;36m1773\u001b[0m\u001b[1m]\u001b[0m >> HTTP Request: \u001b[1;33mPOST\u001b[0m                                \u001b]8;id=38474;file://c:\\Users\\kim_h\\anaconda3\\envs\\rag\\Lib\\site-packages\\httpx\\_client.py\u001b\\\u001b[2m_client.py\u001b[0m\u001b]8;;\u001b\\\u001b[2m:\u001b[0m\u001b]8;id=909678;file://c:\\Users\\kim_h\\anaconda3\\envs\\rag\\Lib\\site-packages\\httpx\\_client.py#1773\u001b\\\u001b[2m1773\u001b[0m\u001b]8;;\u001b\\\n",
       "\u001b[2;36m                    \u001b[0m         \u001b[4;94mhttps://api.openai.com/v1/chat/completions\u001b[0m \u001b[32m\"HTTP/1.1 200 OK\"\u001b[0m           \u001b[2m               \u001b[0m\n"
      ]
     },
     "metadata": {},
     "output_type": "display_data"
    },
    {
     "data": {
      "text/html": [
       "<pre style=\"white-space:pre;overflow-x:auto;line-height:normal;font-family:Menlo,'DejaVu Sans Mono',consolas,'Courier New',monospace\"><span style=\"color: #7fbfbf; text-decoration-color: #7fbfbf\">                    </span><span style=\"color: #000080; text-decoration-color: #000080\">INFO    </span> <span style=\"font-weight: bold\">[</span>_client.py:<span style=\"color: #008080; text-decoration-color: #008080; font-weight: bold\">1773</span><span style=\"font-weight: bold\">]</span> &gt;&gt; HTTP Request: <span style=\"color: #808000; text-decoration-color: #808000; font-weight: bold\">POST</span>                                <a href=\"file://c:\\Users\\kim_h\\anaconda3\\envs\\rag\\Lib\\site-packages\\httpx\\_client.py\" target=\"_blank\"><span style=\"color: #7f7f7f; text-decoration-color: #7f7f7f\">_client.py</span></a><span style=\"color: #7f7f7f; text-decoration-color: #7f7f7f\">:</span><a href=\"file://c:\\Users\\kim_h\\anaconda3\\envs\\rag\\Lib\\site-packages\\httpx\\_client.py#1773\" target=\"_blank\"><span style=\"color: #7f7f7f; text-decoration-color: #7f7f7f\">1773</span></a>\n",
       "<span style=\"color: #7fbfbf; text-decoration-color: #7fbfbf\">                    </span>         <span style=\"color: #0000ff; text-decoration-color: #0000ff; text-decoration: underline\">https://api.openai.com/v1/chat/completions</span> <span style=\"color: #008000; text-decoration-color: #008000\">\"HTTP/1.1 200 OK\"</span>           <span style=\"color: #7f7f7f; text-decoration-color: #7f7f7f\">               </span>\n",
       "</pre>\n"
      ],
      "text/plain": [
       "\u001b[2;36m                   \u001b[0m\u001b[2;36m \u001b[0m\u001b[34mINFO    \u001b[0m \u001b[1m[\u001b[0m_client.py:\u001b[1;36m1773\u001b[0m\u001b[1m]\u001b[0m >> HTTP Request: \u001b[1;33mPOST\u001b[0m                                \u001b]8;id=18221;file://c:\\Users\\kim_h\\anaconda3\\envs\\rag\\Lib\\site-packages\\httpx\\_client.py\u001b\\\u001b[2m_client.py\u001b[0m\u001b]8;;\u001b\\\u001b[2m:\u001b[0m\u001b]8;id=722983;file://c:\\Users\\kim_h\\anaconda3\\envs\\rag\\Lib\\site-packages\\httpx\\_client.py#1773\u001b\\\u001b[2m1773\u001b[0m\u001b]8;;\u001b\\\n",
       "\u001b[2;36m                    \u001b[0m         \u001b[4;94mhttps://api.openai.com/v1/chat/completions\u001b[0m \u001b[32m\"HTTP/1.1 200 OK\"\u001b[0m           \u001b[2m               \u001b[0m\n"
      ]
     },
     "metadata": {},
     "output_type": "display_data"
    },
    {
     "data": {
      "text/html": [
       "<pre style=\"white-space:pre;overflow-x:auto;line-height:normal;font-family:Menlo,'DejaVu Sans Mono',consolas,'Courier New',monospace\"><span style=\"color: #7fbfbf; text-decoration-color: #7fbfbf\">                    </span><span style=\"color: #000080; text-decoration-color: #000080\">INFO    </span> <span style=\"font-weight: bold\">[</span>_client.py:<span style=\"color: #008080; text-decoration-color: #008080; font-weight: bold\">1773</span><span style=\"font-weight: bold\">]</span> &gt;&gt; HTTP Request: <span style=\"color: #808000; text-decoration-color: #808000; font-weight: bold\">POST</span>                                <a href=\"file://c:\\Users\\kim_h\\anaconda3\\envs\\rag\\Lib\\site-packages\\httpx\\_client.py\" target=\"_blank\"><span style=\"color: #7f7f7f; text-decoration-color: #7f7f7f\">_client.py</span></a><span style=\"color: #7f7f7f; text-decoration-color: #7f7f7f\">:</span><a href=\"file://c:\\Users\\kim_h\\anaconda3\\envs\\rag\\Lib\\site-packages\\httpx\\_client.py#1773\" target=\"_blank\"><span style=\"color: #7f7f7f; text-decoration-color: #7f7f7f\">1773</span></a>\n",
       "<span style=\"color: #7fbfbf; text-decoration-color: #7fbfbf\">                    </span>         <span style=\"color: #0000ff; text-decoration-color: #0000ff; text-decoration: underline\">https://api.openai.com/v1/chat/completions</span> <span style=\"color: #008000; text-decoration-color: #008000\">\"HTTP/1.1 200 OK\"</span>           <span style=\"color: #7f7f7f; text-decoration-color: #7f7f7f\">               </span>\n",
       "</pre>\n"
      ],
      "text/plain": [
       "\u001b[2;36m                   \u001b[0m\u001b[2;36m \u001b[0m\u001b[34mINFO    \u001b[0m \u001b[1m[\u001b[0m_client.py:\u001b[1;36m1773\u001b[0m\u001b[1m]\u001b[0m >> HTTP Request: \u001b[1;33mPOST\u001b[0m                                \u001b]8;id=950092;file://c:\\Users\\kim_h\\anaconda3\\envs\\rag\\Lib\\site-packages\\httpx\\_client.py\u001b\\\u001b[2m_client.py\u001b[0m\u001b]8;;\u001b\\\u001b[2m:\u001b[0m\u001b]8;id=258441;file://c:\\Users\\kim_h\\anaconda3\\envs\\rag\\Lib\\site-packages\\httpx\\_client.py#1773\u001b\\\u001b[2m1773\u001b[0m\u001b]8;;\u001b\\\n",
       "\u001b[2;36m                    \u001b[0m         \u001b[4;94mhttps://api.openai.com/v1/chat/completions\u001b[0m \u001b[32m\"HTTP/1.1 200 OK\"\u001b[0m           \u001b[2m               \u001b[0m\n"
      ]
     },
     "metadata": {},
     "output_type": "display_data"
    },
    {
     "data": {
      "text/html": [
       "<pre style=\"white-space:pre;overflow-x:auto;line-height:normal;font-family:Menlo,'DejaVu Sans Mono',consolas,'Courier New',monospace\"><span style=\"color: #7fbfbf; text-decoration-color: #7fbfbf\">[06/29/24 22:11:19] </span><span style=\"color: #000080; text-decoration-color: #000080\">INFO    </span> <span style=\"font-weight: bold\">[</span>_client.py:<span style=\"color: #008080; text-decoration-color: #008080; font-weight: bold\">1773</span><span style=\"font-weight: bold\">]</span> &gt;&gt; HTTP Request: <span style=\"color: #808000; text-decoration-color: #808000; font-weight: bold\">POST</span>                                <a href=\"file://c:\\Users\\kim_h\\anaconda3\\envs\\rag\\Lib\\site-packages\\httpx\\_client.py\" target=\"_blank\"><span style=\"color: #7f7f7f; text-decoration-color: #7f7f7f\">_client.py</span></a><span style=\"color: #7f7f7f; text-decoration-color: #7f7f7f\">:</span><a href=\"file://c:\\Users\\kim_h\\anaconda3\\envs\\rag\\Lib\\site-packages\\httpx\\_client.py#1773\" target=\"_blank\"><span style=\"color: #7f7f7f; text-decoration-color: #7f7f7f\">1773</span></a>\n",
       "<span style=\"color: #7fbfbf; text-decoration-color: #7fbfbf\">                    </span>         <span style=\"color: #0000ff; text-decoration-color: #0000ff; text-decoration: underline\">https://api.openai.com/v1/chat/completions</span> <span style=\"color: #008000; text-decoration-color: #008000\">\"HTTP/1.1 200 OK\"</span>           <span style=\"color: #7f7f7f; text-decoration-color: #7f7f7f\">               </span>\n",
       "</pre>\n"
      ],
      "text/plain": [
       "\u001b[2;36m[06/29/24 22:11:19]\u001b[0m\u001b[2;36m \u001b[0m\u001b[34mINFO    \u001b[0m \u001b[1m[\u001b[0m_client.py:\u001b[1;36m1773\u001b[0m\u001b[1m]\u001b[0m >> HTTP Request: \u001b[1;33mPOST\u001b[0m                                \u001b]8;id=321241;file://c:\\Users\\kim_h\\anaconda3\\envs\\rag\\Lib\\site-packages\\httpx\\_client.py\u001b\\\u001b[2m_client.py\u001b[0m\u001b]8;;\u001b\\\u001b[2m:\u001b[0m\u001b]8;id=264843;file://c:\\Users\\kim_h\\anaconda3\\envs\\rag\\Lib\\site-packages\\httpx\\_client.py#1773\u001b\\\u001b[2m1773\u001b[0m\u001b]8;;\u001b\\\n",
       "\u001b[2;36m                    \u001b[0m         \u001b[4;94mhttps://api.openai.com/v1/chat/completions\u001b[0m \u001b[32m\"HTTP/1.1 200 OK\"\u001b[0m           \u001b[2m               \u001b[0m\n"
      ]
     },
     "metadata": {},
     "output_type": "display_data"
    },
    {
     "data": {
      "text/html": [
       "<pre style=\"white-space:pre;overflow-x:auto;line-height:normal;font-family:Menlo,'DejaVu Sans Mono',consolas,'Courier New',monospace\"><span style=\"color: #7fbfbf; text-decoration-color: #7fbfbf\">[06/29/24 22:11:20] </span><span style=\"color: #000080; text-decoration-color: #000080\">INFO    </span> <span style=\"font-weight: bold\">[</span>_client.py:<span style=\"color: #008080; text-decoration-color: #008080; font-weight: bold\">1773</span><span style=\"font-weight: bold\">]</span> &gt;&gt; HTTP Request: <span style=\"color: #808000; text-decoration-color: #808000; font-weight: bold\">POST</span>                                <a href=\"file://c:\\Users\\kim_h\\anaconda3\\envs\\rag\\Lib\\site-packages\\httpx\\_client.py\" target=\"_blank\"><span style=\"color: #7f7f7f; text-decoration-color: #7f7f7f\">_client.py</span></a><span style=\"color: #7f7f7f; text-decoration-color: #7f7f7f\">:</span><a href=\"file://c:\\Users\\kim_h\\anaconda3\\envs\\rag\\Lib\\site-packages\\httpx\\_client.py#1773\" target=\"_blank\"><span style=\"color: #7f7f7f; text-decoration-color: #7f7f7f\">1773</span></a>\n",
       "<span style=\"color: #7fbfbf; text-decoration-color: #7fbfbf\">                    </span>         <span style=\"color: #0000ff; text-decoration-color: #0000ff; text-decoration: underline\">https://api.openai.com/v1/chat/completions</span> <span style=\"color: #008000; text-decoration-color: #008000\">\"HTTP/1.1 200 OK\"</span>           <span style=\"color: #7f7f7f; text-decoration-color: #7f7f7f\">               </span>\n",
       "</pre>\n"
      ],
      "text/plain": [
       "\u001b[2;36m[06/29/24 22:11:20]\u001b[0m\u001b[2;36m \u001b[0m\u001b[34mINFO    \u001b[0m \u001b[1m[\u001b[0m_client.py:\u001b[1;36m1773\u001b[0m\u001b[1m]\u001b[0m >> HTTP Request: \u001b[1;33mPOST\u001b[0m                                \u001b]8;id=108012;file://c:\\Users\\kim_h\\anaconda3\\envs\\rag\\Lib\\site-packages\\httpx\\_client.py\u001b\\\u001b[2m_client.py\u001b[0m\u001b]8;;\u001b\\\u001b[2m:\u001b[0m\u001b]8;id=170046;file://c:\\Users\\kim_h\\anaconda3\\envs\\rag\\Lib\\site-packages\\httpx\\_client.py#1773\u001b\\\u001b[2m1773\u001b[0m\u001b]8;;\u001b\\\n",
       "\u001b[2;36m                    \u001b[0m         \u001b[4;94mhttps://api.openai.com/v1/chat/completions\u001b[0m \u001b[32m\"HTTP/1.1 200 OK\"\u001b[0m           \u001b[2m               \u001b[0m\n"
      ]
     },
     "metadata": {},
     "output_type": "display_data"
    },
    {
     "data": {
      "text/html": [
       "<pre style=\"white-space:pre;overflow-x:auto;line-height:normal;font-family:Menlo,'DejaVu Sans Mono',consolas,'Courier New',monospace\"><span style=\"color: #7fbfbf; text-decoration-color: #7fbfbf\">                    </span><span style=\"color: #000080; text-decoration-color: #000080\">INFO    </span> <span style=\"font-weight: bold\">[</span>_client.py:<span style=\"color: #008080; text-decoration-color: #008080; font-weight: bold\">1773</span><span style=\"font-weight: bold\">]</span> &gt;&gt; HTTP Request: <span style=\"color: #808000; text-decoration-color: #808000; font-weight: bold\">POST</span>                                <a href=\"file://c:\\Users\\kim_h\\anaconda3\\envs\\rag\\Lib\\site-packages\\httpx\\_client.py\" target=\"_blank\"><span style=\"color: #7f7f7f; text-decoration-color: #7f7f7f\">_client.py</span></a><span style=\"color: #7f7f7f; text-decoration-color: #7f7f7f\">:</span><a href=\"file://c:\\Users\\kim_h\\anaconda3\\envs\\rag\\Lib\\site-packages\\httpx\\_client.py#1773\" target=\"_blank\"><span style=\"color: #7f7f7f; text-decoration-color: #7f7f7f\">1773</span></a>\n",
       "<span style=\"color: #7fbfbf; text-decoration-color: #7fbfbf\">                    </span>         <span style=\"color: #0000ff; text-decoration-color: #0000ff; text-decoration: underline\">https://api.openai.com/v1/chat/completions</span> <span style=\"color: #008000; text-decoration-color: #008000\">\"HTTP/1.1 200 OK\"</span>           <span style=\"color: #7f7f7f; text-decoration-color: #7f7f7f\">               </span>\n",
       "</pre>\n"
      ],
      "text/plain": [
       "\u001b[2;36m                   \u001b[0m\u001b[2;36m \u001b[0m\u001b[34mINFO    \u001b[0m \u001b[1m[\u001b[0m_client.py:\u001b[1;36m1773\u001b[0m\u001b[1m]\u001b[0m >> HTTP Request: \u001b[1;33mPOST\u001b[0m                                \u001b]8;id=315603;file://c:\\Users\\kim_h\\anaconda3\\envs\\rag\\Lib\\site-packages\\httpx\\_client.py\u001b\\\u001b[2m_client.py\u001b[0m\u001b]8;;\u001b\\\u001b[2m:\u001b[0m\u001b]8;id=596791;file://c:\\Users\\kim_h\\anaconda3\\envs\\rag\\Lib\\site-packages\\httpx\\_client.py#1773\u001b\\\u001b[2m1773\u001b[0m\u001b]8;;\u001b\\\n",
       "\u001b[2;36m                    \u001b[0m         \u001b[4;94mhttps://api.openai.com/v1/chat/completions\u001b[0m \u001b[32m\"HTTP/1.1 200 OK\"\u001b[0m           \u001b[2m               \u001b[0m\n"
      ]
     },
     "metadata": {},
     "output_type": "display_data"
    },
    {
     "data": {
      "text/html": [
       "<pre style=\"white-space:pre;overflow-x:auto;line-height:normal;font-family:Menlo,'DejaVu Sans Mono',consolas,'Courier New',monospace\"><span style=\"color: #7fbfbf; text-decoration-color: #7fbfbf\">                    </span><span style=\"color: #000080; text-decoration-color: #000080\">INFO    </span> <span style=\"font-weight: bold\">[</span>_client.py:<span style=\"color: #008080; text-decoration-color: #008080; font-weight: bold\">1773</span><span style=\"font-weight: bold\">]</span> &gt;&gt; HTTP Request: <span style=\"color: #808000; text-decoration-color: #808000; font-weight: bold\">POST</span>                                <a href=\"file://c:\\Users\\kim_h\\anaconda3\\envs\\rag\\Lib\\site-packages\\httpx\\_client.py\" target=\"_blank\"><span style=\"color: #7f7f7f; text-decoration-color: #7f7f7f\">_client.py</span></a><span style=\"color: #7f7f7f; text-decoration-color: #7f7f7f\">:</span><a href=\"file://c:\\Users\\kim_h\\anaconda3\\envs\\rag\\Lib\\site-packages\\httpx\\_client.py#1773\" target=\"_blank\"><span style=\"color: #7f7f7f; text-decoration-color: #7f7f7f\">1773</span></a>\n",
       "<span style=\"color: #7fbfbf; text-decoration-color: #7fbfbf\">                    </span>         <span style=\"color: #0000ff; text-decoration-color: #0000ff; text-decoration: underline\">https://api.openai.com/v1/chat/completions</span> <span style=\"color: #008000; text-decoration-color: #008000\">\"HTTP/1.1 200 OK\"</span>           <span style=\"color: #7f7f7f; text-decoration-color: #7f7f7f\">               </span>\n",
       "</pre>\n"
      ],
      "text/plain": [
       "\u001b[2;36m                   \u001b[0m\u001b[2;36m \u001b[0m\u001b[34mINFO    \u001b[0m \u001b[1m[\u001b[0m_client.py:\u001b[1;36m1773\u001b[0m\u001b[1m]\u001b[0m >> HTTP Request: \u001b[1;33mPOST\u001b[0m                                \u001b]8;id=51013;file://c:\\Users\\kim_h\\anaconda3\\envs\\rag\\Lib\\site-packages\\httpx\\_client.py\u001b\\\u001b[2m_client.py\u001b[0m\u001b]8;;\u001b\\\u001b[2m:\u001b[0m\u001b]8;id=758874;file://c:\\Users\\kim_h\\anaconda3\\envs\\rag\\Lib\\site-packages\\httpx\\_client.py#1773\u001b\\\u001b[2m1773\u001b[0m\u001b]8;;\u001b\\\n",
       "\u001b[2;36m                    \u001b[0m         \u001b[4;94mhttps://api.openai.com/v1/chat/completions\u001b[0m \u001b[32m\"HTTP/1.1 200 OK\"\u001b[0m           \u001b[2m               \u001b[0m\n"
      ]
     },
     "metadata": {},
     "output_type": "display_data"
    },
    {
     "data": {
      "text/html": [
       "<pre style=\"white-space:pre;overflow-x:auto;line-height:normal;font-family:Menlo,'DejaVu Sans Mono',consolas,'Courier New',monospace\"><span style=\"color: #7fbfbf; text-decoration-color: #7fbfbf\">                    </span><span style=\"color: #000080; text-decoration-color: #000080\">INFO    </span> <span style=\"font-weight: bold\">[</span>_client.py:<span style=\"color: #008080; text-decoration-color: #008080; font-weight: bold\">1773</span><span style=\"font-weight: bold\">]</span> &gt;&gt; HTTP Request: <span style=\"color: #808000; text-decoration-color: #808000; font-weight: bold\">POST</span>                                <a href=\"file://c:\\Users\\kim_h\\anaconda3\\envs\\rag\\Lib\\site-packages\\httpx\\_client.py\" target=\"_blank\"><span style=\"color: #7f7f7f; text-decoration-color: #7f7f7f\">_client.py</span></a><span style=\"color: #7f7f7f; text-decoration-color: #7f7f7f\">:</span><a href=\"file://c:\\Users\\kim_h\\anaconda3\\envs\\rag\\Lib\\site-packages\\httpx\\_client.py#1773\" target=\"_blank\"><span style=\"color: #7f7f7f; text-decoration-color: #7f7f7f\">1773</span></a>\n",
       "<span style=\"color: #7fbfbf; text-decoration-color: #7fbfbf\">                    </span>         <span style=\"color: #0000ff; text-decoration-color: #0000ff; text-decoration: underline\">https://api.openai.com/v1/chat/completions</span> <span style=\"color: #008000; text-decoration-color: #008000\">\"HTTP/1.1 200 OK\"</span>           <span style=\"color: #7f7f7f; text-decoration-color: #7f7f7f\">               </span>\n",
       "</pre>\n"
      ],
      "text/plain": [
       "\u001b[2;36m                   \u001b[0m\u001b[2;36m \u001b[0m\u001b[34mINFO    \u001b[0m \u001b[1m[\u001b[0m_client.py:\u001b[1;36m1773\u001b[0m\u001b[1m]\u001b[0m >> HTTP Request: \u001b[1;33mPOST\u001b[0m                                \u001b]8;id=517386;file://c:\\Users\\kim_h\\anaconda3\\envs\\rag\\Lib\\site-packages\\httpx\\_client.py\u001b\\\u001b[2m_client.py\u001b[0m\u001b]8;;\u001b\\\u001b[2m:\u001b[0m\u001b]8;id=136448;file://c:\\Users\\kim_h\\anaconda3\\envs\\rag\\Lib\\site-packages\\httpx\\_client.py#1773\u001b\\\u001b[2m1773\u001b[0m\u001b]8;;\u001b\\\n",
       "\u001b[2;36m                    \u001b[0m         \u001b[4;94mhttps://api.openai.com/v1/chat/completions\u001b[0m \u001b[32m\"HTTP/1.1 200 OK\"\u001b[0m           \u001b[2m               \u001b[0m\n"
      ]
     },
     "metadata": {},
     "output_type": "display_data"
    },
    {
     "data": {
      "text/html": [
       "<pre style=\"white-space:pre;overflow-x:auto;line-height:normal;font-family:Menlo,'DejaVu Sans Mono',consolas,'Courier New',monospace\"><span style=\"color: #7fbfbf; text-decoration-color: #7fbfbf\">[06/29/24 22:11:21] </span><span style=\"color: #000080; text-decoration-color: #000080\">INFO    </span> <span style=\"font-weight: bold\">[</span>_client.py:<span style=\"color: #008080; text-decoration-color: #008080; font-weight: bold\">1773</span><span style=\"font-weight: bold\">]</span> &gt;&gt; HTTP Request: <span style=\"color: #808000; text-decoration-color: #808000; font-weight: bold\">POST</span>                                <a href=\"file://c:\\Users\\kim_h\\anaconda3\\envs\\rag\\Lib\\site-packages\\httpx\\_client.py\" target=\"_blank\"><span style=\"color: #7f7f7f; text-decoration-color: #7f7f7f\">_client.py</span></a><span style=\"color: #7f7f7f; text-decoration-color: #7f7f7f\">:</span><a href=\"file://c:\\Users\\kim_h\\anaconda3\\envs\\rag\\Lib\\site-packages\\httpx\\_client.py#1773\" target=\"_blank\"><span style=\"color: #7f7f7f; text-decoration-color: #7f7f7f\">1773</span></a>\n",
       "<span style=\"color: #7fbfbf; text-decoration-color: #7fbfbf\">                    </span>         <span style=\"color: #0000ff; text-decoration-color: #0000ff; text-decoration: underline\">https://api.openai.com/v1/chat/completions</span> <span style=\"color: #008000; text-decoration-color: #008000\">\"HTTP/1.1 200 OK\"</span>           <span style=\"color: #7f7f7f; text-decoration-color: #7f7f7f\">               </span>\n",
       "</pre>\n"
      ],
      "text/plain": [
       "\u001b[2;36m[06/29/24 22:11:21]\u001b[0m\u001b[2;36m \u001b[0m\u001b[34mINFO    \u001b[0m \u001b[1m[\u001b[0m_client.py:\u001b[1;36m1773\u001b[0m\u001b[1m]\u001b[0m >> HTTP Request: \u001b[1;33mPOST\u001b[0m                                \u001b]8;id=419201;file://c:\\Users\\kim_h\\anaconda3\\envs\\rag\\Lib\\site-packages\\httpx\\_client.py\u001b\\\u001b[2m_client.py\u001b[0m\u001b]8;;\u001b\\\u001b[2m:\u001b[0m\u001b]8;id=410158;file://c:\\Users\\kim_h\\anaconda3\\envs\\rag\\Lib\\site-packages\\httpx\\_client.py#1773\u001b\\\u001b[2m1773\u001b[0m\u001b]8;;\u001b\\\n",
       "\u001b[2;36m                    \u001b[0m         \u001b[4;94mhttps://api.openai.com/v1/chat/completions\u001b[0m \u001b[32m\"HTTP/1.1 200 OK\"\u001b[0m           \u001b[2m               \u001b[0m\n"
      ]
     },
     "metadata": {},
     "output_type": "display_data"
    },
    {
     "data": {
      "text/html": [
       "<pre style=\"white-space:pre;overflow-x:auto;line-height:normal;font-family:Menlo,'DejaVu Sans Mono',consolas,'Courier New',monospace\"><span style=\"color: #7fbfbf; text-decoration-color: #7fbfbf\">                    </span><span style=\"color: #000080; text-decoration-color: #000080\">INFO    </span> <span style=\"font-weight: bold\">[</span>_client.py:<span style=\"color: #008080; text-decoration-color: #008080; font-weight: bold\">1773</span><span style=\"font-weight: bold\">]</span> &gt;&gt; HTTP Request: <span style=\"color: #808000; text-decoration-color: #808000; font-weight: bold\">POST</span>                                <a href=\"file://c:\\Users\\kim_h\\anaconda3\\envs\\rag\\Lib\\site-packages\\httpx\\_client.py\" target=\"_blank\"><span style=\"color: #7f7f7f; text-decoration-color: #7f7f7f\">_client.py</span></a><span style=\"color: #7f7f7f; text-decoration-color: #7f7f7f\">:</span><a href=\"file://c:\\Users\\kim_h\\anaconda3\\envs\\rag\\Lib\\site-packages\\httpx\\_client.py#1773\" target=\"_blank\"><span style=\"color: #7f7f7f; text-decoration-color: #7f7f7f\">1773</span></a>\n",
       "<span style=\"color: #7fbfbf; text-decoration-color: #7fbfbf\">                    </span>         <span style=\"color: #0000ff; text-decoration-color: #0000ff; text-decoration: underline\">https://api.openai.com/v1/chat/completions</span> <span style=\"color: #008000; text-decoration-color: #008000\">\"HTTP/1.1 200 OK\"</span>           <span style=\"color: #7f7f7f; text-decoration-color: #7f7f7f\">               </span>\n",
       "</pre>\n"
      ],
      "text/plain": [
       "\u001b[2;36m                   \u001b[0m\u001b[2;36m \u001b[0m\u001b[34mINFO    \u001b[0m \u001b[1m[\u001b[0m_client.py:\u001b[1;36m1773\u001b[0m\u001b[1m]\u001b[0m >> HTTP Request: \u001b[1;33mPOST\u001b[0m                                \u001b]8;id=663395;file://c:\\Users\\kim_h\\anaconda3\\envs\\rag\\Lib\\site-packages\\httpx\\_client.py\u001b\\\u001b[2m_client.py\u001b[0m\u001b]8;;\u001b\\\u001b[2m:\u001b[0m\u001b]8;id=104189;file://c:\\Users\\kim_h\\anaconda3\\envs\\rag\\Lib\\site-packages\\httpx\\_client.py#1773\u001b\\\u001b[2m1773\u001b[0m\u001b]8;;\u001b\\\n",
       "\u001b[2;36m                    \u001b[0m         \u001b[4;94mhttps://api.openai.com/v1/chat/completions\u001b[0m \u001b[32m\"HTTP/1.1 200 OK\"\u001b[0m           \u001b[2m               \u001b[0m\n"
      ]
     },
     "metadata": {},
     "output_type": "display_data"
    },
    {
     "data": {
      "text/html": [
       "<pre style=\"white-space:pre;overflow-x:auto;line-height:normal;font-family:Menlo,'DejaVu Sans Mono',consolas,'Courier New',monospace\"><span style=\"color: #7fbfbf; text-decoration-color: #7fbfbf\">[06/29/24 22:11:22] </span><span style=\"color: #000080; text-decoration-color: #000080\">INFO    </span> <span style=\"font-weight: bold\">[</span>_client.py:<span style=\"color: #008080; text-decoration-color: #008080; font-weight: bold\">1773</span><span style=\"font-weight: bold\">]</span> &gt;&gt; HTTP Request: <span style=\"color: #808000; text-decoration-color: #808000; font-weight: bold\">POST</span>                                <a href=\"file://c:\\Users\\kim_h\\anaconda3\\envs\\rag\\Lib\\site-packages\\httpx\\_client.py\" target=\"_blank\"><span style=\"color: #7f7f7f; text-decoration-color: #7f7f7f\">_client.py</span></a><span style=\"color: #7f7f7f; text-decoration-color: #7f7f7f\">:</span><a href=\"file://c:\\Users\\kim_h\\anaconda3\\envs\\rag\\Lib\\site-packages\\httpx\\_client.py#1773\" target=\"_blank\"><span style=\"color: #7f7f7f; text-decoration-color: #7f7f7f\">1773</span></a>\n",
       "<span style=\"color: #7fbfbf; text-decoration-color: #7fbfbf\">                    </span>         <span style=\"color: #0000ff; text-decoration-color: #0000ff; text-decoration: underline\">https://api.openai.com/v1/chat/completions</span> <span style=\"color: #008000; text-decoration-color: #008000\">\"HTTP/1.1 200 OK\"</span>           <span style=\"color: #7f7f7f; text-decoration-color: #7f7f7f\">               </span>\n",
       "</pre>\n"
      ],
      "text/plain": [
       "\u001b[2;36m[06/29/24 22:11:22]\u001b[0m\u001b[2;36m \u001b[0m\u001b[34mINFO    \u001b[0m \u001b[1m[\u001b[0m_client.py:\u001b[1;36m1773\u001b[0m\u001b[1m]\u001b[0m >> HTTP Request: \u001b[1;33mPOST\u001b[0m                                \u001b]8;id=810045;file://c:\\Users\\kim_h\\anaconda3\\envs\\rag\\Lib\\site-packages\\httpx\\_client.py\u001b\\\u001b[2m_client.py\u001b[0m\u001b]8;;\u001b\\\u001b[2m:\u001b[0m\u001b]8;id=986141;file://c:\\Users\\kim_h\\anaconda3\\envs\\rag\\Lib\\site-packages\\httpx\\_client.py#1773\u001b\\\u001b[2m1773\u001b[0m\u001b]8;;\u001b\\\n",
       "\u001b[2;36m                    \u001b[0m         \u001b[4;94mhttps://api.openai.com/v1/chat/completions\u001b[0m \u001b[32m\"HTTP/1.1 200 OK\"\u001b[0m           \u001b[2m               \u001b[0m\n"
      ]
     },
     "metadata": {},
     "output_type": "display_data"
    },
    {
     "data": {
      "text/html": [
       "<pre style=\"white-space:pre;overflow-x:auto;line-height:normal;font-family:Menlo,'DejaVu Sans Mono',consolas,'Courier New',monospace\"><span style=\"color: #7fbfbf; text-decoration-color: #7fbfbf\">                    </span><span style=\"color: #000080; text-decoration-color: #000080\">INFO    </span> <span style=\"font-weight: bold\">[</span>_client.py:<span style=\"color: #008080; text-decoration-color: #008080; font-weight: bold\">1773</span><span style=\"font-weight: bold\">]</span> &gt;&gt; HTTP Request: <span style=\"color: #808000; text-decoration-color: #808000; font-weight: bold\">POST</span>                                <a href=\"file://c:\\Users\\kim_h\\anaconda3\\envs\\rag\\Lib\\site-packages\\httpx\\_client.py\" target=\"_blank\"><span style=\"color: #7f7f7f; text-decoration-color: #7f7f7f\">_client.py</span></a><span style=\"color: #7f7f7f; text-decoration-color: #7f7f7f\">:</span><a href=\"file://c:\\Users\\kim_h\\anaconda3\\envs\\rag\\Lib\\site-packages\\httpx\\_client.py#1773\" target=\"_blank\"><span style=\"color: #7f7f7f; text-decoration-color: #7f7f7f\">1773</span></a>\n",
       "<span style=\"color: #7fbfbf; text-decoration-color: #7fbfbf\">                    </span>         <span style=\"color: #0000ff; text-decoration-color: #0000ff; text-decoration: underline\">https://api.openai.com/v1/chat/completions</span> <span style=\"color: #008000; text-decoration-color: #008000\">\"HTTP/1.1 200 OK\"</span>           <span style=\"color: #7f7f7f; text-decoration-color: #7f7f7f\">               </span>\n",
       "</pre>\n"
      ],
      "text/plain": [
       "\u001b[2;36m                   \u001b[0m\u001b[2;36m \u001b[0m\u001b[34mINFO    \u001b[0m \u001b[1m[\u001b[0m_client.py:\u001b[1;36m1773\u001b[0m\u001b[1m]\u001b[0m >> HTTP Request: \u001b[1;33mPOST\u001b[0m                                \u001b]8;id=766318;file://c:\\Users\\kim_h\\anaconda3\\envs\\rag\\Lib\\site-packages\\httpx\\_client.py\u001b\\\u001b[2m_client.py\u001b[0m\u001b]8;;\u001b\\\u001b[2m:\u001b[0m\u001b]8;id=653193;file://c:\\Users\\kim_h\\anaconda3\\envs\\rag\\Lib\\site-packages\\httpx\\_client.py#1773\u001b\\\u001b[2m1773\u001b[0m\u001b]8;;\u001b\\\n",
       "\u001b[2;36m                    \u001b[0m         \u001b[4;94mhttps://api.openai.com/v1/chat/completions\u001b[0m \u001b[32m\"HTTP/1.1 200 OK\"\u001b[0m           \u001b[2m               \u001b[0m\n"
      ]
     },
     "metadata": {},
     "output_type": "display_data"
    },
    {
     "data": {
      "text/html": [
       "<pre style=\"white-space:pre;overflow-x:auto;line-height:normal;font-family:Menlo,'DejaVu Sans Mono',consolas,'Courier New',monospace\"><span style=\"color: #7fbfbf; text-decoration-color: #7fbfbf\">[06/29/24 22:11:23] </span><span style=\"color: #000080; text-decoration-color: #000080\">INFO    </span> <span style=\"font-weight: bold\">[</span>_client.py:<span style=\"color: #008080; text-decoration-color: #008080; font-weight: bold\">1773</span><span style=\"font-weight: bold\">]</span> &gt;&gt; HTTP Request: <span style=\"color: #808000; text-decoration-color: #808000; font-weight: bold\">POST</span>                                <a href=\"file://c:\\Users\\kim_h\\anaconda3\\envs\\rag\\Lib\\site-packages\\httpx\\_client.py\" target=\"_blank\"><span style=\"color: #7f7f7f; text-decoration-color: #7f7f7f\">_client.py</span></a><span style=\"color: #7f7f7f; text-decoration-color: #7f7f7f\">:</span><a href=\"file://c:\\Users\\kim_h\\anaconda3\\envs\\rag\\Lib\\site-packages\\httpx\\_client.py#1773\" target=\"_blank\"><span style=\"color: #7f7f7f; text-decoration-color: #7f7f7f\">1773</span></a>\n",
       "<span style=\"color: #7fbfbf; text-decoration-color: #7fbfbf\">                    </span>         <span style=\"color: #0000ff; text-decoration-color: #0000ff; text-decoration: underline\">https://api.openai.com/v1/chat/completions</span> <span style=\"color: #008000; text-decoration-color: #008000\">\"HTTP/1.1 200 OK\"</span>           <span style=\"color: #7f7f7f; text-decoration-color: #7f7f7f\">               </span>\n",
       "</pre>\n"
      ],
      "text/plain": [
       "\u001b[2;36m[06/29/24 22:11:23]\u001b[0m\u001b[2;36m \u001b[0m\u001b[34mINFO    \u001b[0m \u001b[1m[\u001b[0m_client.py:\u001b[1;36m1773\u001b[0m\u001b[1m]\u001b[0m >> HTTP Request: \u001b[1;33mPOST\u001b[0m                                \u001b]8;id=93844;file://c:\\Users\\kim_h\\anaconda3\\envs\\rag\\Lib\\site-packages\\httpx\\_client.py\u001b\\\u001b[2m_client.py\u001b[0m\u001b]8;;\u001b\\\u001b[2m:\u001b[0m\u001b]8;id=282909;file://c:\\Users\\kim_h\\anaconda3\\envs\\rag\\Lib\\site-packages\\httpx\\_client.py#1773\u001b\\\u001b[2m1773\u001b[0m\u001b]8;;\u001b\\\n",
       "\u001b[2;36m                    \u001b[0m         \u001b[4;94mhttps://api.openai.com/v1/chat/completions\u001b[0m \u001b[32m\"HTTP/1.1 200 OK\"\u001b[0m           \u001b[2m               \u001b[0m\n"
      ]
     },
     "metadata": {},
     "output_type": "display_data"
    },
    {
     "data": {
      "text/html": [
       "<pre style=\"white-space:pre;overflow-x:auto;line-height:normal;font-family:Menlo,'DejaVu Sans Mono',consolas,'Courier New',monospace\"><span style=\"color: #7fbfbf; text-decoration-color: #7fbfbf\">                    </span><span style=\"color: #000080; text-decoration-color: #000080\">INFO    </span> <span style=\"font-weight: bold\">[</span>_client.py:<span style=\"color: #008080; text-decoration-color: #008080; font-weight: bold\">1773</span><span style=\"font-weight: bold\">]</span> &gt;&gt; HTTP Request: <span style=\"color: #808000; text-decoration-color: #808000; font-weight: bold\">POST</span>                                <a href=\"file://c:\\Users\\kim_h\\anaconda3\\envs\\rag\\Lib\\site-packages\\httpx\\_client.py\" target=\"_blank\"><span style=\"color: #7f7f7f; text-decoration-color: #7f7f7f\">_client.py</span></a><span style=\"color: #7f7f7f; text-decoration-color: #7f7f7f\">:</span><a href=\"file://c:\\Users\\kim_h\\anaconda3\\envs\\rag\\Lib\\site-packages\\httpx\\_client.py#1773\" target=\"_blank\"><span style=\"color: #7f7f7f; text-decoration-color: #7f7f7f\">1773</span></a>\n",
       "<span style=\"color: #7fbfbf; text-decoration-color: #7fbfbf\">                    </span>         <span style=\"color: #0000ff; text-decoration-color: #0000ff; text-decoration: underline\">https://api.openai.com/v1/chat/completions</span> <span style=\"color: #008000; text-decoration-color: #008000\">\"HTTP/1.1 200 OK\"</span>           <span style=\"color: #7f7f7f; text-decoration-color: #7f7f7f\">               </span>\n",
       "</pre>\n"
      ],
      "text/plain": [
       "\u001b[2;36m                   \u001b[0m\u001b[2;36m \u001b[0m\u001b[34mINFO    \u001b[0m \u001b[1m[\u001b[0m_client.py:\u001b[1;36m1773\u001b[0m\u001b[1m]\u001b[0m >> HTTP Request: \u001b[1;33mPOST\u001b[0m                                \u001b]8;id=892682;file://c:\\Users\\kim_h\\anaconda3\\envs\\rag\\Lib\\site-packages\\httpx\\_client.py\u001b\\\u001b[2m_client.py\u001b[0m\u001b]8;;\u001b\\\u001b[2m:\u001b[0m\u001b]8;id=396749;file://c:\\Users\\kim_h\\anaconda3\\envs\\rag\\Lib\\site-packages\\httpx\\_client.py#1773\u001b\\\u001b[2m1773\u001b[0m\u001b]8;;\u001b\\\n",
       "\u001b[2;36m                    \u001b[0m         \u001b[4;94mhttps://api.openai.com/v1/chat/completions\u001b[0m \u001b[32m\"HTTP/1.1 200 OK\"\u001b[0m           \u001b[2m               \u001b[0m\n"
      ]
     },
     "metadata": {},
     "output_type": "display_data"
    },
    {
     "data": {
      "text/html": [
       "<pre style=\"white-space:pre;overflow-x:auto;line-height:normal;font-family:Menlo,'DejaVu Sans Mono',consolas,'Courier New',monospace\"><span style=\"color: #7fbfbf; text-decoration-color: #7fbfbf\">                    </span><span style=\"color: #000080; text-decoration-color: #000080\">INFO    </span> <span style=\"font-weight: bold\">[</span>_client.py:<span style=\"color: #008080; text-decoration-color: #008080; font-weight: bold\">1773</span><span style=\"font-weight: bold\">]</span> &gt;&gt; HTTP Request: <span style=\"color: #808000; text-decoration-color: #808000; font-weight: bold\">POST</span>                                <a href=\"file://c:\\Users\\kim_h\\anaconda3\\envs\\rag\\Lib\\site-packages\\httpx\\_client.py\" target=\"_blank\"><span style=\"color: #7f7f7f; text-decoration-color: #7f7f7f\">_client.py</span></a><span style=\"color: #7f7f7f; text-decoration-color: #7f7f7f\">:</span><a href=\"file://c:\\Users\\kim_h\\anaconda3\\envs\\rag\\Lib\\site-packages\\httpx\\_client.py#1773\" target=\"_blank\"><span style=\"color: #7f7f7f; text-decoration-color: #7f7f7f\">1773</span></a>\n",
       "<span style=\"color: #7fbfbf; text-decoration-color: #7fbfbf\">                    </span>         <span style=\"color: #0000ff; text-decoration-color: #0000ff; text-decoration: underline\">https://api.openai.com/v1/chat/completions</span> <span style=\"color: #008000; text-decoration-color: #008000\">\"HTTP/1.1 200 OK\"</span>           <span style=\"color: #7f7f7f; text-decoration-color: #7f7f7f\">               </span>\n",
       "</pre>\n"
      ],
      "text/plain": [
       "\u001b[2;36m                   \u001b[0m\u001b[2;36m \u001b[0m\u001b[34mINFO    \u001b[0m \u001b[1m[\u001b[0m_client.py:\u001b[1;36m1773\u001b[0m\u001b[1m]\u001b[0m >> HTTP Request: \u001b[1;33mPOST\u001b[0m                                \u001b]8;id=682407;file://c:\\Users\\kim_h\\anaconda3\\envs\\rag\\Lib\\site-packages\\httpx\\_client.py\u001b\\\u001b[2m_client.py\u001b[0m\u001b]8;;\u001b\\\u001b[2m:\u001b[0m\u001b]8;id=125095;file://c:\\Users\\kim_h\\anaconda3\\envs\\rag\\Lib\\site-packages\\httpx\\_client.py#1773\u001b\\\u001b[2m1773\u001b[0m\u001b]8;;\u001b\\\n",
       "\u001b[2;36m                    \u001b[0m         \u001b[4;94mhttps://api.openai.com/v1/chat/completions\u001b[0m \u001b[32m\"HTTP/1.1 200 OK\"\u001b[0m           \u001b[2m               \u001b[0m\n"
      ]
     },
     "metadata": {},
     "output_type": "display_data"
    },
    {
     "data": {
      "text/html": [
       "<pre style=\"white-space:pre;overflow-x:auto;line-height:normal;font-family:Menlo,'DejaVu Sans Mono',consolas,'Courier New',monospace\"><span style=\"color: #7fbfbf; text-decoration-color: #7fbfbf\">                    </span><span style=\"color: #000080; text-decoration-color: #000080\">INFO    </span> <span style=\"font-weight: bold\">[</span>_client.py:<span style=\"color: #008080; text-decoration-color: #008080; font-weight: bold\">1773</span><span style=\"font-weight: bold\">]</span> &gt;&gt; HTTP Request: <span style=\"color: #808000; text-decoration-color: #808000; font-weight: bold\">POST</span>                                <a href=\"file://c:\\Users\\kim_h\\anaconda3\\envs\\rag\\Lib\\site-packages\\httpx\\_client.py\" target=\"_blank\"><span style=\"color: #7f7f7f; text-decoration-color: #7f7f7f\">_client.py</span></a><span style=\"color: #7f7f7f; text-decoration-color: #7f7f7f\">:</span><a href=\"file://c:\\Users\\kim_h\\anaconda3\\envs\\rag\\Lib\\site-packages\\httpx\\_client.py#1773\" target=\"_blank\"><span style=\"color: #7f7f7f; text-decoration-color: #7f7f7f\">1773</span></a>\n",
       "<span style=\"color: #7fbfbf; text-decoration-color: #7fbfbf\">                    </span>         <span style=\"color: #0000ff; text-decoration-color: #0000ff; text-decoration: underline\">https://api.openai.com/v1/chat/completions</span> <span style=\"color: #008000; text-decoration-color: #008000\">\"HTTP/1.1 200 OK\"</span>           <span style=\"color: #7f7f7f; text-decoration-color: #7f7f7f\">               </span>\n",
       "</pre>\n"
      ],
      "text/plain": [
       "\u001b[2;36m                   \u001b[0m\u001b[2;36m \u001b[0m\u001b[34mINFO    \u001b[0m \u001b[1m[\u001b[0m_client.py:\u001b[1;36m1773\u001b[0m\u001b[1m]\u001b[0m >> HTTP Request: \u001b[1;33mPOST\u001b[0m                                \u001b]8;id=825339;file://c:\\Users\\kim_h\\anaconda3\\envs\\rag\\Lib\\site-packages\\httpx\\_client.py\u001b\\\u001b[2m_client.py\u001b[0m\u001b]8;;\u001b\\\u001b[2m:\u001b[0m\u001b]8;id=452748;file://c:\\Users\\kim_h\\anaconda3\\envs\\rag\\Lib\\site-packages\\httpx\\_client.py#1773\u001b\\\u001b[2m1773\u001b[0m\u001b]8;;\u001b\\\n",
       "\u001b[2;36m                    \u001b[0m         \u001b[4;94mhttps://api.openai.com/v1/chat/completions\u001b[0m \u001b[32m\"HTTP/1.1 200 OK\"\u001b[0m           \u001b[2m               \u001b[0m\n"
      ]
     },
     "metadata": {},
     "output_type": "display_data"
    },
    {
     "data": {
      "text/html": [
       "<pre style=\"white-space:pre;overflow-x:auto;line-height:normal;font-family:Menlo,'DejaVu Sans Mono',consolas,'Courier New',monospace\"><span style=\"color: #7fbfbf; text-decoration-color: #7fbfbf\">[06/29/24 22:11:24] </span><span style=\"color: #000080; text-decoration-color: #000080\">INFO    </span> <span style=\"font-weight: bold\">[</span>_client.py:<span style=\"color: #008080; text-decoration-color: #008080; font-weight: bold\">1773</span><span style=\"font-weight: bold\">]</span> &gt;&gt; HTTP Request: <span style=\"color: #808000; text-decoration-color: #808000; font-weight: bold\">POST</span>                                <a href=\"file://c:\\Users\\kim_h\\anaconda3\\envs\\rag\\Lib\\site-packages\\httpx\\_client.py\" target=\"_blank\"><span style=\"color: #7f7f7f; text-decoration-color: #7f7f7f\">_client.py</span></a><span style=\"color: #7f7f7f; text-decoration-color: #7f7f7f\">:</span><a href=\"file://c:\\Users\\kim_h\\anaconda3\\envs\\rag\\Lib\\site-packages\\httpx\\_client.py#1773\" target=\"_blank\"><span style=\"color: #7f7f7f; text-decoration-color: #7f7f7f\">1773</span></a>\n",
       "<span style=\"color: #7fbfbf; text-decoration-color: #7fbfbf\">                    </span>         <span style=\"color: #0000ff; text-decoration-color: #0000ff; text-decoration: underline\">https://api.openai.com/v1/chat/completions</span> <span style=\"color: #008000; text-decoration-color: #008000\">\"HTTP/1.1 200 OK\"</span>           <span style=\"color: #7f7f7f; text-decoration-color: #7f7f7f\">               </span>\n",
       "</pre>\n"
      ],
      "text/plain": [
       "\u001b[2;36m[06/29/24 22:11:24]\u001b[0m\u001b[2;36m \u001b[0m\u001b[34mINFO    \u001b[0m \u001b[1m[\u001b[0m_client.py:\u001b[1;36m1773\u001b[0m\u001b[1m]\u001b[0m >> HTTP Request: \u001b[1;33mPOST\u001b[0m                                \u001b]8;id=101760;file://c:\\Users\\kim_h\\anaconda3\\envs\\rag\\Lib\\site-packages\\httpx\\_client.py\u001b\\\u001b[2m_client.py\u001b[0m\u001b]8;;\u001b\\\u001b[2m:\u001b[0m\u001b]8;id=810362;file://c:\\Users\\kim_h\\anaconda3\\envs\\rag\\Lib\\site-packages\\httpx\\_client.py#1773\u001b\\\u001b[2m1773\u001b[0m\u001b]8;;\u001b\\\n",
       "\u001b[2;36m                    \u001b[0m         \u001b[4;94mhttps://api.openai.com/v1/chat/completions\u001b[0m \u001b[32m\"HTTP/1.1 200 OK\"\u001b[0m           \u001b[2m               \u001b[0m\n"
      ]
     },
     "metadata": {},
     "output_type": "display_data"
    },
    {
     "data": {
      "text/html": [
       "<pre style=\"white-space:pre;overflow-x:auto;line-height:normal;font-family:Menlo,'DejaVu Sans Mono',consolas,'Courier New',monospace\"><span style=\"color: #7fbfbf; text-decoration-color: #7fbfbf\">                    </span><span style=\"color: #000080; text-decoration-color: #000080\">INFO    </span> <span style=\"font-weight: bold\">[</span>_client.py:<span style=\"color: #008080; text-decoration-color: #008080; font-weight: bold\">1773</span><span style=\"font-weight: bold\">]</span> &gt;&gt; HTTP Request: <span style=\"color: #808000; text-decoration-color: #808000; font-weight: bold\">POST</span>                                <a href=\"file://c:\\Users\\kim_h\\anaconda3\\envs\\rag\\Lib\\site-packages\\httpx\\_client.py\" target=\"_blank\"><span style=\"color: #7f7f7f; text-decoration-color: #7f7f7f\">_client.py</span></a><span style=\"color: #7f7f7f; text-decoration-color: #7f7f7f\">:</span><a href=\"file://c:\\Users\\kim_h\\anaconda3\\envs\\rag\\Lib\\site-packages\\httpx\\_client.py#1773\" target=\"_blank\"><span style=\"color: #7f7f7f; text-decoration-color: #7f7f7f\">1773</span></a>\n",
       "<span style=\"color: #7fbfbf; text-decoration-color: #7fbfbf\">                    </span>         <span style=\"color: #0000ff; text-decoration-color: #0000ff; text-decoration: underline\">https://api.openai.com/v1/chat/completions</span> <span style=\"color: #008000; text-decoration-color: #008000\">\"HTTP/1.1 200 OK\"</span>           <span style=\"color: #7f7f7f; text-decoration-color: #7f7f7f\">               </span>\n",
       "</pre>\n"
      ],
      "text/plain": [
       "\u001b[2;36m                   \u001b[0m\u001b[2;36m \u001b[0m\u001b[34mINFO    \u001b[0m \u001b[1m[\u001b[0m_client.py:\u001b[1;36m1773\u001b[0m\u001b[1m]\u001b[0m >> HTTP Request: \u001b[1;33mPOST\u001b[0m                                \u001b]8;id=608718;file://c:\\Users\\kim_h\\anaconda3\\envs\\rag\\Lib\\site-packages\\httpx\\_client.py\u001b\\\u001b[2m_client.py\u001b[0m\u001b]8;;\u001b\\\u001b[2m:\u001b[0m\u001b]8;id=440571;file://c:\\Users\\kim_h\\anaconda3\\envs\\rag\\Lib\\site-packages\\httpx\\_client.py#1773\u001b\\\u001b[2m1773\u001b[0m\u001b]8;;\u001b\\\n",
       "\u001b[2;36m                    \u001b[0m         \u001b[4;94mhttps://api.openai.com/v1/chat/completions\u001b[0m \u001b[32m\"HTTP/1.1 200 OK\"\u001b[0m           \u001b[2m               \u001b[0m\n"
      ]
     },
     "metadata": {},
     "output_type": "display_data"
    },
    {
     "data": {
      "text/html": [
       "<pre style=\"white-space:pre;overflow-x:auto;line-height:normal;font-family:Menlo,'DejaVu Sans Mono',consolas,'Courier New',monospace\"><span style=\"color: #7fbfbf; text-decoration-color: #7fbfbf\">                    </span><span style=\"color: #000080; text-decoration-color: #000080\">INFO    </span> <span style=\"font-weight: bold\">[</span>_client.py:<span style=\"color: #008080; text-decoration-color: #008080; font-weight: bold\">1773</span><span style=\"font-weight: bold\">]</span> &gt;&gt; HTTP Request: <span style=\"color: #808000; text-decoration-color: #808000; font-weight: bold\">POST</span>                                <a href=\"file://c:\\Users\\kim_h\\anaconda3\\envs\\rag\\Lib\\site-packages\\httpx\\_client.py\" target=\"_blank\"><span style=\"color: #7f7f7f; text-decoration-color: #7f7f7f\">_client.py</span></a><span style=\"color: #7f7f7f; text-decoration-color: #7f7f7f\">:</span><a href=\"file://c:\\Users\\kim_h\\anaconda3\\envs\\rag\\Lib\\site-packages\\httpx\\_client.py#1773\" target=\"_blank\"><span style=\"color: #7f7f7f; text-decoration-color: #7f7f7f\">1773</span></a>\n",
       "<span style=\"color: #7fbfbf; text-decoration-color: #7fbfbf\">                    </span>         <span style=\"color: #0000ff; text-decoration-color: #0000ff; text-decoration: underline\">https://api.openai.com/v1/chat/completions</span> <span style=\"color: #008000; text-decoration-color: #008000\">\"HTTP/1.1 200 OK\"</span>           <span style=\"color: #7f7f7f; text-decoration-color: #7f7f7f\">               </span>\n",
       "</pre>\n"
      ],
      "text/plain": [
       "\u001b[2;36m                   \u001b[0m\u001b[2;36m \u001b[0m\u001b[34mINFO    \u001b[0m \u001b[1m[\u001b[0m_client.py:\u001b[1;36m1773\u001b[0m\u001b[1m]\u001b[0m >> HTTP Request: \u001b[1;33mPOST\u001b[0m                                \u001b]8;id=789488;file://c:\\Users\\kim_h\\anaconda3\\envs\\rag\\Lib\\site-packages\\httpx\\_client.py\u001b\\\u001b[2m_client.py\u001b[0m\u001b]8;;\u001b\\\u001b[2m:\u001b[0m\u001b]8;id=359666;file://c:\\Users\\kim_h\\anaconda3\\envs\\rag\\Lib\\site-packages\\httpx\\_client.py#1773\u001b\\\u001b[2m1773\u001b[0m\u001b]8;;\u001b\\\n",
       "\u001b[2;36m                    \u001b[0m         \u001b[4;94mhttps://api.openai.com/v1/chat/completions\u001b[0m \u001b[32m\"HTTP/1.1 200 OK\"\u001b[0m           \u001b[2m               \u001b[0m\n"
      ]
     },
     "metadata": {},
     "output_type": "display_data"
    },
    {
     "data": {
      "text/html": [
       "<pre style=\"white-space:pre;overflow-x:auto;line-height:normal;font-family:Menlo,'DejaVu Sans Mono',consolas,'Courier New',monospace\"><span style=\"color: #7fbfbf; text-decoration-color: #7fbfbf\">                    </span><span style=\"color: #000080; text-decoration-color: #000080\">INFO    </span> <span style=\"font-weight: bold\">[</span>_client.py:<span style=\"color: #008080; text-decoration-color: #008080; font-weight: bold\">1773</span><span style=\"font-weight: bold\">]</span> &gt;&gt; HTTP Request: <span style=\"color: #808000; text-decoration-color: #808000; font-weight: bold\">POST</span>                                <a href=\"file://c:\\Users\\kim_h\\anaconda3\\envs\\rag\\Lib\\site-packages\\httpx\\_client.py\" target=\"_blank\"><span style=\"color: #7f7f7f; text-decoration-color: #7f7f7f\">_client.py</span></a><span style=\"color: #7f7f7f; text-decoration-color: #7f7f7f\">:</span><a href=\"file://c:\\Users\\kim_h\\anaconda3\\envs\\rag\\Lib\\site-packages\\httpx\\_client.py#1773\" target=\"_blank\"><span style=\"color: #7f7f7f; text-decoration-color: #7f7f7f\">1773</span></a>\n",
       "<span style=\"color: #7fbfbf; text-decoration-color: #7fbfbf\">                    </span>         <span style=\"color: #0000ff; text-decoration-color: #0000ff; text-decoration: underline\">https://api.openai.com/v1/chat/completions</span> <span style=\"color: #008000; text-decoration-color: #008000\">\"HTTP/1.1 200 OK\"</span>           <span style=\"color: #7f7f7f; text-decoration-color: #7f7f7f\">               </span>\n",
       "</pre>\n"
      ],
      "text/plain": [
       "\u001b[2;36m                   \u001b[0m\u001b[2;36m \u001b[0m\u001b[34mINFO    \u001b[0m \u001b[1m[\u001b[0m_client.py:\u001b[1;36m1773\u001b[0m\u001b[1m]\u001b[0m >> HTTP Request: \u001b[1;33mPOST\u001b[0m                                \u001b]8;id=805113;file://c:\\Users\\kim_h\\anaconda3\\envs\\rag\\Lib\\site-packages\\httpx\\_client.py\u001b\\\u001b[2m_client.py\u001b[0m\u001b]8;;\u001b\\\u001b[2m:\u001b[0m\u001b]8;id=233484;file://c:\\Users\\kim_h\\anaconda3\\envs\\rag\\Lib\\site-packages\\httpx\\_client.py#1773\u001b\\\u001b[2m1773\u001b[0m\u001b]8;;\u001b\\\n",
       "\u001b[2;36m                    \u001b[0m         \u001b[4;94mhttps://api.openai.com/v1/chat/completions\u001b[0m \u001b[32m\"HTTP/1.1 200 OK\"\u001b[0m           \u001b[2m               \u001b[0m\n"
      ]
     },
     "metadata": {},
     "output_type": "display_data"
    },
    {
     "data": {
      "text/html": [
       "<pre style=\"white-space:pre;overflow-x:auto;line-height:normal;font-family:Menlo,'DejaVu Sans Mono',consolas,'Courier New',monospace\"><span style=\"color: #7fbfbf; text-decoration-color: #7fbfbf\">[06/29/24 22:11:25] </span><span style=\"color: #000080; text-decoration-color: #000080\">INFO    </span> <span style=\"font-weight: bold\">[</span>_client.py:<span style=\"color: #008080; text-decoration-color: #008080; font-weight: bold\">1773</span><span style=\"font-weight: bold\">]</span> &gt;&gt; HTTP Request: <span style=\"color: #808000; text-decoration-color: #808000; font-weight: bold\">POST</span>                                <a href=\"file://c:\\Users\\kim_h\\anaconda3\\envs\\rag\\Lib\\site-packages\\httpx\\_client.py\" target=\"_blank\"><span style=\"color: #7f7f7f; text-decoration-color: #7f7f7f\">_client.py</span></a><span style=\"color: #7f7f7f; text-decoration-color: #7f7f7f\">:</span><a href=\"file://c:\\Users\\kim_h\\anaconda3\\envs\\rag\\Lib\\site-packages\\httpx\\_client.py#1773\" target=\"_blank\"><span style=\"color: #7f7f7f; text-decoration-color: #7f7f7f\">1773</span></a>\n",
       "<span style=\"color: #7fbfbf; text-decoration-color: #7fbfbf\">                    </span>         <span style=\"color: #0000ff; text-decoration-color: #0000ff; text-decoration: underline\">https://api.openai.com/v1/chat/completions</span> <span style=\"color: #008000; text-decoration-color: #008000\">\"HTTP/1.1 200 OK\"</span>           <span style=\"color: #7f7f7f; text-decoration-color: #7f7f7f\">               </span>\n",
       "</pre>\n"
      ],
      "text/plain": [
       "\u001b[2;36m[06/29/24 22:11:25]\u001b[0m\u001b[2;36m \u001b[0m\u001b[34mINFO    \u001b[0m \u001b[1m[\u001b[0m_client.py:\u001b[1;36m1773\u001b[0m\u001b[1m]\u001b[0m >> HTTP Request: \u001b[1;33mPOST\u001b[0m                                \u001b]8;id=400643;file://c:\\Users\\kim_h\\anaconda3\\envs\\rag\\Lib\\site-packages\\httpx\\_client.py\u001b\\\u001b[2m_client.py\u001b[0m\u001b]8;;\u001b\\\u001b[2m:\u001b[0m\u001b]8;id=90239;file://c:\\Users\\kim_h\\anaconda3\\envs\\rag\\Lib\\site-packages\\httpx\\_client.py#1773\u001b\\\u001b[2m1773\u001b[0m\u001b]8;;\u001b\\\n",
       "\u001b[2;36m                    \u001b[0m         \u001b[4;94mhttps://api.openai.com/v1/chat/completions\u001b[0m \u001b[32m\"HTTP/1.1 200 OK\"\u001b[0m           \u001b[2m               \u001b[0m\n"
      ]
     },
     "metadata": {},
     "output_type": "display_data"
    },
    {
     "data": {
      "text/html": [
       "<pre style=\"white-space:pre;overflow-x:auto;line-height:normal;font-family:Menlo,'DejaVu Sans Mono',consolas,'Courier New',monospace\"><span style=\"color: #7fbfbf; text-decoration-color: #7fbfbf\">[06/29/24 22:11:26] </span><span style=\"color: #000080; text-decoration-color: #000080\">INFO    </span> <span style=\"font-weight: bold\">[</span>_client.py:<span style=\"color: #008080; text-decoration-color: #008080; font-weight: bold\">1773</span><span style=\"font-weight: bold\">]</span> &gt;&gt; HTTP Request: <span style=\"color: #808000; text-decoration-color: #808000; font-weight: bold\">POST</span>                                <a href=\"file://c:\\Users\\kim_h\\anaconda3\\envs\\rag\\Lib\\site-packages\\httpx\\_client.py\" target=\"_blank\"><span style=\"color: #7f7f7f; text-decoration-color: #7f7f7f\">_client.py</span></a><span style=\"color: #7f7f7f; text-decoration-color: #7f7f7f\">:</span><a href=\"file://c:\\Users\\kim_h\\anaconda3\\envs\\rag\\Lib\\site-packages\\httpx\\_client.py#1773\" target=\"_blank\"><span style=\"color: #7f7f7f; text-decoration-color: #7f7f7f\">1773</span></a>\n",
       "<span style=\"color: #7fbfbf; text-decoration-color: #7fbfbf\">                    </span>         <span style=\"color: #0000ff; text-decoration-color: #0000ff; text-decoration: underline\">https://api.openai.com/v1/chat/completions</span> <span style=\"color: #008000; text-decoration-color: #008000\">\"HTTP/1.1 200 OK\"</span>           <span style=\"color: #7f7f7f; text-decoration-color: #7f7f7f\">               </span>\n",
       "</pre>\n"
      ],
      "text/plain": [
       "\u001b[2;36m[06/29/24 22:11:26]\u001b[0m\u001b[2;36m \u001b[0m\u001b[34mINFO    \u001b[0m \u001b[1m[\u001b[0m_client.py:\u001b[1;36m1773\u001b[0m\u001b[1m]\u001b[0m >> HTTP Request: \u001b[1;33mPOST\u001b[0m                                \u001b]8;id=669152;file://c:\\Users\\kim_h\\anaconda3\\envs\\rag\\Lib\\site-packages\\httpx\\_client.py\u001b\\\u001b[2m_client.py\u001b[0m\u001b]8;;\u001b\\\u001b[2m:\u001b[0m\u001b]8;id=649086;file://c:\\Users\\kim_h\\anaconda3\\envs\\rag\\Lib\\site-packages\\httpx\\_client.py#1773\u001b\\\u001b[2m1773\u001b[0m\u001b]8;;\u001b\\\n",
       "\u001b[2;36m                    \u001b[0m         \u001b[4;94mhttps://api.openai.com/v1/chat/completions\u001b[0m \u001b[32m\"HTTP/1.1 200 OK\"\u001b[0m           \u001b[2m               \u001b[0m\n"
      ]
     },
     "metadata": {},
     "output_type": "display_data"
    },
    {
     "data": {
      "text/html": [
       "<pre style=\"white-space:pre;overflow-x:auto;line-height:normal;font-family:Menlo,'DejaVu Sans Mono',consolas,'Courier New',monospace\"><span style=\"color: #7fbfbf; text-decoration-color: #7fbfbf\">                    </span><span style=\"color: #000080; text-decoration-color: #000080\">INFO    </span> <span style=\"font-weight: bold\">[</span>_client.py:<span style=\"color: #008080; text-decoration-color: #008080; font-weight: bold\">1773</span><span style=\"font-weight: bold\">]</span> &gt;&gt; HTTP Request: <span style=\"color: #808000; text-decoration-color: #808000; font-weight: bold\">POST</span>                                <a href=\"file://c:\\Users\\kim_h\\anaconda3\\envs\\rag\\Lib\\site-packages\\httpx\\_client.py\" target=\"_blank\"><span style=\"color: #7f7f7f; text-decoration-color: #7f7f7f\">_client.py</span></a><span style=\"color: #7f7f7f; text-decoration-color: #7f7f7f\">:</span><a href=\"file://c:\\Users\\kim_h\\anaconda3\\envs\\rag\\Lib\\site-packages\\httpx\\_client.py#1773\" target=\"_blank\"><span style=\"color: #7f7f7f; text-decoration-color: #7f7f7f\">1773</span></a>\n",
       "<span style=\"color: #7fbfbf; text-decoration-color: #7fbfbf\">                    </span>         <span style=\"color: #0000ff; text-decoration-color: #0000ff; text-decoration: underline\">https://api.openai.com/v1/chat/completions</span> <span style=\"color: #008000; text-decoration-color: #008000\">\"HTTP/1.1 200 OK\"</span>           <span style=\"color: #7f7f7f; text-decoration-color: #7f7f7f\">               </span>\n",
       "</pre>\n"
      ],
      "text/plain": [
       "\u001b[2;36m                   \u001b[0m\u001b[2;36m \u001b[0m\u001b[34mINFO    \u001b[0m \u001b[1m[\u001b[0m_client.py:\u001b[1;36m1773\u001b[0m\u001b[1m]\u001b[0m >> HTTP Request: \u001b[1;33mPOST\u001b[0m                                \u001b]8;id=272853;file://c:\\Users\\kim_h\\anaconda3\\envs\\rag\\Lib\\site-packages\\httpx\\_client.py\u001b\\\u001b[2m_client.py\u001b[0m\u001b]8;;\u001b\\\u001b[2m:\u001b[0m\u001b]8;id=767043;file://c:\\Users\\kim_h\\anaconda3\\envs\\rag\\Lib\\site-packages\\httpx\\_client.py#1773\u001b\\\u001b[2m1773\u001b[0m\u001b]8;;\u001b\\\n",
       "\u001b[2;36m                    \u001b[0m         \u001b[4;94mhttps://api.openai.com/v1/chat/completions\u001b[0m \u001b[32m\"HTTP/1.1 200 OK\"\u001b[0m           \u001b[2m               \u001b[0m\n"
      ]
     },
     "metadata": {},
     "output_type": "display_data"
    },
    {
     "data": {
      "text/html": [
       "<pre style=\"white-space:pre;overflow-x:auto;line-height:normal;font-family:Menlo,'DejaVu Sans Mono',consolas,'Courier New',monospace\"><span style=\"color: #7fbfbf; text-decoration-color: #7fbfbf\">                    </span><span style=\"color: #000080; text-decoration-color: #000080\">INFO    </span> <span style=\"font-weight: bold\">[</span>_client.py:<span style=\"color: #008080; text-decoration-color: #008080; font-weight: bold\">1773</span><span style=\"font-weight: bold\">]</span> &gt;&gt; HTTP Request: <span style=\"color: #808000; text-decoration-color: #808000; font-weight: bold\">POST</span>                                <a href=\"file://c:\\Users\\kim_h\\anaconda3\\envs\\rag\\Lib\\site-packages\\httpx\\_client.py\" target=\"_blank\"><span style=\"color: #7f7f7f; text-decoration-color: #7f7f7f\">_client.py</span></a><span style=\"color: #7f7f7f; text-decoration-color: #7f7f7f\">:</span><a href=\"file://c:\\Users\\kim_h\\anaconda3\\envs\\rag\\Lib\\site-packages\\httpx\\_client.py#1773\" target=\"_blank\"><span style=\"color: #7f7f7f; text-decoration-color: #7f7f7f\">1773</span></a>\n",
       "<span style=\"color: #7fbfbf; text-decoration-color: #7fbfbf\">                    </span>         <span style=\"color: #0000ff; text-decoration-color: #0000ff; text-decoration: underline\">https://api.openai.com/v1/chat/completions</span> <span style=\"color: #008000; text-decoration-color: #008000\">\"HTTP/1.1 200 OK\"</span>           <span style=\"color: #7f7f7f; text-decoration-color: #7f7f7f\">               </span>\n",
       "</pre>\n"
      ],
      "text/plain": [
       "\u001b[2;36m                   \u001b[0m\u001b[2;36m \u001b[0m\u001b[34mINFO    \u001b[0m \u001b[1m[\u001b[0m_client.py:\u001b[1;36m1773\u001b[0m\u001b[1m]\u001b[0m >> HTTP Request: \u001b[1;33mPOST\u001b[0m                                \u001b]8;id=348270;file://c:\\Users\\kim_h\\anaconda3\\envs\\rag\\Lib\\site-packages\\httpx\\_client.py\u001b\\\u001b[2m_client.py\u001b[0m\u001b]8;;\u001b\\\u001b[2m:\u001b[0m\u001b]8;id=848038;file://c:\\Users\\kim_h\\anaconda3\\envs\\rag\\Lib\\site-packages\\httpx\\_client.py#1773\u001b\\\u001b[2m1773\u001b[0m\u001b]8;;\u001b\\\n",
       "\u001b[2;36m                    \u001b[0m         \u001b[4;94mhttps://api.openai.com/v1/chat/completions\u001b[0m \u001b[32m\"HTTP/1.1 200 OK\"\u001b[0m           \u001b[2m               \u001b[0m\n"
      ]
     },
     "metadata": {},
     "output_type": "display_data"
    },
    {
     "data": {
      "text/html": [
       "<div>\n",
       "<style scoped>\n",
       "    .dataframe tbody tr th:only-of-type {\n",
       "        vertical-align: middle;\n",
       "    }\n",
       "\n",
       "    .dataframe tbody tr th {\n",
       "        vertical-align: top;\n",
       "    }\n",
       "\n",
       "    .dataframe thead th {\n",
       "        text-align: right;\n",
       "    }\n",
       "</style>\n",
       "<table border=\"1\" class=\"dataframe\">\n",
       "  <thead>\n",
       "    <tr style=\"text-align: right;\">\n",
       "      <th></th>\n",
       "      <th>qid</th>\n",
       "      <th>retrieval_gt</th>\n",
       "      <th>query</th>\n",
       "      <th>generation_gt</th>\n",
       "    </tr>\n",
       "  </thead>\n",
       "  <tbody>\n",
       "    <tr>\n",
       "      <th>0</th>\n",
       "      <td>98290e07-565e-4eda-b028-c8d28af7e589</td>\n",
       "      <td>[[f3b63111-8036-4f21-a629-667f3b416c72]]</td>\n",
       "      <td>\"본문 소스 코드\" 자료의 등록일은 언제인가요?</td>\n",
       "      <td>[등록일은 2024년 6월 25일입니다.]</td>\n",
       "    </tr>\n",
       "    <tr>\n",
       "      <th>1</th>\n",
       "      <td>ff487150-3312-491d-8e4a-7869bc41e067</td>\n",
       "      <td>[[6efb506d-100e-4b81-be0e-cd39bbf237cb]]</td>\n",
       "      <td>이 책에 추가된 주요 내용은 무엇인가요?</td>\n",
       "      <td>[시계열 데이터의 효율적인 처리와 분석을 위한 다양한 기법이 추가되었습니다.]</td>\n",
       "    </tr>\n",
       "    <tr>\n",
       "      <th>2</th>\n",
       "      <td>2b486627-da24-4d56-8abf-03b09ef9b642</td>\n",
       "      <td>[[70b74199-9865-4844-9355-8ed2de5febf8]]</td>\n",
       "      <td>\"챗GPT 프롬프트 120% 질문 기술\" 보도자료의 발표일은 언제인가요?</td>\n",
       "      <td>[2024년 4월 24일입니다.]</td>\n",
       "    </tr>\n",
       "    <tr>\n",
       "      <th>3</th>\n",
       "      <td>680ab4e7-fa97-4167-98ec-6a874888c518</td>\n",
       "      <td>[[241cab43-3017-40bf-b703-12a6029a05ca]]</td>\n",
       "      <td>[보도자료] 파이썬과 엑셀로 시작하는 딥러닝이 발표된 날짜는 언제인가요?</td>\n",
       "      <td>[이 보도자료는 2023년 7월 19일에 발표되었습니다.]</td>\n",
       "    </tr>\n",
       "    <tr>\n",
       "      <th>4</th>\n",
       "      <td>54b9798b-91aa-484c-8544-4600cbdabe38</td>\n",
       "      <td>[[039c58d5-6083-428f-a940-712a7415845b]]</td>\n",
       "      <td>데이터 변화를 효과적으로 분석하기 위해 어떤 조치를 취했나요?</td>\n",
       "      <td>[시계열 데이터 처리 강화와 데이터 전처리 기법을 다양화하여 대폭 추가했습니다.]</td>\n",
       "    </tr>\n",
       "  </tbody>\n",
       "</table>\n",
       "</div>"
      ],
      "text/plain": [
       "                                    qid  \\\n",
       "0  98290e07-565e-4eda-b028-c8d28af7e589   \n",
       "1  ff487150-3312-491d-8e4a-7869bc41e067   \n",
       "2  2b486627-da24-4d56-8abf-03b09ef9b642   \n",
       "3  680ab4e7-fa97-4167-98ec-6a874888c518   \n",
       "4  54b9798b-91aa-484c-8544-4600cbdabe38   \n",
       "\n",
       "                               retrieval_gt  \\\n",
       "0  [[f3b63111-8036-4f21-a629-667f3b416c72]]   \n",
       "1  [[6efb506d-100e-4b81-be0e-cd39bbf237cb]]   \n",
       "2  [[70b74199-9865-4844-9355-8ed2de5febf8]]   \n",
       "3  [[241cab43-3017-40bf-b703-12a6029a05ca]]   \n",
       "4  [[039c58d5-6083-428f-a940-712a7415845b]]   \n",
       "\n",
       "                                      query  \\\n",
       "0                \"본문 소스 코드\" 자료의 등록일은 언제인가요?   \n",
       "1                    이 책에 추가된 주요 내용은 무엇인가요?   \n",
       "2  \"챗GPT 프롬프트 120% 질문 기술\" 보도자료의 발표일은 언제인가요?   \n",
       "3  [보도자료] 파이썬과 엑셀로 시작하는 딥러닝이 발표된 날짜는 언제인가요?   \n",
       "4        데이터 변화를 효과적으로 분석하기 위해 어떤 조치를 취했나요?   \n",
       "\n",
       "                                   generation_gt  \n",
       "0                        [등록일은 2024년 6월 25일입니다.]  \n",
       "1    [시계열 데이터의 효율적인 처리와 분석을 위한 다양한 기법이 추가되었습니다.]  \n",
       "2                             [2024년 4월 24일입니다.]  \n",
       "3               [이 보도자료는 2023년 7월 19일에 발표되었습니다.]  \n",
       "4  [시계열 데이터 처리 강화와 데이터 전처리 기법을 다양화하여 대폭 추가했습니다.]  "
      ]
     },
     "execution_count": 11,
     "metadata": {},
     "output_type": "execute_result"
    }
   ],
   "source": [
    "import pandas as pd\n",
    "from autorag.data.qacreation import generate_qa_llama_index, make_single_content_qa\n",
    "from llama_index.llms.ollama import Ollama\n",
    "from llama_index.llms.openai import OpenAI\n",
    "\n",
    "\n",
    "# 데이터로부터 스스로 질문과 대답을 만들어 낸다. <-AutoRag를 통해  \n",
    "prompt = \"\"\"\n",
    "Generate question and answer pairs for the given passage.\n",
    "\n",
    "Passage:\n",
    "{{text}}\n",
    "\n",
    "Number of questions to generate: {{num_questions}}\n",
    "\n",
    "Example:\n",
    "[Q]: 이 책의 글쓴이는 누구인가요?\n",
    "[A]: 저자의 이름은 홍길동입니다.\n",
    "\n",
    "Result:\n",
    "\"\"\"\n",
    "\n",
    "# 데이터 읽어오기 \n",
    "corpus_df = pd.read_parquet(f'{path}/pandas_book.parquet')\n",
    "\n",
    "# LLM모델 선언 구글의 gemma2가 6월 27일 발표된 모델임, Llama3-8b모델에 비해 Gemma2-9b모델이 성능이 좋음\n",
    "# llm = Ollama(model='gemma2', temperature=1.0)     # 원래는 이거 쓰려고 했는데, 그냥 API 쓸수 있는 모델 쓰자 \n",
    "# llm = Ollama(model=\"qwen2\", temperature=1.0)      # 좋음 \n",
    "llm = OpenAI(model='gpt-4o', temperature=1.0)\n",
    "\n",
    "\n",
    "qa_df = make_single_content_qa(corpus_df,                                   # 전처리한 데이터 \n",
    "                               content_size=len(corpus_df),                 # 데이터(행/청크) 개수 \n",
    "                               qa_creation_func=generate_qa_llama_index,    # 질의 응답을 생성하는 함수 \n",
    "                               llm=llm,                                     # LLM 모델 \n",
    "                               prompt=prompt,                               # 질문과 대답 형식 프롬프트 \n",
    "                               question_num_per_content=1)                  # 36개의 컨텐츠당 만들어 낼 질문-대답 수 (1이면 1:1비율로 만듬)\n",
    "\n",
    "\n",
    "qa_df.head()"
   ]
  },
  {
   "cell_type": "code",
   "execution_count": 12,
   "metadata": {},
   "outputs": [],
   "source": [
    "# 위 내용을 엑설파일로 저장 \n",
    "qa_df.to_excel('corpus_data/pandas_book_qa.xlsx', index=False)"
   ]
  },
  {
   "cell_type": "code",
   "execution_count": 13,
   "metadata": {},
   "outputs": [
    {
     "data": {
      "text/html": [
       "<div>\n",
       "<style scoped>\n",
       "    .dataframe tbody tr th:only-of-type {\n",
       "        vertical-align: middle;\n",
       "    }\n",
       "\n",
       "    .dataframe tbody tr th {\n",
       "        vertical-align: top;\n",
       "    }\n",
       "\n",
       "    .dataframe thead th {\n",
       "        text-align: right;\n",
       "    }\n",
       "</style>\n",
       "<table border=\"1\" class=\"dataframe\">\n",
       "  <thead>\n",
       "    <tr style=\"text-align: right;\">\n",
       "      <th></th>\n",
       "      <th>qid</th>\n",
       "      <th>retrieval_gt</th>\n",
       "      <th>query</th>\n",
       "      <th>generation_gt</th>\n",
       "    </tr>\n",
       "  </thead>\n",
       "  <tbody>\n",
       "    <tr>\n",
       "      <th>0</th>\n",
       "      <td>98290e07-565e-4eda-b028-c8d28af7e589</td>\n",
       "      <td>[[f3b63111-8036-4f21-a629-667f3b416c72]]</td>\n",
       "      <td>\"본문 소스 코드\" 자료의 등록일은 언제인가요?</td>\n",
       "      <td>[등록일은 2024년 6월 25일입니다.]</td>\n",
       "    </tr>\n",
       "    <tr>\n",
       "      <th>1</th>\n",
       "      <td>ff487150-3312-491d-8e4a-7869bc41e067</td>\n",
       "      <td>[[6efb506d-100e-4b81-be0e-cd39bbf237cb]]</td>\n",
       "      <td>이 책에 추가된 주요 내용은 무엇인가요?</td>\n",
       "      <td>[시계열 데이터의 효율적인 처리와 분석을 위한 다양한 기법이 추가되었습니다.]</td>\n",
       "    </tr>\n",
       "    <tr>\n",
       "      <th>2</th>\n",
       "      <td>2b486627-da24-4d56-8abf-03b09ef9b642</td>\n",
       "      <td>[[70b74199-9865-4844-9355-8ed2de5febf8]]</td>\n",
       "      <td>\"챗GPT 프롬프트 120% 질문 기술\" 보도자료의 발표일은 언제인가요?</td>\n",
       "      <td>[2024년 4월 24일입니다.]</td>\n",
       "    </tr>\n",
       "    <tr>\n",
       "      <th>3</th>\n",
       "      <td>680ab4e7-fa97-4167-98ec-6a874888c518</td>\n",
       "      <td>[[241cab43-3017-40bf-b703-12a6029a05ca]]</td>\n",
       "      <td>[보도자료] 파이썬과 엑셀로 시작하는 딥러닝이 발표된 날짜는 언제인가요?</td>\n",
       "      <td>[이 보도자료는 2023년 7월 19일에 발표되었습니다.]</td>\n",
       "    </tr>\n",
       "    <tr>\n",
       "      <th>4</th>\n",
       "      <td>54b9798b-91aa-484c-8544-4600cbdabe38</td>\n",
       "      <td>[[039c58d5-6083-428f-a940-712a7415845b]]</td>\n",
       "      <td>데이터 변화를 효과적으로 분석하기 위해 어떤 조치를 취했나요?</td>\n",
       "      <td>[시계열 데이터 처리 강화와 데이터 전처리 기법을 다양화하여 대폭 추가했습니다.]</td>\n",
       "    </tr>\n",
       "  </tbody>\n",
       "</table>\n",
       "</div>"
      ],
      "text/plain": [
       "                                    qid  \\\n",
       "0  98290e07-565e-4eda-b028-c8d28af7e589   \n",
       "1  ff487150-3312-491d-8e4a-7869bc41e067   \n",
       "2  2b486627-da24-4d56-8abf-03b09ef9b642   \n",
       "3  680ab4e7-fa97-4167-98ec-6a874888c518   \n",
       "4  54b9798b-91aa-484c-8544-4600cbdabe38   \n",
       "\n",
       "                               retrieval_gt  \\\n",
       "0  [[f3b63111-8036-4f21-a629-667f3b416c72]]   \n",
       "1  [[6efb506d-100e-4b81-be0e-cd39bbf237cb]]   \n",
       "2  [[70b74199-9865-4844-9355-8ed2de5febf8]]   \n",
       "3  [[241cab43-3017-40bf-b703-12a6029a05ca]]   \n",
       "4  [[039c58d5-6083-428f-a940-712a7415845b]]   \n",
       "\n",
       "                                      query  \\\n",
       "0                \"본문 소스 코드\" 자료의 등록일은 언제인가요?   \n",
       "1                    이 책에 추가된 주요 내용은 무엇인가요?   \n",
       "2  \"챗GPT 프롬프트 120% 질문 기술\" 보도자료의 발표일은 언제인가요?   \n",
       "3  [보도자료] 파이썬과 엑셀로 시작하는 딥러닝이 발표된 날짜는 언제인가요?   \n",
       "4        데이터 변화를 효과적으로 분석하기 위해 어떤 조치를 취했나요?   \n",
       "\n",
       "                                   generation_gt  \n",
       "0                        [등록일은 2024년 6월 25일입니다.]  \n",
       "1    [시계열 데이터의 효율적인 처리와 분석을 위한 다양한 기법이 추가되었습니다.]  \n",
       "2                             [2024년 4월 24일입니다.]  \n",
       "3               [이 보도자료는 2023년 7월 19일에 발표되었습니다.]  \n",
       "4  [시계열 데이터 처리 강화와 데이터 전처리 기법을 다양화하여 대폭 추가했습니다.]  "
      ]
     },
     "execution_count": 13,
     "metadata": {},
     "output_type": "execute_result"
    }
   ],
   "source": [
    "qa_df.head()"
   ]
  },
  {
   "cell_type": "code",
   "execution_count": 14,
   "metadata": {},
   "outputs": [],
   "source": [
    "# # 직접 수정한 QA 데이터를 불러옴\n",
    "# qa_data = pd.read_excel('corpus_data/pandas_book_qa_final.xlsx')\n",
    "# qa_data.head()"
   ]
  },
  {
   "cell_type": "code",
   "execution_count": 15,
   "metadata": {},
   "outputs": [
    {
     "data": {
      "text/html": [
       "<div>\n",
       "<style scoped>\n",
       "    .dataframe tbody tr th:only-of-type {\n",
       "        vertical-align: middle;\n",
       "    }\n",
       "\n",
       "    .dataframe tbody tr th {\n",
       "        vertical-align: top;\n",
       "    }\n",
       "\n",
       "    .dataframe thead th {\n",
       "        text-align: right;\n",
       "    }\n",
       "</style>\n",
       "<table border=\"1\" class=\"dataframe\">\n",
       "  <thead>\n",
       "    <tr style=\"text-align: right;\">\n",
       "      <th></th>\n",
       "      <th>qid</th>\n",
       "      <th>retrieval_gt</th>\n",
       "      <th>query</th>\n",
       "      <th>generation_gt</th>\n",
       "    </tr>\n",
       "  </thead>\n",
       "  <tbody>\n",
       "    <tr>\n",
       "      <th>0</th>\n",
       "      <td>98290e07-565e-4eda-b028-c8d28af7e589</td>\n",
       "      <td>[['f3b63111-8036-4f21-a629-667f3b416c72']]</td>\n",
       "      <td>\"본문 소스 코드\" 자료의 등록일은 언제인가요?</td>\n",
       "      <td>['등록일은 2024년 6월 25일입니다.']</td>\n",
       "    </tr>\n",
       "    <tr>\n",
       "      <th>1</th>\n",
       "      <td>ff487150-3312-491d-8e4a-7869bc41e067</td>\n",
       "      <td>[['6efb506d-100e-4b81-be0e-cd39bbf237cb']]</td>\n",
       "      <td>이 책에 추가된 주요 내용은 무엇인가요?</td>\n",
       "      <td>['시계열 데이터의 효율적인 처리와 분석을 위한 다양한 기법이 추가되었습니다.']</td>\n",
       "    </tr>\n",
       "    <tr>\n",
       "      <th>2</th>\n",
       "      <td>2b486627-da24-4d56-8abf-03b09ef9b642</td>\n",
       "      <td>[['70b74199-9865-4844-9355-8ed2de5febf8']]</td>\n",
       "      <td>\"챗GPT 프롬프트 120% 질문 기술\" 보도자료의 발표일은 언제인가요?</td>\n",
       "      <td>['2024년 4월 24일입니다.']</td>\n",
       "    </tr>\n",
       "    <tr>\n",
       "      <th>3</th>\n",
       "      <td>680ab4e7-fa97-4167-98ec-6a874888c518</td>\n",
       "      <td>[['241cab43-3017-40bf-b703-12a6029a05ca']]</td>\n",
       "      <td>[보도자료] 파이썬과 엑셀로 시작하는 딥러닝이 발표된 날짜는 언제인가요?</td>\n",
       "      <td>['이 보도자료는 2023년 7월 19일에 발표되었습니다.']</td>\n",
       "    </tr>\n",
       "    <tr>\n",
       "      <th>4</th>\n",
       "      <td>54b9798b-91aa-484c-8544-4600cbdabe38</td>\n",
       "      <td>[['039c58d5-6083-428f-a940-712a7415845b']]</td>\n",
       "      <td>데이터 변화를 효과적으로 분석하기 위해 어떤 조치를 취했나요?</td>\n",
       "      <td>['시계열 데이터 처리 강화와 데이터 전처리 기법을 다양화하여 대폭 추가했습니다.']</td>\n",
       "    </tr>\n",
       "  </tbody>\n",
       "</table>\n",
       "</div>"
      ],
      "text/plain": [
       "                                    qid  \\\n",
       "0  98290e07-565e-4eda-b028-c8d28af7e589   \n",
       "1  ff487150-3312-491d-8e4a-7869bc41e067   \n",
       "2  2b486627-da24-4d56-8abf-03b09ef9b642   \n",
       "3  680ab4e7-fa97-4167-98ec-6a874888c518   \n",
       "4  54b9798b-91aa-484c-8544-4600cbdabe38   \n",
       "\n",
       "                                 retrieval_gt  \\\n",
       "0  [['f3b63111-8036-4f21-a629-667f3b416c72']]   \n",
       "1  [['6efb506d-100e-4b81-be0e-cd39bbf237cb']]   \n",
       "2  [['70b74199-9865-4844-9355-8ed2de5febf8']]   \n",
       "3  [['241cab43-3017-40bf-b703-12a6029a05ca']]   \n",
       "4  [['039c58d5-6083-428f-a940-712a7415845b']]   \n",
       "\n",
       "                                      query  \\\n",
       "0                \"본문 소스 코드\" 자료의 등록일은 언제인가요?   \n",
       "1                    이 책에 추가된 주요 내용은 무엇인가요?   \n",
       "2  \"챗GPT 프롬프트 120% 질문 기술\" 보도자료의 발표일은 언제인가요?   \n",
       "3  [보도자료] 파이썬과 엑셀로 시작하는 딥러닝이 발표된 날짜는 언제인가요?   \n",
       "4        데이터 변화를 효과적으로 분석하기 위해 어떤 조치를 취했나요?   \n",
       "\n",
       "                                     generation_gt  \n",
       "0                        ['등록일은 2024년 6월 25일입니다.']  \n",
       "1    ['시계열 데이터의 효율적인 처리와 분석을 위한 다양한 기법이 추가되었습니다.']  \n",
       "2                             ['2024년 4월 24일입니다.']  \n",
       "3               ['이 보도자료는 2023년 7월 19일에 발표되었습니다.']  \n",
       "4  ['시계열 데이터 처리 강화와 데이터 전처리 기법을 다양화하여 대폭 추가했습니다.']  "
      ]
     },
     "execution_count": 15,
     "metadata": {},
     "output_type": "execute_result"
    }
   ],
   "source": [
    "qa_data = pd.read_excel('corpus_data/pandas_book_qa.xlsx')\n",
    "qa_data.head()"
   ]
  },
  {
   "cell_type": "code",
   "execution_count": 16,
   "metadata": {},
   "outputs": [
    {
     "name": "stdout",
     "output_type": "stream",
     "text": [
      "<class 'pandas.core.frame.DataFrame'>\n",
      "RangeIndex: 36 entries, 0 to 35\n",
      "Data columns (total 4 columns):\n",
      " #   Column         Non-Null Count  Dtype \n",
      "---  ------         --------------  ----- \n",
      " 0   qid            36 non-null     object\n",
      " 1   retrieval_gt   36 non-null     object\n",
      " 2   query          36 non-null     object\n",
      " 3   generation_gt  36 non-null     object\n",
      "dtypes: object(4)\n",
      "memory usage: 1.3+ KB\n"
     ]
    }
   ],
   "source": [
    "qa_data.info()"
   ]
  },
  {
   "cell_type": "code",
   "execution_count": 17,
   "metadata": {},
   "outputs": [
    {
     "data": {
      "text/plain": [
       "str"
      ]
     },
     "execution_count": 17,
     "metadata": {},
     "output_type": "execute_result"
    }
   ],
   "source": [
    "type(qa_data['retrieval_gt'][0])"
   ]
  },
  {
   "cell_type": "code",
   "execution_count": 18,
   "metadata": {},
   "outputs": [
    {
     "data": {
      "text/plain": [
       "str"
      ]
     },
     "execution_count": 18,
     "metadata": {},
     "output_type": "execute_result"
    }
   ],
   "source": [
    "type(qa_data['generation_gt'][0])"
   ]
  },
  {
   "cell_type": "code",
   "execution_count": 19,
   "metadata": {},
   "outputs": [
    {
     "name": "stdout",
     "output_type": "stream",
     "text": [
      "<class 'pandas.core.frame.DataFrame'>\n",
      "RangeIndex: 36 entries, 0 to 35\n",
      "Data columns (total 4 columns):\n",
      " #   Column         Non-Null Count  Dtype \n",
      "---  ------         --------------  ----- \n",
      " 0   qid            36 non-null     object\n",
      " 1   retrieval_gt   36 non-null     object\n",
      " 2   query          36 non-null     object\n",
      " 3   generation_gt  36 non-null     object\n",
      "dtypes: object(4)\n",
      "memory usage: 1.3+ KB\n"
     ]
    }
   ],
   "source": [
    "# str -> list 객체로 변환해주기 위해 \n",
    "\n",
    "import ast\n",
    "for col in ['retrieval_gt', 'generation_gt']:\n",
    "    qa_data[col] = qa_data[col].apply(ast.literal_eval)\n",
    "\n",
    "qa_data.info()"
   ]
  },
  {
   "cell_type": "code",
   "execution_count": 20,
   "metadata": {},
   "outputs": [
    {
     "data": {
      "text/plain": [
       "list"
      ]
     },
     "execution_count": 20,
     "metadata": {},
     "output_type": "execute_result"
    }
   ],
   "source": [
    "type(qa_data['retrieval_gt'][0])\n",
    "# 리스트로 변함 "
   ]
  },
  {
   "cell_type": "code",
   "execution_count": 21,
   "metadata": {},
   "outputs": [
    {
     "data": {
      "text/plain": [
       "list"
      ]
     },
     "execution_count": 21,
     "metadata": {},
     "output_type": "execute_result"
    }
   ],
   "source": [
    "type(qa_data['generation_gt'][0])"
   ]
  },
  {
   "cell_type": "markdown",
   "metadata": {},
   "source": [
    "## RAGAS - RAG Evaluation"
   ]
  },
  {
   "cell_type": "code",
   "execution_count": 22,
   "metadata": {},
   "outputs": [
    {
     "name": "stdout",
     "output_type": "stream",
     "text": [
      "이 책의 출판사は \"정보문화社\"입니다。\n"
     ]
    }
   ],
   "source": [
    "# Chain 테스트\n",
    "response = rag_chain.invoke(\"이 책의 출판사는 어디인가요?\")\n",
    "print(response)"
   ]
  },
  {
   "cell_type": "code",
   "execution_count": 23,
   "metadata": {},
   "outputs": [
    {
     "data": {
      "text/html": [
       "<div>\n",
       "<style scoped>\n",
       "    .dataframe tbody tr th:only-of-type {\n",
       "        vertical-align: middle;\n",
       "    }\n",
       "\n",
       "    .dataframe tbody tr th {\n",
       "        vertical-align: top;\n",
       "    }\n",
       "\n",
       "    .dataframe thead th {\n",
       "        text-align: right;\n",
       "    }\n",
       "</style>\n",
       "<table border=\"1\" class=\"dataframe\">\n",
       "  <thead>\n",
       "    <tr style=\"text-align: right;\">\n",
       "      <th></th>\n",
       "      <th>question</th>\n",
       "      <th>ground_truth</th>\n",
       "    </tr>\n",
       "  </thead>\n",
       "  <tbody>\n",
       "    <tr>\n",
       "      <th>0</th>\n",
       "      <td>\"본문 소스 코드\" 자료의 등록일은 언제인가요?</td>\n",
       "      <td>[등록일은 2024년 6월 25일입니다.]</td>\n",
       "    </tr>\n",
       "    <tr>\n",
       "      <th>1</th>\n",
       "      <td>이 책에 추가된 주요 내용은 무엇인가요?</td>\n",
       "      <td>[시계열 데이터의 효율적인 처리와 분석을 위한 다양한 기법이 추가되었습니다.]</td>\n",
       "    </tr>\n",
       "    <tr>\n",
       "      <th>2</th>\n",
       "      <td>\"챗GPT 프롬프트 120% 질문 기술\" 보도자료의 발표일은 언제인가요?</td>\n",
       "      <td>[2024년 4월 24일입니다.]</td>\n",
       "    </tr>\n",
       "    <tr>\n",
       "      <th>3</th>\n",
       "      <td>[보도자료] 파이썬과 엑셀로 시작하는 딥러닝이 발표된 날짜는 언제인가요?</td>\n",
       "      <td>[이 보도자료는 2023년 7월 19일에 발표되었습니다.]</td>\n",
       "    </tr>\n",
       "    <tr>\n",
       "      <th>4</th>\n",
       "      <td>데이터 변화를 효과적으로 분석하기 위해 어떤 조치를 취했나요?</td>\n",
       "      <td>[시계열 데이터 처리 강화와 데이터 전처리 기법을 다양화하여 대폭 추가했습니다.]</td>\n",
       "    </tr>\n",
       "  </tbody>\n",
       "</table>\n",
       "</div>"
      ],
      "text/plain": [
       "                                   question  \\\n",
       "0                \"본문 소스 코드\" 자료의 등록일은 언제인가요?   \n",
       "1                    이 책에 추가된 주요 내용은 무엇인가요?   \n",
       "2  \"챗GPT 프롬프트 120% 질문 기술\" 보도자료의 발표일은 언제인가요?   \n",
       "3  [보도자료] 파이썬과 엑셀로 시작하는 딥러닝이 발표된 날짜는 언제인가요?   \n",
       "4        데이터 변화를 효과적으로 분석하기 위해 어떤 조치를 취했나요?   \n",
       "\n",
       "                                    ground_truth  \n",
       "0                        [등록일은 2024년 6월 25일입니다.]  \n",
       "1    [시계열 데이터의 효율적인 처리와 분석을 위한 다양한 기법이 추가되었습니다.]  \n",
       "2                             [2024년 4월 24일입니다.]  \n",
       "3               [이 보도자료는 2023년 7월 19일에 발표되었습니다.]  \n",
       "4  [시계열 데이터 처리 강화와 데이터 전처리 기법을 다양화하여 대폭 추가했습니다.]  "
      ]
     },
     "execution_count": 23,
     "metadata": {},
     "output_type": "execute_result"
    }
   ],
   "source": [
    "qa_data = qa_data[['query', 'generation_gt']]\n",
    "qa_data.columns = ['question', 'ground_truth']\n",
    "qa_data.head()"
   ]
  },
  {
   "cell_type": "code",
   "execution_count": 24,
   "metadata": {},
   "outputs": [
    {
     "name": "stderr",
     "output_type": "stream",
     "text": [
      "C:\\Users\\kim_h\\AppData\\Local\\Temp\\ipykernel_15780\\1755535353.py:1: SettingWithCopyWarning: \n",
      "A value is trying to be set on a copy of a slice from a DataFrame.\n",
      "Try using .loc[row_indexer,col_indexer] = value instead\n",
      "\n",
      "See the caveats in the documentation: https://pandas.pydata.org/pandas-docs/stable/user_guide/indexing.html#returning-a-view-versus-a-copy\n",
      "  qa_data['ground_truth'] = qa_data['ground_truth'].apply(lambda x: x[0] )\n",
      "C:\\Users\\kim_h\\AppData\\Local\\Temp\\ipykernel_15780\\1755535353.py:2: SettingWithCopyWarning: \n",
      "A value is trying to be set on a copy of a slice from a DataFrame.\n",
      "Try using .loc[row_indexer,col_indexer] = value instead\n",
      "\n",
      "See the caveats in the documentation: https://pandas.pydata.org/pandas-docs/stable/user_guide/indexing.html#returning-a-view-versus-a-copy\n",
      "  qa_data['answer'] = qa_data['question'].apply(lambda x: rag_chain.invoke(x) )\n",
      "c:\\Users\\kim_h\\anaconda3\\envs\\rag\\Lib\\site-packages\\langchain_core\\_api\\deprecation.py:139: LangChainDeprecationWarning: The method `BaseRetriever.get_relevant_documents` was deprecated in langchain-core 0.1.46 and will be removed in 0.3.0. Use invoke instead.\n",
      "  warn_deprecated(\n"
     ]
    },
    {
     "data": {
      "text/html": [
       "<div>\n",
       "<style scoped>\n",
       "    .dataframe tbody tr th:only-of-type {\n",
       "        vertical-align: middle;\n",
       "    }\n",
       "\n",
       "    .dataframe tbody tr th {\n",
       "        vertical-align: top;\n",
       "    }\n",
       "\n",
       "    .dataframe thead th {\n",
       "        text-align: right;\n",
       "    }\n",
       "</style>\n",
       "<table border=\"1\" class=\"dataframe\">\n",
       "  <thead>\n",
       "    <tr style=\"text-align: right;\">\n",
       "      <th></th>\n",
       "      <th>question</th>\n",
       "      <th>ground_truth</th>\n",
       "      <th>answer</th>\n",
       "      <th>contexts</th>\n",
       "    </tr>\n",
       "  </thead>\n",
       "  <tbody>\n",
       "    <tr>\n",
       "      <th>0</th>\n",
       "      <td>\"본문 소스 코드\" 자료의 등록일은 언제인가요?</td>\n",
       "      <td>등록일은 2024년 6월 25일입니다.</td>\n",
       "      <td>본문에서는 \"본문 소스 코드\"의 등록일에 대한 정보를 제공하지 않았습니다. 따라서 ...</td>\n",
       "      <td>[비전공자와 입문자의 마음을 사로잡은 강의가 개정판으로 돌아왔다. 최신 버전인 Pa...</td>\n",
       "    </tr>\n",
       "    <tr>\n",
       "      <th>1</th>\n",
       "      <td>이 책에 추가된 주요 내용은 무엇인가요?</td>\n",
       "      <td>시계열 데이터의 효율적인 처리와 분석을 위한 다양한 기법이 추가되었습니다.</td>\n",
       "      <td>이 책에 추가된 주요 내용은 Pandas 2.0 버전에서 추가되거나 변경된 내용이며...</td>\n",
       "      <td>[비전공자와 입문자의 마음을 사로잡은 강의가 개정판으로 돌아왔다. 최신 버전인 Pa...</td>\n",
       "    </tr>\n",
       "    <tr>\n",
       "      <th>2</th>\n",
       "      <td>\"챗GPT 프롬프트 120% 질문 기술\" 보도자료의 발표일은 언제인가요?</td>\n",
       "      <td>2024년 4월 24일입니다.</td>\n",
       "      <td>\"챗GPT 프롬프트 120% 질문 기술\" 보도자료의 발표일은 2024년 4월 24일...</td>\n",
       "      <td>[330\\n\\n[보도자료] 예제가 가득한 챗GPT 프롬프트 길라잡이\\n운영자\\n20...</td>\n",
       "    </tr>\n",
       "    <tr>\n",
       "      <th>3</th>\n",
       "      <td>[보도자료] 파이썬과 엑셀로 시작하는 딥러닝이 발표된 날짜는 언제인가요?</td>\n",
       "      <td>이 보도자료는 2023년 7월 19일에 발표되었습니다.</td>\n",
       "      <td>[보도자료] 파이썬과 엑셀로 시작하는 딥러닝이 발표된 날짜는 2023년 7월 19일...</td>\n",
       "      <td>[지은이 | 오승환과학고, 서울대를 졸업하고, 중 국 C KGSB MBA, FRM(...</td>\n",
       "    </tr>\n",
       "    <tr>\n",
       "      <th>4</th>\n",
       "      <td>데이터 변화를 효과적으로 분석하기 위해 어떤 조치를 취했나요?</td>\n",
       "      <td>시계열 데이터 처리 강화와 데이터 전처리 기법을 다양화하여 대폭 추가했습니다.</td>\n",
       "      <td>문서에 따르면 다음과 같이 데이터 변화를 효과적으로 분석하기 위한 조치들이 있습니다...</td>\n",
       "      <td>[대폭 추가해 시간에 따른 데이터 변화를 효과적으로 분석할 수 있도록 했다. 또한 ...</td>\n",
       "    </tr>\n",
       "  </tbody>\n",
       "</table>\n",
       "</div>"
      ],
      "text/plain": [
       "                                   question  \\\n",
       "0                \"본문 소스 코드\" 자료의 등록일은 언제인가요?   \n",
       "1                    이 책에 추가된 주요 내용은 무엇인가요?   \n",
       "2  \"챗GPT 프롬프트 120% 질문 기술\" 보도자료의 발표일은 언제인가요?   \n",
       "3  [보도자료] 파이썬과 엑셀로 시작하는 딥러닝이 발표된 날짜는 언제인가요?   \n",
       "4        데이터 변화를 효과적으로 분석하기 위해 어떤 조치를 취했나요?   \n",
       "\n",
       "                                  ground_truth  \\\n",
       "0                        등록일은 2024년 6월 25일입니다.   \n",
       "1    시계열 데이터의 효율적인 처리와 분석을 위한 다양한 기법이 추가되었습니다.   \n",
       "2                             2024년 4월 24일입니다.   \n",
       "3               이 보도자료는 2023년 7월 19일에 발표되었습니다.   \n",
       "4  시계열 데이터 처리 강화와 데이터 전처리 기법을 다양화하여 대폭 추가했습니다.   \n",
       "\n",
       "                                              answer  \\\n",
       "0  본문에서는 \"본문 소스 코드\"의 등록일에 대한 정보를 제공하지 않았습니다. 따라서 ...   \n",
       "1  이 책에 추가된 주요 내용은 Pandas 2.0 버전에서 추가되거나 변경된 내용이며...   \n",
       "2  \"챗GPT 프롬프트 120% 질문 기술\" 보도자료의 발표일은 2024년 4월 24일...   \n",
       "3  [보도자료] 파이썬과 엑셀로 시작하는 딥러닝이 발표된 날짜는 2023년 7월 19일...   \n",
       "4  문서에 따르면 다음과 같이 데이터 변화를 효과적으로 분석하기 위한 조치들이 있습니다...   \n",
       "\n",
       "                                            contexts  \n",
       "0  [비전공자와 입문자의 마음을 사로잡은 강의가 개정판으로 돌아왔다. 최신 버전인 Pa...  \n",
       "1  [비전공자와 입문자의 마음을 사로잡은 강의가 개정판으로 돌아왔다. 최신 버전인 Pa...  \n",
       "2  [330\\n\\n[보도자료] 예제가 가득한 챗GPT 프롬프트 길라잡이\\n운영자\\n20...  \n",
       "3  [지은이 | 오승환과학고, 서울대를 졸업하고, 중 국 C KGSB MBA, FRM(...  \n",
       "4  [대폭 추가해 시간에 따른 데이터 변화를 효과적으로 분석할 수 있도록 했다. 또한 ...  "
      ]
     },
     "execution_count": 24,
     "metadata": {},
     "output_type": "execute_result"
    }
   ],
   "source": [
    "# 평가 준비, rag_chain(qwen2) 표 채우기 \n",
    "\n",
    "qa_data['ground_truth'] = qa_data['ground_truth'].apply(lambda x: x[0] )\n",
    "qa_data['answer'] = qa_data['question'].apply(lambda x: rag_chain.invoke(x) )\n",
    "qa_data['contexts'] = qa_data['question'].apply(lambda x: [d.page_content for d in retriever.get_relevant_documents(x)] )\n",
    "qa_data.head()"
   ]
  },
  {
   "cell_type": "code",
   "execution_count": 25,
   "metadata": {},
   "outputs": [
    {
     "data": {
      "text/plain": [
       "{'question': '\"본문 소스 코드\" 자료의 등록일은 언제인가요?',\n",
       " 'ground_truth': '등록일은 2024년 6월 25일입니다.',\n",
       " 'answer': '본문에서는 \"본문 소스 코드\"의 등록일에 대한 정보를 제공하지 않았습니다. 따라서 이 질문에 대한 정확한 대답을 주어지는 것은 불가능합니다.',\n",
       " 'contexts': ['비전공자와 입문자의 마음을 사로잡은 강의가 개정판으로 돌아왔다. 최신 버전인 Pandas 2.0 버전에서 추가되거나 변경된 내용을 포함하여 시계열 데이터 처리 등의 기법과',\n",
       "  '데이터 과학자가 되기 위한 첫걸음!어려운 이론은 최소화하고, 예제 코드를 따라 하며 자연스럽게 사용법에 익숙해지도록 안내하는 데이터 분석 입문서다. 데이터 분석을 처음',\n",
       "  '지은이 | 오승환과학고, 서울대를 졸업하고, 중 국 C KGSB MBA, FRM(미국 재무위험관리사) 자격을 보유하고 있다. 국내 주요 금융기관과 대기업에서 기업분석 및 전략기획 업무를 담당했다. IT 비전공자이지만 데이터 분석과 인공지능을 독학으로 익혔고, 현재 핀테크 스타트업 대표이자 인공지능 강사로 활발하게 활동하고 있다. 유튜브 <판다스 스튜디오>를 운영하며, 저서로는 『파이썬 딥러닝 텐서플로』 등이 있다.',\n",
       "  '만큼 더욱 자세한 설명과 다양한 데이터 시각화, 데이터 전처리 기법을 담았으며, Pandas 2.0 버전에서 추가되거나 변경된 내용을 풍부하게 담아 데이터 분석에']}"
      ]
     },
     "execution_count": 25,
     "metadata": {},
     "output_type": "execute_result"
    }
   ],
   "source": [
    "from datasets import Dataset \n",
    "\n",
    "dataset = Dataset.from_pandas(qa_data)\n",
    "\n",
    "dataset[0]"
   ]
  },
  {
   "cell_type": "code",
   "execution_count": 26,
   "metadata": {},
   "outputs": [],
   "source": [
    "from ragas.metrics import (\n",
    "    faithfulness,\n",
    "    answer_relevancy,\n",
    "    context_recall,\n",
    "    context_precision,\n",
    ")"
   ]
  },
  {
   "cell_type": "code",
   "execution_count": 27,
   "metadata": {},
   "outputs": [
    {
     "data": {
      "application/vnd.jupyter.widget-view+json": {
       "model_id": "4fcb4e5ecd084c66a59f483d66f785bb",
       "version_major": 2,
       "version_minor": 0
      },
      "text/plain": [
       "Evaluating:   0%|          | 0/144 [00:00<?, ?it/s]"
      ]
     },
     "metadata": {},
     "output_type": "display_data"
    },
    {
     "data": {
      "text/html": [
       "<pre style=\"white-space:pre;overflow-x:auto;line-height:normal;font-family:Menlo,'DejaVu Sans Mono',consolas,'Courier New',monospace\"><span style=\"color: #7fbfbf; text-decoration-color: #7fbfbf\">[06/29/24 22:15:43] </span><span style=\"color: #800000; text-decoration-color: #800000\">WARNING </span> <span style=\"font-weight: bold\">[</span>output_parser.py:<span style=\"color: #008080; text-decoration-color: #008080; font-weight: bold\">71</span><span style=\"font-weight: bold\">]</span> &gt;&gt; Failed to parse output. Returning <span style=\"color: #800080; text-decoration-color: #800080; font-style: italic\">None</span>.   <a href=\"file://c:\\Users\\kim_h\\anaconda3\\envs\\rag\\Lib\\site-packages\\ragas\\llms\\output_parser.py\" target=\"_blank\"><span style=\"color: #7f7f7f; text-decoration-color: #7f7f7f\">output_parser.py</span></a><span style=\"color: #7f7f7f; text-decoration-color: #7f7f7f\">:</span><a href=\"file://c:\\Users\\kim_h\\anaconda3\\envs\\rag\\Lib\\site-packages\\ragas\\llms\\output_parser.py#71\" target=\"_blank\"><span style=\"color: #7f7f7f; text-decoration-color: #7f7f7f\">71</span></a>\n",
       "</pre>\n"
      ],
      "text/plain": [
       "\u001b[2;36m[06/29/24 22:15:43]\u001b[0m\u001b[2;36m \u001b[0m\u001b[31mWARNING \u001b[0m \u001b[1m[\u001b[0moutput_parser.py:\u001b[1;36m71\u001b[0m\u001b[1m]\u001b[0m >> Failed to parse output. Returning \u001b[3;35mNone\u001b[0m.   \u001b]8;id=450275;file://c:\\Users\\kim_h\\anaconda3\\envs\\rag\\Lib\\site-packages\\ragas\\llms\\output_parser.py\u001b\\\u001b[2moutput_parser.py\u001b[0m\u001b]8;;\u001b\\\u001b[2m:\u001b[0m\u001b]8;id=688593;file://c:\\Users\\kim_h\\anaconda3\\envs\\rag\\Lib\\site-packages\\ragas\\llms\\output_parser.py#71\u001b\\\u001b[2m71\u001b[0m\u001b]8;;\u001b\\\n"
      ]
     },
     "metadata": {},
     "output_type": "display_data"
    },
    {
     "data": {
      "text/html": [
       "<pre style=\"white-space:pre;overflow-x:auto;line-height:normal;font-family:Menlo,'DejaVu Sans Mono',consolas,'Courier New',monospace\"><span style=\"color: #7fbfbf; text-decoration-color: #7fbfbf\">[06/29/24 22:15:44] </span><span style=\"color: #800000; text-decoration-color: #800000\">WARNING </span> <span style=\"font-weight: bold\">[</span>output_parser.py:<span style=\"color: #008080; text-decoration-color: #008080; font-weight: bold\">71</span><span style=\"font-weight: bold\">]</span> &gt;&gt; Failed to parse output. Returning <span style=\"color: #800080; text-decoration-color: #800080; font-style: italic\">None</span>.   <a href=\"file://c:\\Users\\kim_h\\anaconda3\\envs\\rag\\Lib\\site-packages\\ragas\\llms\\output_parser.py\" target=\"_blank\"><span style=\"color: #7f7f7f; text-decoration-color: #7f7f7f\">output_parser.py</span></a><span style=\"color: #7f7f7f; text-decoration-color: #7f7f7f\">:</span><a href=\"file://c:\\Users\\kim_h\\anaconda3\\envs\\rag\\Lib\\site-packages\\ragas\\llms\\output_parser.py#71\" target=\"_blank\"><span style=\"color: #7f7f7f; text-decoration-color: #7f7f7f\">71</span></a>\n",
       "</pre>\n"
      ],
      "text/plain": [
       "\u001b[2;36m[06/29/24 22:15:44]\u001b[0m\u001b[2;36m \u001b[0m\u001b[31mWARNING \u001b[0m \u001b[1m[\u001b[0moutput_parser.py:\u001b[1;36m71\u001b[0m\u001b[1m]\u001b[0m >> Failed to parse output. Returning \u001b[3;35mNone\u001b[0m.   \u001b]8;id=688189;file://c:\\Users\\kim_h\\anaconda3\\envs\\rag\\Lib\\site-packages\\ragas\\llms\\output_parser.py\u001b\\\u001b[2moutput_parser.py\u001b[0m\u001b]8;;\u001b\\\u001b[2m:\u001b[0m\u001b]8;id=743648;file://c:\\Users\\kim_h\\anaconda3\\envs\\rag\\Lib\\site-packages\\ragas\\llms\\output_parser.py#71\u001b\\\u001b[2m71\u001b[0m\u001b]8;;\u001b\\\n"
      ]
     },
     "metadata": {},
     "output_type": "display_data"
    },
    {
     "data": {
      "text/html": [
       "<pre style=\"white-space:pre;overflow-x:auto;line-height:normal;font-family:Menlo,'DejaVu Sans Mono',consolas,'Courier New',monospace\"><span style=\"color: #7fbfbf; text-decoration-color: #7fbfbf\">[06/29/24 22:16:52] </span><span style=\"color: #800000; text-decoration-color: #800000\">WARNING </span> <span style=\"font-weight: bold\">[</span>output_parser.py:<span style=\"color: #008080; text-decoration-color: #008080; font-weight: bold\">71</span><span style=\"font-weight: bold\">]</span> &gt;&gt; Failed to parse output. Returning <span style=\"color: #800080; text-decoration-color: #800080; font-style: italic\">None</span>.   <a href=\"file://c:\\Users\\kim_h\\anaconda3\\envs\\rag\\Lib\\site-packages\\ragas\\llms\\output_parser.py\" target=\"_blank\"><span style=\"color: #7f7f7f; text-decoration-color: #7f7f7f\">output_parser.py</span></a><span style=\"color: #7f7f7f; text-decoration-color: #7f7f7f\">:</span><a href=\"file://c:\\Users\\kim_h\\anaconda3\\envs\\rag\\Lib\\site-packages\\ragas\\llms\\output_parser.py#71\" target=\"_blank\"><span style=\"color: #7f7f7f; text-decoration-color: #7f7f7f\">71</span></a>\n",
       "</pre>\n"
      ],
      "text/plain": [
       "\u001b[2;36m[06/29/24 22:16:52]\u001b[0m\u001b[2;36m \u001b[0m\u001b[31mWARNING \u001b[0m \u001b[1m[\u001b[0moutput_parser.py:\u001b[1;36m71\u001b[0m\u001b[1m]\u001b[0m >> Failed to parse output. Returning \u001b[3;35mNone\u001b[0m.   \u001b]8;id=549406;file://c:\\Users\\kim_h\\anaconda3\\envs\\rag\\Lib\\site-packages\\ragas\\llms\\output_parser.py\u001b\\\u001b[2moutput_parser.py\u001b[0m\u001b]8;;\u001b\\\u001b[2m:\u001b[0m\u001b]8;id=648499;file://c:\\Users\\kim_h\\anaconda3\\envs\\rag\\Lib\\site-packages\\ragas\\llms\\output_parser.py#71\u001b\\\u001b[2m71\u001b[0m\u001b]8;;\u001b\\\n"
      ]
     },
     "metadata": {},
     "output_type": "display_data"
    },
    {
     "data": {
      "text/html": [
       "<pre style=\"white-space:pre;overflow-x:auto;line-height:normal;font-family:Menlo,'DejaVu Sans Mono',consolas,'Courier New',monospace\"><span style=\"color: #7fbfbf; text-decoration-color: #7fbfbf\">                    </span><span style=\"color: #800000; text-decoration-color: #800000\">WARNING </span> <span style=\"font-weight: bold\">[</span>output_parser.py:<span style=\"color: #008080; text-decoration-color: #008080; font-weight: bold\">71</span><span style=\"font-weight: bold\">]</span> &gt;&gt; Failed to parse output. Returning <span style=\"color: #800080; text-decoration-color: #800080; font-style: italic\">None</span>.   <a href=\"file://c:\\Users\\kim_h\\anaconda3\\envs\\rag\\Lib\\site-packages\\ragas\\llms\\output_parser.py\" target=\"_blank\"><span style=\"color: #7f7f7f; text-decoration-color: #7f7f7f\">output_parser.py</span></a><span style=\"color: #7f7f7f; text-decoration-color: #7f7f7f\">:</span><a href=\"file://c:\\Users\\kim_h\\anaconda3\\envs\\rag\\Lib\\site-packages\\ragas\\llms\\output_parser.py#71\" target=\"_blank\"><span style=\"color: #7f7f7f; text-decoration-color: #7f7f7f\">71</span></a>\n",
       "</pre>\n"
      ],
      "text/plain": [
       "\u001b[2;36m                   \u001b[0m\u001b[2;36m \u001b[0m\u001b[31mWARNING \u001b[0m \u001b[1m[\u001b[0moutput_parser.py:\u001b[1;36m71\u001b[0m\u001b[1m]\u001b[0m >> Failed to parse output. Returning \u001b[3;35mNone\u001b[0m.   \u001b]8;id=721444;file://c:\\Users\\kim_h\\anaconda3\\envs\\rag\\Lib\\site-packages\\ragas\\llms\\output_parser.py\u001b\\\u001b[2moutput_parser.py\u001b[0m\u001b]8;;\u001b\\\u001b[2m:\u001b[0m\u001b]8;id=126158;file://c:\\Users\\kim_h\\anaconda3\\envs\\rag\\Lib\\site-packages\\ragas\\llms\\output_parser.py#71\u001b\\\u001b[2m71\u001b[0m\u001b]8;;\u001b\\\n"
      ]
     },
     "metadata": {},
     "output_type": "display_data"
    },
    {
     "data": {
      "text/html": [
       "<pre style=\"white-space:pre;overflow-x:auto;line-height:normal;font-family:Menlo,'DejaVu Sans Mono',consolas,'Courier New',monospace\"><span style=\"color: #7fbfbf; text-decoration-color: #7fbfbf\">[06/29/24 22:17:49] </span><span style=\"color: #800000; text-decoration-color: #800000\">WARNING </span> <span style=\"font-weight: bold\">[</span>output_parser.py:<span style=\"color: #008080; text-decoration-color: #008080; font-weight: bold\">71</span><span style=\"font-weight: bold\">]</span> &gt;&gt; Failed to parse output. Returning <span style=\"color: #800080; text-decoration-color: #800080; font-style: italic\">None</span>.   <a href=\"file://c:\\Users\\kim_h\\anaconda3\\envs\\rag\\Lib\\site-packages\\ragas\\llms\\output_parser.py\" target=\"_blank\"><span style=\"color: #7f7f7f; text-decoration-color: #7f7f7f\">output_parser.py</span></a><span style=\"color: #7f7f7f; text-decoration-color: #7f7f7f\">:</span><a href=\"file://c:\\Users\\kim_h\\anaconda3\\envs\\rag\\Lib\\site-packages\\ragas\\llms\\output_parser.py#71\" target=\"_blank\"><span style=\"color: #7f7f7f; text-decoration-color: #7f7f7f\">71</span></a>\n",
       "</pre>\n"
      ],
      "text/plain": [
       "\u001b[2;36m[06/29/24 22:17:49]\u001b[0m\u001b[2;36m \u001b[0m\u001b[31mWARNING \u001b[0m \u001b[1m[\u001b[0moutput_parser.py:\u001b[1;36m71\u001b[0m\u001b[1m]\u001b[0m >> Failed to parse output. Returning \u001b[3;35mNone\u001b[0m.   \u001b]8;id=712564;file://c:\\Users\\kim_h\\anaconda3\\envs\\rag\\Lib\\site-packages\\ragas\\llms\\output_parser.py\u001b\\\u001b[2moutput_parser.py\u001b[0m\u001b]8;;\u001b\\\u001b[2m:\u001b[0m\u001b]8;id=141249;file://c:\\Users\\kim_h\\anaconda3\\envs\\rag\\Lib\\site-packages\\ragas\\llms\\output_parser.py#71\u001b\\\u001b[2m71\u001b[0m\u001b]8;;\u001b\\\n"
      ]
     },
     "metadata": {},
     "output_type": "display_data"
    },
    {
     "data": {
      "text/html": [
       "<pre style=\"white-space:pre;overflow-x:auto;line-height:normal;font-family:Menlo,'DejaVu Sans Mono',consolas,'Courier New',monospace\"><span style=\"color: #7fbfbf; text-decoration-color: #7fbfbf\">                    </span><span style=\"color: #800000; text-decoration-color: #800000\">WARNING </span> <span style=\"font-weight: bold\">[</span>output_parser.py:<span style=\"color: #008080; text-decoration-color: #008080; font-weight: bold\">71</span><span style=\"font-weight: bold\">]</span> &gt;&gt; Failed to parse output. Returning <span style=\"color: #800080; text-decoration-color: #800080; font-style: italic\">None</span>.   <a href=\"file://c:\\Users\\kim_h\\anaconda3\\envs\\rag\\Lib\\site-packages\\ragas\\llms\\output_parser.py\" target=\"_blank\"><span style=\"color: #7f7f7f; text-decoration-color: #7f7f7f\">output_parser.py</span></a><span style=\"color: #7f7f7f; text-decoration-color: #7f7f7f\">:</span><a href=\"file://c:\\Users\\kim_h\\anaconda3\\envs\\rag\\Lib\\site-packages\\ragas\\llms\\output_parser.py#71\" target=\"_blank\"><span style=\"color: #7f7f7f; text-decoration-color: #7f7f7f\">71</span></a>\n",
       "</pre>\n"
      ],
      "text/plain": [
       "\u001b[2;36m                   \u001b[0m\u001b[2;36m \u001b[0m\u001b[31mWARNING \u001b[0m \u001b[1m[\u001b[0moutput_parser.py:\u001b[1;36m71\u001b[0m\u001b[1m]\u001b[0m >> Failed to parse output. Returning \u001b[3;35mNone\u001b[0m.   \u001b]8;id=235591;file://c:\\Users\\kim_h\\anaconda3\\envs\\rag\\Lib\\site-packages\\ragas\\llms\\output_parser.py\u001b\\\u001b[2moutput_parser.py\u001b[0m\u001b]8;;\u001b\\\u001b[2m:\u001b[0m\u001b]8;id=121232;file://c:\\Users\\kim_h\\anaconda3\\envs\\rag\\Lib\\site-packages\\ragas\\llms\\output_parser.py#71\u001b\\\u001b[2m71\u001b[0m\u001b]8;;\u001b\\\n"
      ]
     },
     "metadata": {},
     "output_type": "display_data"
    },
    {
     "data": {
      "text/html": [
       "<pre style=\"white-space:pre;overflow-x:auto;line-height:normal;font-family:Menlo,'DejaVu Sans Mono',consolas,'Courier New',monospace\"><span style=\"color: #7fbfbf; text-decoration-color: #7fbfbf\">[06/29/24 22:18:32] </span><span style=\"color: #800000; text-decoration-color: #800000\">WARNING </span> <span style=\"font-weight: bold\">[</span>output_parser.py:<span style=\"color: #008080; text-decoration-color: #008080; font-weight: bold\">71</span><span style=\"font-weight: bold\">]</span> &gt;&gt; Failed to parse output. Returning <span style=\"color: #800080; text-decoration-color: #800080; font-style: italic\">None</span>.   <a href=\"file://c:\\Users\\kim_h\\anaconda3\\envs\\rag\\Lib\\site-packages\\ragas\\llms\\output_parser.py\" target=\"_blank\"><span style=\"color: #7f7f7f; text-decoration-color: #7f7f7f\">output_parser.py</span></a><span style=\"color: #7f7f7f; text-decoration-color: #7f7f7f\">:</span><a href=\"file://c:\\Users\\kim_h\\anaconda3\\envs\\rag\\Lib\\site-packages\\ragas\\llms\\output_parser.py#71\" target=\"_blank\"><span style=\"color: #7f7f7f; text-decoration-color: #7f7f7f\">71</span></a>\n",
       "</pre>\n"
      ],
      "text/plain": [
       "\u001b[2;36m[06/29/24 22:18:32]\u001b[0m\u001b[2;36m \u001b[0m\u001b[31mWARNING \u001b[0m \u001b[1m[\u001b[0moutput_parser.py:\u001b[1;36m71\u001b[0m\u001b[1m]\u001b[0m >> Failed to parse output. Returning \u001b[3;35mNone\u001b[0m.   \u001b]8;id=463392;file://c:\\Users\\kim_h\\anaconda3\\envs\\rag\\Lib\\site-packages\\ragas\\llms\\output_parser.py\u001b\\\u001b[2moutput_parser.py\u001b[0m\u001b]8;;\u001b\\\u001b[2m:\u001b[0m\u001b]8;id=430291;file://c:\\Users\\kim_h\\anaconda3\\envs\\rag\\Lib\\site-packages\\ragas\\llms\\output_parser.py#71\u001b\\\u001b[2m71\u001b[0m\u001b]8;;\u001b\\\n"
      ]
     },
     "metadata": {},
     "output_type": "display_data"
    },
    {
     "data": {
      "text/html": [
       "<pre style=\"white-space:pre;overflow-x:auto;line-height:normal;font-family:Menlo,'DejaVu Sans Mono',consolas,'Courier New',monospace\"><span style=\"color: #7fbfbf; text-decoration-color: #7fbfbf\">[06/29/24 22:19:30] </span><span style=\"color: #800000; text-decoration-color: #800000\">WARNING </span> <span style=\"font-weight: bold\">[</span>output_parser.py:<span style=\"color: #008080; text-decoration-color: #008080; font-weight: bold\">71</span><span style=\"font-weight: bold\">]</span> &gt;&gt; Failed to parse output. Returning <span style=\"color: #800080; text-decoration-color: #800080; font-style: italic\">None</span>.   <a href=\"file://c:\\Users\\kim_h\\anaconda3\\envs\\rag\\Lib\\site-packages\\ragas\\llms\\output_parser.py\" target=\"_blank\"><span style=\"color: #7f7f7f; text-decoration-color: #7f7f7f\">output_parser.py</span></a><span style=\"color: #7f7f7f; text-decoration-color: #7f7f7f\">:</span><a href=\"file://c:\\Users\\kim_h\\anaconda3\\envs\\rag\\Lib\\site-packages\\ragas\\llms\\output_parser.py#71\" target=\"_blank\"><span style=\"color: #7f7f7f; text-decoration-color: #7f7f7f\">71</span></a>\n",
       "</pre>\n"
      ],
      "text/plain": [
       "\u001b[2;36m[06/29/24 22:19:30]\u001b[0m\u001b[2;36m \u001b[0m\u001b[31mWARNING \u001b[0m \u001b[1m[\u001b[0moutput_parser.py:\u001b[1;36m71\u001b[0m\u001b[1m]\u001b[0m >> Failed to parse output. Returning \u001b[3;35mNone\u001b[0m.   \u001b]8;id=892662;file://c:\\Users\\kim_h\\anaconda3\\envs\\rag\\Lib\\site-packages\\ragas\\llms\\output_parser.py\u001b\\\u001b[2moutput_parser.py\u001b[0m\u001b]8;;\u001b\\\u001b[2m:\u001b[0m\u001b]8;id=59917;file://c:\\Users\\kim_h\\anaconda3\\envs\\rag\\Lib\\site-packages\\ragas\\llms\\output_parser.py#71\u001b\\\u001b[2m71\u001b[0m\u001b]8;;\u001b\\\n"
      ]
     },
     "metadata": {},
     "output_type": "display_data"
    },
    {
     "data": {
      "text/html": [
       "<pre style=\"white-space:pre;overflow-x:auto;line-height:normal;font-family:Menlo,'DejaVu Sans Mono',consolas,'Courier New',monospace\"><span style=\"color: #7fbfbf; text-decoration-color: #7fbfbf\">[06/29/24 22:20:41] </span><span style=\"color: #800000; text-decoration-color: #800000\">WARNING </span> <span style=\"font-weight: bold\">[</span>output_parser.py:<span style=\"color: #008080; text-decoration-color: #008080; font-weight: bold\">71</span><span style=\"font-weight: bold\">]</span> &gt;&gt; Failed to parse output. Returning <span style=\"color: #800080; text-decoration-color: #800080; font-style: italic\">None</span>.   <a href=\"file://c:\\Users\\kim_h\\anaconda3\\envs\\rag\\Lib\\site-packages\\ragas\\llms\\output_parser.py\" target=\"_blank\"><span style=\"color: #7f7f7f; text-decoration-color: #7f7f7f\">output_parser.py</span></a><span style=\"color: #7f7f7f; text-decoration-color: #7f7f7f\">:</span><a href=\"file://c:\\Users\\kim_h\\anaconda3\\envs\\rag\\Lib\\site-packages\\ragas\\llms\\output_parser.py#71\" target=\"_blank\"><span style=\"color: #7f7f7f; text-decoration-color: #7f7f7f\">71</span></a>\n",
       "</pre>\n"
      ],
      "text/plain": [
       "\u001b[2;36m[06/29/24 22:20:41]\u001b[0m\u001b[2;36m \u001b[0m\u001b[31mWARNING \u001b[0m \u001b[1m[\u001b[0moutput_parser.py:\u001b[1;36m71\u001b[0m\u001b[1m]\u001b[0m >> Failed to parse output. Returning \u001b[3;35mNone\u001b[0m.   \u001b]8;id=948380;file://c:\\Users\\kim_h\\anaconda3\\envs\\rag\\Lib\\site-packages\\ragas\\llms\\output_parser.py\u001b\\\u001b[2moutput_parser.py\u001b[0m\u001b]8;;\u001b\\\u001b[2m:\u001b[0m\u001b]8;id=990001;file://c:\\Users\\kim_h\\anaconda3\\envs\\rag\\Lib\\site-packages\\ragas\\llms\\output_parser.py#71\u001b\\\u001b[2m71\u001b[0m\u001b]8;;\u001b\\\n"
      ]
     },
     "metadata": {},
     "output_type": "display_data"
    },
    {
     "data": {
      "text/html": [
       "<pre style=\"white-space:pre;overflow-x:auto;line-height:normal;font-family:Menlo,'DejaVu Sans Mono',consolas,'Courier New',monospace\"><span style=\"color: #7fbfbf; text-decoration-color: #7fbfbf\">[06/29/24 22:21:44] </span><span style=\"color: #800000; text-decoration-color: #800000\">WARNING </span> <span style=\"font-weight: bold\">[</span>output_parser.py:<span style=\"color: #008080; text-decoration-color: #008080; font-weight: bold\">71</span><span style=\"font-weight: bold\">]</span> &gt;&gt; Failed to parse output. Returning <span style=\"color: #800080; text-decoration-color: #800080; font-style: italic\">None</span>.   <a href=\"file://c:\\Users\\kim_h\\anaconda3\\envs\\rag\\Lib\\site-packages\\ragas\\llms\\output_parser.py\" target=\"_blank\"><span style=\"color: #7f7f7f; text-decoration-color: #7f7f7f\">output_parser.py</span></a><span style=\"color: #7f7f7f; text-decoration-color: #7f7f7f\">:</span><a href=\"file://c:\\Users\\kim_h\\anaconda3\\envs\\rag\\Lib\\site-packages\\ragas\\llms\\output_parser.py#71\" target=\"_blank\"><span style=\"color: #7f7f7f; text-decoration-color: #7f7f7f\">71</span></a>\n",
       "</pre>\n"
      ],
      "text/plain": [
       "\u001b[2;36m[06/29/24 22:21:44]\u001b[0m\u001b[2;36m \u001b[0m\u001b[31mWARNING \u001b[0m \u001b[1m[\u001b[0moutput_parser.py:\u001b[1;36m71\u001b[0m\u001b[1m]\u001b[0m >> Failed to parse output. Returning \u001b[3;35mNone\u001b[0m.   \u001b]8;id=522113;file://c:\\Users\\kim_h\\anaconda3\\envs\\rag\\Lib\\site-packages\\ragas\\llms\\output_parser.py\u001b\\\u001b[2moutput_parser.py\u001b[0m\u001b]8;;\u001b\\\u001b[2m:\u001b[0m\u001b]8;id=91142;file://c:\\Users\\kim_h\\anaconda3\\envs\\rag\\Lib\\site-packages\\ragas\\llms\\output_parser.py#71\u001b\\\u001b[2m71\u001b[0m\u001b]8;;\u001b\\\n"
      ]
     },
     "metadata": {},
     "output_type": "display_data"
    },
    {
     "data": {
      "text/html": [
       "<pre style=\"white-space:pre;overflow-x:auto;line-height:normal;font-family:Menlo,'DejaVu Sans Mono',consolas,'Courier New',monospace\"><span style=\"color: #7fbfbf; text-decoration-color: #7fbfbf\">                    </span><span style=\"color: #800000; text-decoration-color: #800000\">WARNING </span> <span style=\"font-weight: bold\">[</span>output_parser.py:<span style=\"color: #008080; text-decoration-color: #008080; font-weight: bold\">71</span><span style=\"font-weight: bold\">]</span> &gt;&gt; Failed to parse output. Returning <span style=\"color: #800080; text-decoration-color: #800080; font-style: italic\">None</span>.   <a href=\"file://c:\\Users\\kim_h\\anaconda3\\envs\\rag\\Lib\\site-packages\\ragas\\llms\\output_parser.py\" target=\"_blank\"><span style=\"color: #7f7f7f; text-decoration-color: #7f7f7f\">output_parser.py</span></a><span style=\"color: #7f7f7f; text-decoration-color: #7f7f7f\">:</span><a href=\"file://c:\\Users\\kim_h\\anaconda3\\envs\\rag\\Lib\\site-packages\\ragas\\llms\\output_parser.py#71\" target=\"_blank\"><span style=\"color: #7f7f7f; text-decoration-color: #7f7f7f\">71</span></a>\n",
       "</pre>\n"
      ],
      "text/plain": [
       "\u001b[2;36m                   \u001b[0m\u001b[2;36m \u001b[0m\u001b[31mWARNING \u001b[0m \u001b[1m[\u001b[0moutput_parser.py:\u001b[1;36m71\u001b[0m\u001b[1m]\u001b[0m >> Failed to parse output. Returning \u001b[3;35mNone\u001b[0m.   \u001b]8;id=235051;file://c:\\Users\\kim_h\\anaconda3\\envs\\rag\\Lib\\site-packages\\ragas\\llms\\output_parser.py\u001b\\\u001b[2moutput_parser.py\u001b[0m\u001b]8;;\u001b\\\u001b[2m:\u001b[0m\u001b]8;id=575212;file://c:\\Users\\kim_h\\anaconda3\\envs\\rag\\Lib\\site-packages\\ragas\\llms\\output_parser.py#71\u001b\\\u001b[2m71\u001b[0m\u001b]8;;\u001b\\\n"
      ]
     },
     "metadata": {},
     "output_type": "display_data"
    },
    {
     "data": {
      "text/html": [
       "<pre style=\"white-space:pre;overflow-x:auto;line-height:normal;font-family:Menlo,'DejaVu Sans Mono',consolas,'Courier New',monospace\"><span style=\"color: #7fbfbf; text-decoration-color: #7fbfbf\">[06/29/24 22:22:46] </span><span style=\"color: #800000; text-decoration-color: #800000\">WARNING </span> <span style=\"font-weight: bold\">[</span>output_parser.py:<span style=\"color: #008080; text-decoration-color: #008080; font-weight: bold\">71</span><span style=\"font-weight: bold\">]</span> &gt;&gt; Failed to parse output. Returning <span style=\"color: #800080; text-decoration-color: #800080; font-style: italic\">None</span>.   <a href=\"file://c:\\Users\\kim_h\\anaconda3\\envs\\rag\\Lib\\site-packages\\ragas\\llms\\output_parser.py\" target=\"_blank\"><span style=\"color: #7f7f7f; text-decoration-color: #7f7f7f\">output_parser.py</span></a><span style=\"color: #7f7f7f; text-decoration-color: #7f7f7f\">:</span><a href=\"file://c:\\Users\\kim_h\\anaconda3\\envs\\rag\\Lib\\site-packages\\ragas\\llms\\output_parser.py#71\" target=\"_blank\"><span style=\"color: #7f7f7f; text-decoration-color: #7f7f7f\">71</span></a>\n",
       "</pre>\n"
      ],
      "text/plain": [
       "\u001b[2;36m[06/29/24 22:22:46]\u001b[0m\u001b[2;36m \u001b[0m\u001b[31mWARNING \u001b[0m \u001b[1m[\u001b[0moutput_parser.py:\u001b[1;36m71\u001b[0m\u001b[1m]\u001b[0m >> Failed to parse output. Returning \u001b[3;35mNone\u001b[0m.   \u001b]8;id=712362;file://c:\\Users\\kim_h\\anaconda3\\envs\\rag\\Lib\\site-packages\\ragas\\llms\\output_parser.py\u001b\\\u001b[2moutput_parser.py\u001b[0m\u001b]8;;\u001b\\\u001b[2m:\u001b[0m\u001b]8;id=335520;file://c:\\Users\\kim_h\\anaconda3\\envs\\rag\\Lib\\site-packages\\ragas\\llms\\output_parser.py#71\u001b\\\u001b[2m71\u001b[0m\u001b]8;;\u001b\\\n"
      ]
     },
     "metadata": {},
     "output_type": "display_data"
    },
    {
     "data": {
      "text/html": [
       "<pre style=\"white-space:pre;overflow-x:auto;line-height:normal;font-family:Menlo,'DejaVu Sans Mono',consolas,'Courier New',monospace\"><span style=\"color: #7fbfbf; text-decoration-color: #7fbfbf\">[06/29/24 22:24:24] </span><span style=\"color: #800000; text-decoration-color: #800000\">WARNING </span> <span style=\"font-weight: bold\">[</span>output_parser.py:<span style=\"color: #008080; text-decoration-color: #008080; font-weight: bold\">71</span><span style=\"font-weight: bold\">]</span> &gt;&gt; Failed to parse output. Returning <span style=\"color: #800080; text-decoration-color: #800080; font-style: italic\">None</span>.   <a href=\"file://c:\\Users\\kim_h\\anaconda3\\envs\\rag\\Lib\\site-packages\\ragas\\llms\\output_parser.py\" target=\"_blank\"><span style=\"color: #7f7f7f; text-decoration-color: #7f7f7f\">output_parser.py</span></a><span style=\"color: #7f7f7f; text-decoration-color: #7f7f7f\">:</span><a href=\"file://c:\\Users\\kim_h\\anaconda3\\envs\\rag\\Lib\\site-packages\\ragas\\llms\\output_parser.py#71\" target=\"_blank\"><span style=\"color: #7f7f7f; text-decoration-color: #7f7f7f\">71</span></a>\n",
       "</pre>\n"
      ],
      "text/plain": [
       "\u001b[2;36m[06/29/24 22:24:24]\u001b[0m\u001b[2;36m \u001b[0m\u001b[31mWARNING \u001b[0m \u001b[1m[\u001b[0moutput_parser.py:\u001b[1;36m71\u001b[0m\u001b[1m]\u001b[0m >> Failed to parse output. Returning \u001b[3;35mNone\u001b[0m.   \u001b]8;id=580097;file://c:\\Users\\kim_h\\anaconda3\\envs\\rag\\Lib\\site-packages\\ragas\\llms\\output_parser.py\u001b\\\u001b[2moutput_parser.py\u001b[0m\u001b]8;;\u001b\\\u001b[2m:\u001b[0m\u001b]8;id=452971;file://c:\\Users\\kim_h\\anaconda3\\envs\\rag\\Lib\\site-packages\\ragas\\llms\\output_parser.py#71\u001b\\\u001b[2m71\u001b[0m\u001b]8;;\u001b\\\n"
      ]
     },
     "metadata": {},
     "output_type": "display_data"
    },
    {
     "data": {
      "text/html": [
       "<pre style=\"white-space:pre;overflow-x:auto;line-height:normal;font-family:Menlo,'DejaVu Sans Mono',consolas,'Courier New',monospace\"><span style=\"color: #7fbfbf; text-decoration-color: #7fbfbf\">                    </span><span style=\"color: #800000; text-decoration-color: #800000\">WARNING </span> <span style=\"font-weight: bold\">[</span>output_parser.py:<span style=\"color: #008080; text-decoration-color: #008080; font-weight: bold\">71</span><span style=\"font-weight: bold\">]</span> &gt;&gt; Failed to parse output. Returning <span style=\"color: #800080; text-decoration-color: #800080; font-style: italic\">None</span>.   <a href=\"file://c:\\Users\\kim_h\\anaconda3\\envs\\rag\\Lib\\site-packages\\ragas\\llms\\output_parser.py\" target=\"_blank\"><span style=\"color: #7f7f7f; text-decoration-color: #7f7f7f\">output_parser.py</span></a><span style=\"color: #7f7f7f; text-decoration-color: #7f7f7f\">:</span><a href=\"file://c:\\Users\\kim_h\\anaconda3\\envs\\rag\\Lib\\site-packages\\ragas\\llms\\output_parser.py#71\" target=\"_blank\"><span style=\"color: #7f7f7f; text-decoration-color: #7f7f7f\">71</span></a>\n",
       "</pre>\n"
      ],
      "text/plain": [
       "\u001b[2;36m                   \u001b[0m\u001b[2;36m \u001b[0m\u001b[31mWARNING \u001b[0m \u001b[1m[\u001b[0moutput_parser.py:\u001b[1;36m71\u001b[0m\u001b[1m]\u001b[0m >> Failed to parse output. Returning \u001b[3;35mNone\u001b[0m.   \u001b]8;id=997443;file://c:\\Users\\kim_h\\anaconda3\\envs\\rag\\Lib\\site-packages\\ragas\\llms\\output_parser.py\u001b\\\u001b[2moutput_parser.py\u001b[0m\u001b]8;;\u001b\\\u001b[2m:\u001b[0m\u001b]8;id=135055;file://c:\\Users\\kim_h\\anaconda3\\envs\\rag\\Lib\\site-packages\\ragas\\llms\\output_parser.py#71\u001b\\\u001b[2m71\u001b[0m\u001b]8;;\u001b\\\n"
      ]
     },
     "metadata": {},
     "output_type": "display_data"
    },
    {
     "data": {
      "text/html": [
       "<pre style=\"white-space:pre;overflow-x:auto;line-height:normal;font-family:Menlo,'DejaVu Sans Mono',consolas,'Courier New',monospace\"><span style=\"color: #7fbfbf; text-decoration-color: #7fbfbf\">[06/29/24 22:25:11] </span><span style=\"color: #800000; text-decoration-color: #800000\">WARNING </span> <span style=\"font-weight: bold\">[</span>output_parser.py:<span style=\"color: #008080; text-decoration-color: #008080; font-weight: bold\">71</span><span style=\"font-weight: bold\">]</span> &gt;&gt; Failed to parse output. Returning <span style=\"color: #800080; text-decoration-color: #800080; font-style: italic\">None</span>.   <a href=\"file://c:\\Users\\kim_h\\anaconda3\\envs\\rag\\Lib\\site-packages\\ragas\\llms\\output_parser.py\" target=\"_blank\"><span style=\"color: #7f7f7f; text-decoration-color: #7f7f7f\">output_parser.py</span></a><span style=\"color: #7f7f7f; text-decoration-color: #7f7f7f\">:</span><a href=\"file://c:\\Users\\kim_h\\anaconda3\\envs\\rag\\Lib\\site-packages\\ragas\\llms\\output_parser.py#71\" target=\"_blank\"><span style=\"color: #7f7f7f; text-decoration-color: #7f7f7f\">71</span></a>\n",
       "</pre>\n"
      ],
      "text/plain": [
       "\u001b[2;36m[06/29/24 22:25:11]\u001b[0m\u001b[2;36m \u001b[0m\u001b[31mWARNING \u001b[0m \u001b[1m[\u001b[0moutput_parser.py:\u001b[1;36m71\u001b[0m\u001b[1m]\u001b[0m >> Failed to parse output. Returning \u001b[3;35mNone\u001b[0m.   \u001b]8;id=423468;file://c:\\Users\\kim_h\\anaconda3\\envs\\rag\\Lib\\site-packages\\ragas\\llms\\output_parser.py\u001b\\\u001b[2moutput_parser.py\u001b[0m\u001b]8;;\u001b\\\u001b[2m:\u001b[0m\u001b]8;id=739170;file://c:\\Users\\kim_h\\anaconda3\\envs\\rag\\Lib\\site-packages\\ragas\\llms\\output_parser.py#71\u001b\\\u001b[2m71\u001b[0m\u001b]8;;\u001b\\\n"
      ]
     },
     "metadata": {},
     "output_type": "display_data"
    },
    {
     "data": {
      "text/html": [
       "<pre style=\"white-space:pre;overflow-x:auto;line-height:normal;font-family:Menlo,'DejaVu Sans Mono',consolas,'Courier New',monospace\"><span style=\"color: #7fbfbf; text-decoration-color: #7fbfbf\">[06/29/24 22:26:55] </span><span style=\"color: #800000; text-decoration-color: #800000\">WARNING </span> <span style=\"font-weight: bold\">[</span>output_parser.py:<span style=\"color: #008080; text-decoration-color: #008080; font-weight: bold\">71</span><span style=\"font-weight: bold\">]</span> &gt;&gt; Failed to parse output. Returning <span style=\"color: #800080; text-decoration-color: #800080; font-style: italic\">None</span>.   <a href=\"file://c:\\Users\\kim_h\\anaconda3\\envs\\rag\\Lib\\site-packages\\ragas\\llms\\output_parser.py\" target=\"_blank\"><span style=\"color: #7f7f7f; text-decoration-color: #7f7f7f\">output_parser.py</span></a><span style=\"color: #7f7f7f; text-decoration-color: #7f7f7f\">:</span><a href=\"file://c:\\Users\\kim_h\\anaconda3\\envs\\rag\\Lib\\site-packages\\ragas\\llms\\output_parser.py#71\" target=\"_blank\"><span style=\"color: #7f7f7f; text-decoration-color: #7f7f7f\">71</span></a>\n",
       "</pre>\n"
      ],
      "text/plain": [
       "\u001b[2;36m[06/29/24 22:26:55]\u001b[0m\u001b[2;36m \u001b[0m\u001b[31mWARNING \u001b[0m \u001b[1m[\u001b[0moutput_parser.py:\u001b[1;36m71\u001b[0m\u001b[1m]\u001b[0m >> Failed to parse output. Returning \u001b[3;35mNone\u001b[0m.   \u001b]8;id=615586;file://c:\\Users\\kim_h\\anaconda3\\envs\\rag\\Lib\\site-packages\\ragas\\llms\\output_parser.py\u001b\\\u001b[2moutput_parser.py\u001b[0m\u001b]8;;\u001b\\\u001b[2m:\u001b[0m\u001b]8;id=753506;file://c:\\Users\\kim_h\\anaconda3\\envs\\rag\\Lib\\site-packages\\ragas\\llms\\output_parser.py#71\u001b\\\u001b[2m71\u001b[0m\u001b]8;;\u001b\\\n"
      ]
     },
     "metadata": {},
     "output_type": "display_data"
    },
    {
     "data": {
      "text/html": [
       "<pre style=\"white-space:pre;overflow-x:auto;line-height:normal;font-family:Menlo,'DejaVu Sans Mono',consolas,'Courier New',monospace\"><span style=\"color: #7fbfbf; text-decoration-color: #7fbfbf\">                    </span><span style=\"color: #800000; text-decoration-color: #800000\">WARNING </span> <span style=\"font-weight: bold\">[</span>output_parser.py:<span style=\"color: #008080; text-decoration-color: #008080; font-weight: bold\">71</span><span style=\"font-weight: bold\">]</span> &gt;&gt; Failed to parse output. Returning <span style=\"color: #800080; text-decoration-color: #800080; font-style: italic\">None</span>.   <a href=\"file://c:\\Users\\kim_h\\anaconda3\\envs\\rag\\Lib\\site-packages\\ragas\\llms\\output_parser.py\" target=\"_blank\"><span style=\"color: #7f7f7f; text-decoration-color: #7f7f7f\">output_parser.py</span></a><span style=\"color: #7f7f7f; text-decoration-color: #7f7f7f\">:</span><a href=\"file://c:\\Users\\kim_h\\anaconda3\\envs\\rag\\Lib\\site-packages\\ragas\\llms\\output_parser.py#71\" target=\"_blank\"><span style=\"color: #7f7f7f; text-decoration-color: #7f7f7f\">71</span></a>\n",
       "</pre>\n"
      ],
      "text/plain": [
       "\u001b[2;36m                   \u001b[0m\u001b[2;36m \u001b[0m\u001b[31mWARNING \u001b[0m \u001b[1m[\u001b[0moutput_parser.py:\u001b[1;36m71\u001b[0m\u001b[1m]\u001b[0m >> Failed to parse output. Returning \u001b[3;35mNone\u001b[0m.   \u001b]8;id=274689;file://c:\\Users\\kim_h\\anaconda3\\envs\\rag\\Lib\\site-packages\\ragas\\llms\\output_parser.py\u001b\\\u001b[2moutput_parser.py\u001b[0m\u001b]8;;\u001b\\\u001b[2m:\u001b[0m\u001b]8;id=683844;file://c:\\Users\\kim_h\\anaconda3\\envs\\rag\\Lib\\site-packages\\ragas\\llms\\output_parser.py#71\u001b\\\u001b[2m71\u001b[0m\u001b]8;;\u001b\\\n"
      ]
     },
     "metadata": {},
     "output_type": "display_data"
    },
    {
     "data": {
      "text/html": [
       "<pre style=\"white-space:pre;overflow-x:auto;line-height:normal;font-family:Menlo,'DejaVu Sans Mono',consolas,'Courier New',monospace\"><span style=\"color: #7fbfbf; text-decoration-color: #7fbfbf\">                    </span><span style=\"color: #800000; text-decoration-color: #800000\">WARNING </span> <span style=\"font-weight: bold\">[</span>output_parser.py:<span style=\"color: #008080; text-decoration-color: #008080; font-weight: bold\">71</span><span style=\"font-weight: bold\">]</span> &gt;&gt; Failed to parse output. Returning <span style=\"color: #800080; text-decoration-color: #800080; font-style: italic\">None</span>.   <a href=\"file://c:\\Users\\kim_h\\anaconda3\\envs\\rag\\Lib\\site-packages\\ragas\\llms\\output_parser.py\" target=\"_blank\"><span style=\"color: #7f7f7f; text-decoration-color: #7f7f7f\">output_parser.py</span></a><span style=\"color: #7f7f7f; text-decoration-color: #7f7f7f\">:</span><a href=\"file://c:\\Users\\kim_h\\anaconda3\\envs\\rag\\Lib\\site-packages\\ragas\\llms\\output_parser.py#71\" target=\"_blank\"><span style=\"color: #7f7f7f; text-decoration-color: #7f7f7f\">71</span></a>\n",
       "</pre>\n"
      ],
      "text/plain": [
       "\u001b[2;36m                   \u001b[0m\u001b[2;36m \u001b[0m\u001b[31mWARNING \u001b[0m \u001b[1m[\u001b[0moutput_parser.py:\u001b[1;36m71\u001b[0m\u001b[1m]\u001b[0m >> Failed to parse output. Returning \u001b[3;35mNone\u001b[0m.   \u001b]8;id=494135;file://c:\\Users\\kim_h\\anaconda3\\envs\\rag\\Lib\\site-packages\\ragas\\llms\\output_parser.py\u001b\\\u001b[2moutput_parser.py\u001b[0m\u001b]8;;\u001b\\\u001b[2m:\u001b[0m\u001b]8;id=450271;file://c:\\Users\\kim_h\\anaconda3\\envs\\rag\\Lib\\site-packages\\ragas\\llms\\output_parser.py#71\u001b\\\u001b[2m71\u001b[0m\u001b]8;;\u001b\\\n"
      ]
     },
     "metadata": {},
     "output_type": "display_data"
    },
    {
     "data": {
      "text/html": [
       "<pre style=\"white-space:pre;overflow-x:auto;line-height:normal;font-family:Menlo,'DejaVu Sans Mono',consolas,'Courier New',monospace\"><span style=\"color: #7fbfbf; text-decoration-color: #7fbfbf\">[06/29/24 22:26:56] </span><span style=\"color: #800000; text-decoration-color: #800000\">WARNING </span> <span style=\"font-weight: bold\">[</span>output_parser.py:<span style=\"color: #008080; text-decoration-color: #008080; font-weight: bold\">71</span><span style=\"font-weight: bold\">]</span> &gt;&gt; Failed to parse output. Returning <span style=\"color: #800080; text-decoration-color: #800080; font-style: italic\">None</span>.   <a href=\"file://c:\\Users\\kim_h\\anaconda3\\envs\\rag\\Lib\\site-packages\\ragas\\llms\\output_parser.py\" target=\"_blank\"><span style=\"color: #7f7f7f; text-decoration-color: #7f7f7f\">output_parser.py</span></a><span style=\"color: #7f7f7f; text-decoration-color: #7f7f7f\">:</span><a href=\"file://c:\\Users\\kim_h\\anaconda3\\envs\\rag\\Lib\\site-packages\\ragas\\llms\\output_parser.py#71\" target=\"_blank\"><span style=\"color: #7f7f7f; text-decoration-color: #7f7f7f\">71</span></a>\n",
       "</pre>\n"
      ],
      "text/plain": [
       "\u001b[2;36m[06/29/24 22:26:56]\u001b[0m\u001b[2;36m \u001b[0m\u001b[31mWARNING \u001b[0m \u001b[1m[\u001b[0moutput_parser.py:\u001b[1;36m71\u001b[0m\u001b[1m]\u001b[0m >> Failed to parse output. Returning \u001b[3;35mNone\u001b[0m.   \u001b]8;id=638806;file://c:\\Users\\kim_h\\anaconda3\\envs\\rag\\Lib\\site-packages\\ragas\\llms\\output_parser.py\u001b\\\u001b[2moutput_parser.py\u001b[0m\u001b]8;;\u001b\\\u001b[2m:\u001b[0m\u001b]8;id=910275;file://c:\\Users\\kim_h\\anaconda3\\envs\\rag\\Lib\\site-packages\\ragas\\llms\\output_parser.py#71\u001b\\\u001b[2m71\u001b[0m\u001b]8;;\u001b\\\n"
      ]
     },
     "metadata": {},
     "output_type": "display_data"
    },
    {
     "data": {
      "text/html": [
       "<pre style=\"white-space:pre;overflow-x:auto;line-height:normal;font-family:Menlo,'DejaVu Sans Mono',consolas,'Courier New',monospace\"><span style=\"color: #7fbfbf; text-decoration-color: #7fbfbf\">[06/29/24 22:27:40] </span><span style=\"color: #800000; text-decoration-color: #800000\">WARNING </span> <span style=\"font-weight: bold\">[</span>output_parser.py:<span style=\"color: #008080; text-decoration-color: #008080; font-weight: bold\">71</span><span style=\"font-weight: bold\">]</span> &gt;&gt; Failed to parse output. Returning <span style=\"color: #800080; text-decoration-color: #800080; font-style: italic\">None</span>.   <a href=\"file://c:\\Users\\kim_h\\anaconda3\\envs\\rag\\Lib\\site-packages\\ragas\\llms\\output_parser.py\" target=\"_blank\"><span style=\"color: #7f7f7f; text-decoration-color: #7f7f7f\">output_parser.py</span></a><span style=\"color: #7f7f7f; text-decoration-color: #7f7f7f\">:</span><a href=\"file://c:\\Users\\kim_h\\anaconda3\\envs\\rag\\Lib\\site-packages\\ragas\\llms\\output_parser.py#71\" target=\"_blank\"><span style=\"color: #7f7f7f; text-decoration-color: #7f7f7f\">71</span></a>\n",
       "</pre>\n"
      ],
      "text/plain": [
       "\u001b[2;36m[06/29/24 22:27:40]\u001b[0m\u001b[2;36m \u001b[0m\u001b[31mWARNING \u001b[0m \u001b[1m[\u001b[0moutput_parser.py:\u001b[1;36m71\u001b[0m\u001b[1m]\u001b[0m >> Failed to parse output. Returning \u001b[3;35mNone\u001b[0m.   \u001b]8;id=780298;file://c:\\Users\\kim_h\\anaconda3\\envs\\rag\\Lib\\site-packages\\ragas\\llms\\output_parser.py\u001b\\\u001b[2moutput_parser.py\u001b[0m\u001b]8;;\u001b\\\u001b[2m:\u001b[0m\u001b]8;id=299831;file://c:\\Users\\kim_h\\anaconda3\\envs\\rag\\Lib\\site-packages\\ragas\\llms\\output_parser.py#71\u001b\\\u001b[2m71\u001b[0m\u001b]8;;\u001b\\\n"
      ]
     },
     "metadata": {},
     "output_type": "display_data"
    },
    {
     "data": {
      "text/html": [
       "<pre style=\"white-space:pre;overflow-x:auto;line-height:normal;font-family:Menlo,'DejaVu Sans Mono',consolas,'Courier New',monospace\"><span style=\"color: #7fbfbf; text-decoration-color: #7fbfbf\">[06/29/24 22:28:49] </span><span style=\"color: #800000; text-decoration-color: #800000\">WARNING </span> <span style=\"font-weight: bold\">[</span>output_parser.py:<span style=\"color: #008080; text-decoration-color: #008080; font-weight: bold\">71</span><span style=\"font-weight: bold\">]</span> &gt;&gt; Failed to parse output. Returning <span style=\"color: #800080; text-decoration-color: #800080; font-style: italic\">None</span>.   <a href=\"file://c:\\Users\\kim_h\\anaconda3\\envs\\rag\\Lib\\site-packages\\ragas\\llms\\output_parser.py\" target=\"_blank\"><span style=\"color: #7f7f7f; text-decoration-color: #7f7f7f\">output_parser.py</span></a><span style=\"color: #7f7f7f; text-decoration-color: #7f7f7f\">:</span><a href=\"file://c:\\Users\\kim_h\\anaconda3\\envs\\rag\\Lib\\site-packages\\ragas\\llms\\output_parser.py#71\" target=\"_blank\"><span style=\"color: #7f7f7f; text-decoration-color: #7f7f7f\">71</span></a>\n",
       "</pre>\n"
      ],
      "text/plain": [
       "\u001b[2;36m[06/29/24 22:28:49]\u001b[0m\u001b[2;36m \u001b[0m\u001b[31mWARNING \u001b[0m \u001b[1m[\u001b[0moutput_parser.py:\u001b[1;36m71\u001b[0m\u001b[1m]\u001b[0m >> Failed to parse output. Returning \u001b[3;35mNone\u001b[0m.   \u001b]8;id=377041;file://c:\\Users\\kim_h\\anaconda3\\envs\\rag\\Lib\\site-packages\\ragas\\llms\\output_parser.py\u001b\\\u001b[2moutput_parser.py\u001b[0m\u001b]8;;\u001b\\\u001b[2m:\u001b[0m\u001b]8;id=465121;file://c:\\Users\\kim_h\\anaconda3\\envs\\rag\\Lib\\site-packages\\ragas\\llms\\output_parser.py#71\u001b\\\u001b[2m71\u001b[0m\u001b]8;;\u001b\\\n"
      ]
     },
     "metadata": {},
     "output_type": "display_data"
    },
    {
     "data": {
      "text/html": [
       "<pre style=\"white-space:pre;overflow-x:auto;line-height:normal;font-family:Menlo,'DejaVu Sans Mono',consolas,'Courier New',monospace\"><span style=\"color: #7fbfbf; text-decoration-color: #7fbfbf\">[06/29/24 22:28:57] </span><span style=\"color: #800000; text-decoration-color: #800000\">WARNING </span> <span style=\"font-weight: bold\">[</span>output_parser.py:<span style=\"color: #008080; text-decoration-color: #008080; font-weight: bold\">71</span><span style=\"font-weight: bold\">]</span> &gt;&gt; Failed to parse output. Returning <span style=\"color: #800080; text-decoration-color: #800080; font-style: italic\">None</span>.   <a href=\"file://c:\\Users\\kim_h\\anaconda3\\envs\\rag\\Lib\\site-packages\\ragas\\llms\\output_parser.py\" target=\"_blank\"><span style=\"color: #7f7f7f; text-decoration-color: #7f7f7f\">output_parser.py</span></a><span style=\"color: #7f7f7f; text-decoration-color: #7f7f7f\">:</span><a href=\"file://c:\\Users\\kim_h\\anaconda3\\envs\\rag\\Lib\\site-packages\\ragas\\llms\\output_parser.py#71\" target=\"_blank\"><span style=\"color: #7f7f7f; text-decoration-color: #7f7f7f\">71</span></a>\n",
       "</pre>\n"
      ],
      "text/plain": [
       "\u001b[2;36m[06/29/24 22:28:57]\u001b[0m\u001b[2;36m \u001b[0m\u001b[31mWARNING \u001b[0m \u001b[1m[\u001b[0moutput_parser.py:\u001b[1;36m71\u001b[0m\u001b[1m]\u001b[0m >> Failed to parse output. Returning \u001b[3;35mNone\u001b[0m.   \u001b]8;id=255812;file://c:\\Users\\kim_h\\anaconda3\\envs\\rag\\Lib\\site-packages\\ragas\\llms\\output_parser.py\u001b\\\u001b[2moutput_parser.py\u001b[0m\u001b]8;;\u001b\\\u001b[2m:\u001b[0m\u001b]8;id=369317;file://c:\\Users\\kim_h\\anaconda3\\envs\\rag\\Lib\\site-packages\\ragas\\llms\\output_parser.py#71\u001b\\\u001b[2m71\u001b[0m\u001b]8;;\u001b\\\n"
      ]
     },
     "metadata": {},
     "output_type": "display_data"
    },
    {
     "data": {
      "text/html": [
       "<pre style=\"white-space:pre;overflow-x:auto;line-height:normal;font-family:Menlo,'DejaVu Sans Mono',consolas,'Courier New',monospace\"><span style=\"color: #7fbfbf; text-decoration-color: #7fbfbf\">[06/29/24 22:29:01] </span><span style=\"color: #800000; text-decoration-color: #800000\">WARNING </span> <span style=\"font-weight: bold\">[</span>output_parser.py:<span style=\"color: #008080; text-decoration-color: #008080; font-weight: bold\">71</span><span style=\"font-weight: bold\">]</span> &gt;&gt; Failed to parse output. Returning <span style=\"color: #800080; text-decoration-color: #800080; font-style: italic\">None</span>.   <a href=\"file://c:\\Users\\kim_h\\anaconda3\\envs\\rag\\Lib\\site-packages\\ragas\\llms\\output_parser.py\" target=\"_blank\"><span style=\"color: #7f7f7f; text-decoration-color: #7f7f7f\">output_parser.py</span></a><span style=\"color: #7f7f7f; text-decoration-color: #7f7f7f\">:</span><a href=\"file://c:\\Users\\kim_h\\anaconda3\\envs\\rag\\Lib\\site-packages\\ragas\\llms\\output_parser.py#71\" target=\"_blank\"><span style=\"color: #7f7f7f; text-decoration-color: #7f7f7f\">71</span></a>\n",
       "</pre>\n"
      ],
      "text/plain": [
       "\u001b[2;36m[06/29/24 22:29:01]\u001b[0m\u001b[2;36m \u001b[0m\u001b[31mWARNING \u001b[0m \u001b[1m[\u001b[0moutput_parser.py:\u001b[1;36m71\u001b[0m\u001b[1m]\u001b[0m >> Failed to parse output. Returning \u001b[3;35mNone\u001b[0m.   \u001b]8;id=953998;file://c:\\Users\\kim_h\\anaconda3\\envs\\rag\\Lib\\site-packages\\ragas\\llms\\output_parser.py\u001b\\\u001b[2moutput_parser.py\u001b[0m\u001b]8;;\u001b\\\u001b[2m:\u001b[0m\u001b]8;id=382718;file://c:\\Users\\kim_h\\anaconda3\\envs\\rag\\Lib\\site-packages\\ragas\\llms\\output_parser.py#71\u001b\\\u001b[2m71\u001b[0m\u001b]8;;\u001b\\\n"
      ]
     },
     "metadata": {},
     "output_type": "display_data"
    },
    {
     "data": {
      "text/html": [
       "<pre style=\"white-space:pre;overflow-x:auto;line-height:normal;font-family:Menlo,'DejaVu Sans Mono',consolas,'Courier New',monospace\"><span style=\"color: #7fbfbf; text-decoration-color: #7fbfbf\">[06/29/24 22:29:03] </span><span style=\"color: #800000; text-decoration-color: #800000\">WARNING </span> <span style=\"font-weight: bold\">[</span>output_parser.py:<span style=\"color: #008080; text-decoration-color: #008080; font-weight: bold\">71</span><span style=\"font-weight: bold\">]</span> &gt;&gt; Failed to parse output. Returning <span style=\"color: #800080; text-decoration-color: #800080; font-style: italic\">None</span>.   <a href=\"file://c:\\Users\\kim_h\\anaconda3\\envs\\rag\\Lib\\site-packages\\ragas\\llms\\output_parser.py\" target=\"_blank\"><span style=\"color: #7f7f7f; text-decoration-color: #7f7f7f\">output_parser.py</span></a><span style=\"color: #7f7f7f; text-decoration-color: #7f7f7f\">:</span><a href=\"file://c:\\Users\\kim_h\\anaconda3\\envs\\rag\\Lib\\site-packages\\ragas\\llms\\output_parser.py#71\" target=\"_blank\"><span style=\"color: #7f7f7f; text-decoration-color: #7f7f7f\">71</span></a>\n",
       "</pre>\n"
      ],
      "text/plain": [
       "\u001b[2;36m[06/29/24 22:29:03]\u001b[0m\u001b[2;36m \u001b[0m\u001b[31mWARNING \u001b[0m \u001b[1m[\u001b[0moutput_parser.py:\u001b[1;36m71\u001b[0m\u001b[1m]\u001b[0m >> Failed to parse output. Returning \u001b[3;35mNone\u001b[0m.   \u001b]8;id=745191;file://c:\\Users\\kim_h\\anaconda3\\envs\\rag\\Lib\\site-packages\\ragas\\llms\\output_parser.py\u001b\\\u001b[2moutput_parser.py\u001b[0m\u001b]8;;\u001b\\\u001b[2m:\u001b[0m\u001b]8;id=187796;file://c:\\Users\\kim_h\\anaconda3\\envs\\rag\\Lib\\site-packages\\ragas\\llms\\output_parser.py#71\u001b\\\u001b[2m71\u001b[0m\u001b]8;;\u001b\\\n"
      ]
     },
     "metadata": {},
     "output_type": "display_data"
    },
    {
     "data": {
      "text/html": [
       "<pre style=\"white-space:pre;overflow-x:auto;line-height:normal;font-family:Menlo,'DejaVu Sans Mono',consolas,'Courier New',monospace\"><span style=\"color: #7fbfbf; text-decoration-color: #7fbfbf\">[06/29/24 22:30:58] </span><span style=\"color: #800000; text-decoration-color: #800000\">WARNING </span> <span style=\"font-weight: bold\">[</span>output_parser.py:<span style=\"color: #008080; text-decoration-color: #008080; font-weight: bold\">71</span><span style=\"font-weight: bold\">]</span> &gt;&gt; Failed to parse output. Returning <span style=\"color: #800080; text-decoration-color: #800080; font-style: italic\">None</span>.   <a href=\"file://c:\\Users\\kim_h\\anaconda3\\envs\\rag\\Lib\\site-packages\\ragas\\llms\\output_parser.py\" target=\"_blank\"><span style=\"color: #7f7f7f; text-decoration-color: #7f7f7f\">output_parser.py</span></a><span style=\"color: #7f7f7f; text-decoration-color: #7f7f7f\">:</span><a href=\"file://c:\\Users\\kim_h\\anaconda3\\envs\\rag\\Lib\\site-packages\\ragas\\llms\\output_parser.py#71\" target=\"_blank\"><span style=\"color: #7f7f7f; text-decoration-color: #7f7f7f\">71</span></a>\n",
       "</pre>\n"
      ],
      "text/plain": [
       "\u001b[2;36m[06/29/24 22:30:58]\u001b[0m\u001b[2;36m \u001b[0m\u001b[31mWARNING \u001b[0m \u001b[1m[\u001b[0moutput_parser.py:\u001b[1;36m71\u001b[0m\u001b[1m]\u001b[0m >> Failed to parse output. Returning \u001b[3;35mNone\u001b[0m.   \u001b]8;id=441837;file://c:\\Users\\kim_h\\anaconda3\\envs\\rag\\Lib\\site-packages\\ragas\\llms\\output_parser.py\u001b\\\u001b[2moutput_parser.py\u001b[0m\u001b]8;;\u001b\\\u001b[2m:\u001b[0m\u001b]8;id=823502;file://c:\\Users\\kim_h\\anaconda3\\envs\\rag\\Lib\\site-packages\\ragas\\llms\\output_parser.py#71\u001b\\\u001b[2m71\u001b[0m\u001b]8;;\u001b\\\n"
      ]
     },
     "metadata": {},
     "output_type": "display_data"
    },
    {
     "data": {
      "text/html": [
       "<pre style=\"white-space:pre;overflow-x:auto;line-height:normal;font-family:Menlo,'DejaVu Sans Mono',consolas,'Courier New',monospace\"><span style=\"color: #7fbfbf; text-decoration-color: #7fbfbf\">[06/29/24 22:31:18] </span><span style=\"color: #800000; text-decoration-color: #800000\">WARNING </span> <span style=\"font-weight: bold\">[</span>output_parser.py:<span style=\"color: #008080; text-decoration-color: #008080; font-weight: bold\">71</span><span style=\"font-weight: bold\">]</span> &gt;&gt; Failed to parse output. Returning <span style=\"color: #800080; text-decoration-color: #800080; font-style: italic\">None</span>.   <a href=\"file://c:\\Users\\kim_h\\anaconda3\\envs\\rag\\Lib\\site-packages\\ragas\\llms\\output_parser.py\" target=\"_blank\"><span style=\"color: #7f7f7f; text-decoration-color: #7f7f7f\">output_parser.py</span></a><span style=\"color: #7f7f7f; text-decoration-color: #7f7f7f\">:</span><a href=\"file://c:\\Users\\kim_h\\anaconda3\\envs\\rag\\Lib\\site-packages\\ragas\\llms\\output_parser.py#71\" target=\"_blank\"><span style=\"color: #7f7f7f; text-decoration-color: #7f7f7f\">71</span></a>\n",
       "</pre>\n"
      ],
      "text/plain": [
       "\u001b[2;36m[06/29/24 22:31:18]\u001b[0m\u001b[2;36m \u001b[0m\u001b[31mWARNING \u001b[0m \u001b[1m[\u001b[0moutput_parser.py:\u001b[1;36m71\u001b[0m\u001b[1m]\u001b[0m >> Failed to parse output. Returning \u001b[3;35mNone\u001b[0m.   \u001b]8;id=757871;file://c:\\Users\\kim_h\\anaconda3\\envs\\rag\\Lib\\site-packages\\ragas\\llms\\output_parser.py\u001b\\\u001b[2moutput_parser.py\u001b[0m\u001b]8;;\u001b\\\u001b[2m:\u001b[0m\u001b]8;id=161306;file://c:\\Users\\kim_h\\anaconda3\\envs\\rag\\Lib\\site-packages\\ragas\\llms\\output_parser.py#71\u001b\\\u001b[2m71\u001b[0m\u001b]8;;\u001b\\\n"
      ]
     },
     "metadata": {},
     "output_type": "display_data"
    },
    {
     "data": {
      "text/plain": [
       "{'faithfulness': 0.6364, 'answer_relevancy': 0.6405, 'context_recall': 1.0000, 'context_precision': 0.8526}"
      ]
     },
     "execution_count": 27,
     "metadata": {},
     "output_type": "execute_result"
    }
   ],
   "source": [
    "from ragas import evaluate\n",
    "from langchain_community.chat_models import ChatOllama\n",
    "from langchain_community.embeddings.ollama import OllamaEmbeddings\n",
    "\n",
    "# chatgpt 4 모델로 평가 하다가는 요금 폭탄 받을 수 있음 주의!! \n",
    "langchain_llm =  ChatOllama(model=\"qwen2\")\n",
    "langchain_llm2 =  ChatOllama(model=\"gemma2\")\n",
    "langchain_embeddings = OllamaEmbeddings(model=\"qwen2\")\n",
    "langchain_embeddings2 = OllamaEmbeddings(model=\"gemma2\")\n",
    "\n",
    "result = evaluate(\n",
    "    dataset,\n",
    "    metrics = [\n",
    "        faithfulness,\n",
    "        answer_relevancy,\n",
    "        context_recall,\n",
    "        context_precision,\n",
    "    ],\n",
    "    llm=langchain_llm, \n",
    "    embeddings=langchain_embeddings,\n",
    "    raise_exceptions=False,\n",
    ")\n",
    "\n",
    "result"
   ]
  },
  {
   "cell_type": "markdown",
   "metadata": {},
   "source": [
    "## Gemma2 모델을 사용한 RAG Chain"
   ]
  },
  {
   "cell_type": "code",
   "execution_count": 28,
   "metadata": {},
   "outputs": [],
   "source": [
    "# Prompt\n",
    "template = \"\"\"Answer the question based only on the following context:\n",
    "{context}\n",
    "\n",
    "Question: {question}\n",
    "\"\"\"\n",
    "\n",
    "prompt = ChatPromptTemplate.from_template(template)\n",
    "\n",
    "# Chat Model\n",
    "llm = ChatOllama(model=\"gemma2\")\n",
    "\n",
    "rag_chain2 = (\n",
    "    {\"context\": retriever | format_docs, \"question\": RunnablePassthrough()}\n",
    "    | prompt\n",
    "    | llm\n",
    "    | StrOutputParser()\n",
    ")\n",
    "\n",
    "qa_data2 = qa_data.copy()\n",
    "qa_data2['answer'] = qa_data2['question'].apply(lambda x: rag_chain2.invoke(x) )\n",
    "qa_data2.head()"
   ]
  },
  {
   "cell_type": "code",
   "execution_count": null,
   "metadata": {},
   "outputs": [
    {
     "data": {
      "application/vnd.jupyter.widget-view+json": {
       "model_id": "9626c90e4fa1475c9851f0da028b1665",
       "version_major": 2,
       "version_minor": 0
      },
      "text/plain": [
       "Evaluating:   0%|          | 0/44 [00:00<?, ?it/s]"
      ]
     },
     "metadata": {},
     "output_type": "display_data"
    },
    {
     "data": {
      "text/html": [
       "<pre style=\"white-space:pre;overflow-x:auto;line-height:normal;font-family:Menlo,'DejaVu Sans Mono',consolas,'Courier New',monospace\"><span style=\"color: #7fbfbf; text-decoration-color: #7fbfbf\">[06/29/24 05:40:24] </span><span style=\"color: #800000; text-decoration-color: #800000\">WARNING </span> <span style=\"font-weight: bold\">[</span>output_parser.py:<span style=\"color: #008080; text-decoration-color: #008080; font-weight: bold\">71</span><span style=\"font-weight: bold\">]</span> &gt;&gt; Failed to parse output. Returning <span style=\"color: #800080; text-decoration-color: #800080; font-style: italic\">None</span>.   <a href=\"file:///Users/wiggler/Library/Caches/pypoetry/virtualenvs/langfuse-practice-ygCFMd-0-py3.11/lib/python3.11/site-packages/ragas/llms/output_parser.py\" target=\"_blank\"><span style=\"color: #7f7f7f; text-decoration-color: #7f7f7f\">output_parser.py</span></a><span style=\"color: #7f7f7f; text-decoration-color: #7f7f7f\">:</span><a href=\"file:///Users/wiggler/Library/Caches/pypoetry/virtualenvs/langfuse-practice-ygCFMd-0-py3.11/lib/python3.11/site-packages/ragas/llms/output_parser.py#71\" target=\"_blank\"><span style=\"color: #7f7f7f; text-decoration-color: #7f7f7f\">71</span></a>\n",
       "</pre>\n"
      ],
      "text/plain": [
       "\u001b[2;36m[06/29/24 05:40:24]\u001b[0m\u001b[2;36m \u001b[0m\u001b[31mWARNING \u001b[0m \u001b[1m[\u001b[0moutput_parser.py:\u001b[1;36m71\u001b[0m\u001b[1m]\u001b[0m >> Failed to parse output. Returning \u001b[3;35mNone\u001b[0m.   \u001b]8;id=567075;file:///Users/wiggler/Library/Caches/pypoetry/virtualenvs/langfuse-practice-ygCFMd-0-py3.11/lib/python3.11/site-packages/ragas/llms/output_parser.py\u001b\\\u001b[2moutput_parser.py\u001b[0m\u001b]8;;\u001b\\\u001b[2m:\u001b[0m\u001b]8;id=816044;file:///Users/wiggler/Library/Caches/pypoetry/virtualenvs/langfuse-practice-ygCFMd-0-py3.11/lib/python3.11/site-packages/ragas/llms/output_parser.py#71\u001b\\\u001b[2m71\u001b[0m\u001b]8;;\u001b\\\n"
      ]
     },
     "metadata": {},
     "output_type": "display_data"
    },
    {
     "data": {
      "text/html": [
       "<pre style=\"white-space:pre;overflow-x:auto;line-height:normal;font-family:Menlo,'DejaVu Sans Mono',consolas,'Courier New',monospace\"><span style=\"color: #7fbfbf; text-decoration-color: #7fbfbf\">[06/29/24 05:43:03] </span><span style=\"color: #800000; text-decoration-color: #800000\">WARNING </span> <span style=\"font-weight: bold\">[</span>output_parser.py:<span style=\"color: #008080; text-decoration-color: #008080; font-weight: bold\">71</span><span style=\"font-weight: bold\">]</span> &gt;&gt; Failed to parse output. Returning <span style=\"color: #800080; text-decoration-color: #800080; font-style: italic\">None</span>.   <a href=\"file:///Users/wiggler/Library/Caches/pypoetry/virtualenvs/langfuse-practice-ygCFMd-0-py3.11/lib/python3.11/site-packages/ragas/llms/output_parser.py\" target=\"_blank\"><span style=\"color: #7f7f7f; text-decoration-color: #7f7f7f\">output_parser.py</span></a><span style=\"color: #7f7f7f; text-decoration-color: #7f7f7f\">:</span><a href=\"file:///Users/wiggler/Library/Caches/pypoetry/virtualenvs/langfuse-practice-ygCFMd-0-py3.11/lib/python3.11/site-packages/ragas/llms/output_parser.py#71\" target=\"_blank\"><span style=\"color: #7f7f7f; text-decoration-color: #7f7f7f\">71</span></a>\n",
       "</pre>\n"
      ],
      "text/plain": [
       "\u001b[2;36m[06/29/24 05:43:03]\u001b[0m\u001b[2;36m \u001b[0m\u001b[31mWARNING \u001b[0m \u001b[1m[\u001b[0moutput_parser.py:\u001b[1;36m71\u001b[0m\u001b[1m]\u001b[0m >> Failed to parse output. Returning \u001b[3;35mNone\u001b[0m.   \u001b]8;id=821002;file:///Users/wiggler/Library/Caches/pypoetry/virtualenvs/langfuse-practice-ygCFMd-0-py3.11/lib/python3.11/site-packages/ragas/llms/output_parser.py\u001b\\\u001b[2moutput_parser.py\u001b[0m\u001b]8;;\u001b\\\u001b[2m:\u001b[0m\u001b]8;id=28536;file:///Users/wiggler/Library/Caches/pypoetry/virtualenvs/langfuse-practice-ygCFMd-0-py3.11/lib/python3.11/site-packages/ragas/llms/output_parser.py#71\u001b\\\u001b[2m71\u001b[0m\u001b]8;;\u001b\\\n"
      ]
     },
     "metadata": {},
     "output_type": "display_data"
    },
    {
     "data": {
      "text/plain": [
       "{'faithfulness': 0.9000, 'answer_relevancy': 0.3450, 'context_recall': 0.9000, 'context_precision': 0.9672}"
      ]
     },
     "execution_count": 191,
     "metadata": {},
     "output_type": "execute_result"
    }
   ],
   "source": [
    "dataset2 = Dataset.from_pandas(qa_data2)\n",
    "\n",
    "result2 = evaluate(\n",
    "    dataset2,\n",
    "    metrics = [\n",
    "        faithfulness,\n",
    "        answer_relevancy,\n",
    "        context_recall,\n",
    "        context_precision,\n",
    "    ],\n",
    "    llm=langchain_llm2, \n",
    "    embeddings=langchain_embeddings2,\n",
    "    raise_exceptions=False,\n",
    ")\n",
    "# 4개의 평가지표에 대한 성능 값이 나옴 \n",
    "result2"
   ]
  },
  {
   "cell_type": "markdown",
   "metadata": {},
   "source": [
    "## 모델 성능 비교"
   ]
  },
  {
   "cell_type": "code",
   "execution_count": null,
   "metadata": {},
   "outputs": [
    {
     "data": {
      "text/html": [
       "<div>\n",
       "<style scoped>\n",
       "    .dataframe tbody tr th:only-of-type {\n",
       "        vertical-align: middle;\n",
       "    }\n",
       "\n",
       "    .dataframe tbody tr th {\n",
       "        vertical-align: top;\n",
       "    }\n",
       "\n",
       "    .dataframe thead th {\n",
       "        text-align: right;\n",
       "    }\n",
       "</style>\n",
       "<table border=\"1\" class=\"dataframe\">\n",
       "  <thead>\n",
       "    <tr style=\"text-align: right;\">\n",
       "      <th></th>\n",
       "      <th>Metric</th>\n",
       "      <th>Qwen2</th>\n",
       "      <th>Gemma2</th>\n",
       "    </tr>\n",
       "  </thead>\n",
       "  <tbody>\n",
       "    <tr>\n",
       "      <th>0</th>\n",
       "      <td>faithfulness</td>\n",
       "      <td>0.907576</td>\n",
       "      <td>0.900000</td>\n",
       "    </tr>\n",
       "    <tr>\n",
       "      <th>1</th>\n",
       "      <td>answer_relevancy</td>\n",
       "      <td>0.319209</td>\n",
       "      <td>0.345019</td>\n",
       "    </tr>\n",
       "    <tr>\n",
       "      <th>2</th>\n",
       "      <td>context_recall</td>\n",
       "      <td>0.900000</td>\n",
       "      <td>0.900000</td>\n",
       "    </tr>\n",
       "    <tr>\n",
       "      <th>3</th>\n",
       "      <td>context_precision</td>\n",
       "      <td>0.967172</td>\n",
       "      <td>0.967172</td>\n",
       "    </tr>\n",
       "  </tbody>\n",
       "</table>\n",
       "</div>"
      ],
      "text/plain": [
       "              Metric     Qwen2    Gemma2\n",
       "0       faithfulness  0.907576  0.900000\n",
       "1   answer_relevancy  0.319209  0.345019\n",
       "2     context_recall  0.900000  0.900000\n",
       "3  context_precision  0.967172  0.967172"
      ]
     },
     "execution_count": 192,
     "metadata": {},
     "output_type": "execute_result"
    }
   ],
   "source": [
    "df1 = pd.DataFrame(list(result.items()), columns=['Metric', 'Qwen2'])\n",
    "df2 = pd.DataFrame(list(result2.items()), columns=['Metric', 'Gemma2'])\n",
    "\n",
    "df_result = pd.merge(df1, df2, on='Metric')\n",
    "df_result"
   ]
  },
  {
   "cell_type": "code",
   "execution_count": null,
   "metadata": {},
   "outputs": [],
   "source": []
  }
 ],
 "metadata": {
  "kernelspec": {
   "display_name": "langfuse-practice-ygCFMd-0-py3.11",
   "language": "python",
   "name": "python3"
  },
  "language_info": {
   "codemirror_mode": {
    "name": "ipython",
    "version": 3
   },
   "file_extension": ".py",
   "mimetype": "text/x-python",
   "name": "python",
   "nbconvert_exporter": "python",
   "pygments_lexer": "ipython3",
   "version": "3.11.9"
  }
 },
 "nbformat": 4,
 "nbformat_minor": 2
}
