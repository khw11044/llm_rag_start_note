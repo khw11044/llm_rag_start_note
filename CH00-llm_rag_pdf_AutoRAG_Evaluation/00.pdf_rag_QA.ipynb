{
 "cells": [
  {
   "cell_type": "markdown",
   "metadata": {},
   "source": [
    "함께 볼 영상 \n",
    "\n",
    "https://www.youtube.com/watch?v=GLM73CbEVaY\n",
    "\n"
   ]
  },
  {
   "cell_type": "markdown",
   "metadata": {},
   "source": [
    "PDF 다운로드 \n",
    "\n",
    "https://www.gne.go.kr/upload_data/board_data/workroom/167296838793088.pdf\n",
    "\n"
   ]
  },
  {
   "cell_type": "code",
   "execution_count": 1,
   "metadata": {},
   "outputs": [],
   "source": [
    "# Ollama 모델 로드 및 테스트\n",
    "from langchain_community.chat_models import ChatOllama\n",
    "\n",
    "# model = ChatOllama(model=\"llama3\", temperature=0)\n",
    "# model = ChatOllama(model=\"qwen2\", temperature=0)\n",
    "model = ChatOllama(model=\"qwen2:1.5b\", temperature=0)\n",
    "# model = ChatOllama(model=\"gemma:2b\", temperature=0)\n",
    "# model = ChatOllama(model=\"gemma2\", temperature=0)\n",
    "\n",
    "response = model.invoke(\"겨울철에 내한성이 강한 나무에는 어떤 것이 있을까요?\")"
   ]
  },
  {
   "cell_type": "code",
   "execution_count": 5,
   "metadata": {},
   "outputs": [
    {
     "data": {
      "text/plain": [
       "AIMessage(content='겨울철에 내한성 강한 나무에는 다음과 같은 특징이 있습니다:\\n\\n1. 뿌리: 내한성은 뿌리를 통해 물과 영양분을 받아들입니다. 따라서, 내한성이 강한 나무는 뿌리를 더욱 깊게 내려놓습니다.\\n\\n2. 잎: 내한성은 잎의 형태와 크기에 따라 달라집니다. 일반적으로 내한성이 강한 나무는 잎이 더 큰 것이나 흔히 보이는 구조를 가지고 있습니다.\\n\\n3. 꽃과 열매: 내한성은 꽃과 열매의 형태에도 영향을 미칩니다. 내한성이 강한 나무는 꽃이 더 높거나 꼭대기에서 피어나고, 열매가 더 큰 것이 있습니다.\\n\\n4. 가지: 내한성이 강한 나무는 가지가 더 긴 것과 더 넓은 구조를 가지고 있습니다.\\n\\n5. 성장속도: 내한성 강한 나무는 일반적으로 더 빠르게 자라나며, 이는 그들의 잎이 더 높거나 흔히 보이는 구조를 가지기 때문입니다.\\n\\n6. 복사력: 내한성이 강한 나무는 복사력을 가지고 있어야 합니다. 이것은 그들이 뿌리에서 물을 받아들여서 생존할 수 있는 능력에 대한 의미입니다.', response_metadata={'model': 'qwen2:1.5b', 'created_at': '2024-06-29T14:03:26.1130993Z', 'message': {'role': 'assistant', 'content': ''}, 'done_reason': 'stop', 'done': True, 'total_duration': 377158997000, 'load_duration': 373429273200, 'prompt_eval_count': 26, 'prompt_eval_duration': 15922000, 'eval_count': 321, 'eval_duration': 3711300000}, id='run-7e0b36e2-700d-4e9b-8920-1fd0094d8326-0')"
      ]
     },
     "execution_count": 5,
     "metadata": {},
     "output_type": "execute_result"
    }
   ],
   "source": [
    "response"
   ]
  },
  {
   "cell_type": "code",
   "execution_count": 6,
   "metadata": {},
   "outputs": [
    {
     "data": {
      "text/plain": [
       "'겨울철에 내한성 강한 나무에는 다음과 같은 특징이 있습니다:\\n\\n1. 뿌리: 내한성은 뿌리를 통해 물과 영양분을 받아들입니다. 따라서, 내한성이 강한 나무는 뿌리를 더욱 깊게 내려놓습니다.\\n\\n2. 잎: 내한성은 잎의 형태와 크기에 따라 달라집니다. 일반적으로 내한성이 강한 나무는 잎이 더 큰 것이나 흔히 보이는 구조를 가지고 있습니다.\\n\\n3. 꽃과 열매: 내한성은 꽃과 열매의 형태에도 영향을 미칩니다. 내한성이 강한 나무는 꽃이 더 높거나 꼭대기에서 피어나고, 열매가 더 큰 것이 있습니다.\\n\\n4. 가지: 내한성이 강한 나무는 가지가 더 긴 것과 더 넓은 구조를 가지고 있습니다.\\n\\n5. 성장속도: 내한성 강한 나무는 일반적으로 더 빠르게 자라나며, 이는 그들의 잎이 더 높거나 흔히 보이는 구조를 가지기 때문입니다.\\n\\n6. 복사력: 내한성이 강한 나무는 복사력을 가지고 있어야 합니다. 이것은 그들이 뿌리에서 물을 받아들여서 생존할 수 있는 능력에 대한 의미입니다.'"
      ]
     },
     "execution_count": 6,
     "metadata": {},
     "output_type": "execute_result"
    }
   ],
   "source": [
    "response.content"
   ]
  },
  {
   "cell_type": "code",
   "execution_count": 3,
   "metadata": {},
   "outputs": [
    {
     "data": {
      "text/plain": [
       "'경남교육 2022 - 250\\n수\\n목 관리 업무매뉴얼\\n수목 관리 \\n업무매뉴얼 쾌적한 학교 공간 재구성을 위한\\n 쾌적한 학교 공간 재구성을 위한\\n수목 관리\\n업무매뉴얼҃թҮਭ'"
      ]
     },
     "execution_count": 3,
     "metadata": {},
     "output_type": "execute_result"
    }
   ],
   "source": [
    "# PDF 문서 로드 및 텍스트 추출\n",
    "from langchain_community.document_loaders import PyPDFLoader\n",
    "\n",
    "loader = PyPDFLoader(\"./수목관리업무매뉴얼.pdf\", extract_images=False)\n",
    "pages = loader.load()\n",
    "pages[0].page_content"
   ]
  },
  {
   "cell_type": "code",
   "execution_count": 7,
   "metadata": {},
   "outputs": [],
   "source": [
    "# 문장 임베딩 및 벡터 저장소 생성\n",
    "from langchain.text_splitter import RecursiveCharacterTextSplitter\n",
    "from langchain_community.embeddings import HuggingFaceEmbeddings\n",
    "from langchain_community.vectorstores import Chroma\n",
    "\n",
    "# 문서를 문장으로 분리\n",
    "text_splitter = RecursiveCharacterTextSplitter(\n",
    "    chunk_size=1000,            # 1000개의 단어 기준으로 분할을 해주고\n",
    "    chunk_overlap=100,          # chunk는 100단어가 겹치도록 \n",
    ")\n",
    "\n",
    "docs = text_splitter.split_documents(pages)\n",
    "\n",
    "# 문장을 임베딩으로 변환하고 벡터 저장소에 저장\n",
    "embeddings = HuggingFaceEmbeddings(\n",
    "    model_name='jhgan/ko-sroberta-nli',\n",
    "    model_kwargs={'device':'cpu'},  # gpu\n",
    "    encode_kwargs={'normalize_embeddings':True},\n",
    ")\n",
    "\n",
    "vectorstore = Chroma.from_documents(docs, embeddings)\n"
   ]
  },
  {
   "cell_type": "code",
   "execution_count": 8,
   "metadata": {},
   "outputs": [
    {
     "name": "stdout",
     "output_type": "stream",
     "text": [
      "5\n",
      "나) 수종별 내한성에 따른 전정 \n",
      "  추위를 잘 견디어 내는 나무의 성질을 내한성이라고 한다. 생장 중인 잎이나 가는 가지 등에서 일어나는 상해(霜害)에 대한 저항성을 포함하는 경우와, 휴면 중인 가지나 엄동기\n",
      "{'page': 139, 'source': './수목관리업무매뉴얼.pdf'}\n"
     ]
    },
    {
     "name": "stderr",
     "output_type": "stream",
     "text": [
      "c:\\Users\\kim_h\\anaconda3\\envs\\rag\\Lib\\site-packages\\langchain_core\\_api\\deprecation.py:139: LangChainDeprecationWarning: The method `BaseRetriever.get_relevant_documents` was deprecated in langchain-core 0.1.46 and will be removed in 0.3.0. Use invoke instead.\n",
      "  warn_deprecated(\n"
     ]
    }
   ],
   "source": [
    "# 검색 쿼리\n",
    "query = \"겨울철에 내한성이 강한 나무에는 어떤 것이 있을까요?\"\n",
    "\n",
    "# 가장 유사도가 높은 문장을 하나만 추출\n",
    "retriever = vectorstore.as_retriever(search_kwargs={'k': 5})\n",
    "\n",
    "docs = retriever.get_relevant_documents(query)\n",
    "print(len(docs))\n",
    "print(docs[0].page_content)\n",
    "print(docs[0].metadata)"
   ]
  },
  {
   "cell_type": "code",
   "execution_count": 9,
   "metadata": {},
   "outputs": [
    {
     "name": "stdout",
     "output_type": "stream",
     "text": [
      "(1) 내한성은 동절기 중 극히 낮은 온도에 견디는 능력이다. \n",
      "(가) 내한성이 강한 수종은 한대림에서 자라는 수종으로 자작나무, 오리나무, 사\n",
      "시나무, 버드나무류, 소나무, 잣나무, 전나무 등이 해당된다. \n",
      "(나) 내한성이 약한 수종은 삼나무, 편백, 금송, 히말라야시다, 배롱나무, 파라칸\n",
      "타, 동백나무, 후박나무, 먼나무 등 주로 남부 지역에서 자라는 수종과 자목련, 사철나무, 가이즈까향나무, 능소화, 벽오동, 오동나무 등이다. \n",
      "(다) 내한성이 약한 수종은 수간을 볏짚이나 새끼 끈으로 싸 주고, 상열을 막기\n",
      "{'page': 110, 'source': './수목관리업무매뉴얼.pdf'}\n"
     ]
    }
   ],
   "source": [
    "print(docs[1].page_content)\n",
    "print(docs[1].metadata)"
   ]
  },
  {
   "cell_type": "code",
   "execution_count": 10,
   "metadata": {},
   "outputs": [
    {
     "data": {
      "text/plain": [
       "'내한성은 동절기 중 극히 낮은 온도에 견디는 능력이다. 따라서 내한성이 강한 수종은 한대림에서 자라는 수종으로 자작나무, 오리나무, 사시나무, 버드나무류, 소나무, 잣나무, 전나무 등이 해당된다.'"
      ]
     },
     "execution_count": 10,
     "metadata": {},
     "output_type": "execute_result"
    }
   ],
   "source": [
    "from langchain.prompts import ChatPromptTemplate\n",
    "from langchain.schema.output_parser import StrOutputParser\n",
    "from langchain.schema.runnable import RunnablePassthrough\n",
    "\n",
    "\n",
    "# 가장 기본적인 Prompt\n",
    "template = '''Answer the question based only on the following context:\n",
    "{context}\n",
    "\n",
    "Question: {question}\n",
    "'''\n",
    "\n",
    "prompt = ChatPromptTemplate.from_template(template)\n",
    "\n",
    "# 페이지 내용을 하나의 문자열로 결합을 해줌\n",
    "def format_docs(docs):\n",
    "    return '\\n\\n'.join([d.page_content for d in docs])\n",
    "\n",
    "# RAG Chain 연결\n",
    "rag_chain = (\n",
    "    {'context': retriever | format_docs, 'question': RunnablePassthrough()} # 유사도 기반으로 가장 관련있는 내용으로 검색, 사용자 입력 \n",
    "    | prompt\n",
    "    | model\n",
    "    | StrOutputParser()     # 생성된 답변은 문자열만 \n",
    ")\n",
    "\n",
    "# Chain 실행\n",
    "query = \"겨울철에 내한성이 강한 나무에는 어떤 것이 있을까요?\"\n",
    "rag_chain.invoke(query)\n"
   ]
  },
  {
   "cell_type": "code",
   "execution_count": 11,
   "metadata": {},
   "outputs": [
    {
     "data": {
      "text/plain": [
       "'내한성은 동절기 중 극히 낮은 온도에 견디는 능력이다. 따라서 내한성이 강한 수종은 한대림에서 자라는 수종으로 자작나무, 오리나무, 사시나무, 버드나무류, 소나무, 잣나무, 전나무 등이 해당된다. \\n\\n따라서 추위에 약한 나무에는 내한성이 강한 수종들이 있을 것입니다.'"
      ]
     },
     "execution_count": 11,
     "metadata": {},
     "output_type": "execute_result"
    }
   ],
   "source": [
    "query = \"겨울철에 추위에 약한 나무에는 어떤 것이 있을까요?\"\n",
    "rag_chain.invoke(query)"
   ]
  },
  {
   "cell_type": "code",
   "execution_count": null,
   "metadata": {},
   "outputs": [],
   "source": []
  }
 ],
 "metadata": {
  "kernelspec": {
   "display_name": "ollama-pdf-rag-j5v6ObUr-py3.11",
   "language": "python",
   "name": "python3"
  },
  "language_info": {
   "codemirror_mode": {
    "name": "ipython",
    "version": 3
   },
   "file_extension": ".py",
   "mimetype": "text/x-python",
   "name": "python",
   "nbconvert_exporter": "python",
   "pygments_lexer": "ipython3",
   "version": "3.11.9"
  }
 },
 "nbformat": 4,
 "nbformat_minor": 2
}
