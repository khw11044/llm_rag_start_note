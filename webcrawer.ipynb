{
 "cells": [
  {
   "cell_type": "markdown",
   "metadata": {},
   "source": [
    "### WebBaseLoader\n",
    "\n",
    "WebBaseLoader는 HTML 웹페이지의 모든 텍스트를 추출 하여, 다양한 용도로 활용할 수 있는 문서 형태로 변환하는 기능을 가진 도구입니다.\n",
    "\n",
    "WebBaseLoader를 사용하여 웹 페이지를 로드합니다.\n",
    "한글이 깨져서 로드되는 경우 아래와 같이 인코딩(encoding=\"utf-8\") 옵션을 지정합니다."
   ]
  },
  {
   "cell_type": "code",
   "execution_count": 42,
   "metadata": {},
   "outputs": [],
   "source": [
    "from langchain_community.document_loaders import WebBaseLoader\n",
    "\n",
    "\n",
    "urls = 'https://overseas.mofa.go.kr/in-ko/brd/m_20454/view.do?seq=1346537&page=1'\n"
   ]
  },
  {
   "cell_type": "code",
   "execution_count": 43,
   "metadata": {},
   "outputs": [],
   "source": [
    "# 웹 페이지 \"https://news.naver.com/\"에서 데이터를 로드하는 WebBaseLoader 객체를 생성합니다.\n",
    "loader = WebBaseLoader(urls)\n",
    "\n",
    "# 한글이 깨져서 로드되는 경우 아래와 같이 인코딩을 지정합니다.\n",
    "# loader = WebBaseLoader(\"https://news.naver.com/\", encoding=\"utf-8\")"
   ]
  },
  {
   "cell_type": "code",
   "execution_count": 44,
   "metadata": {},
   "outputs": [],
   "source": [
    "# SSL 인증서 오류 우회\n",
    "loader.requests_kwargs = {\"verify\": False}"
   ]
  },
  {
   "cell_type": "code",
   "execution_count": 45,
   "metadata": {},
   "outputs": [
    {
     "name": "stderr",
     "output_type": "stream",
     "text": [
      "c:\\Users\\User\\anaconda3\\envs\\llm\\lib\\site-packages\\urllib3\\connectionpool.py:1099: InsecureRequestWarning: Unverified HTTPS request is being made to host 'overseas.mofa.go.kr'. Adding certificate verification is strongly advised. See: https://urllib3.readthedocs.io/en/latest/advanced-usage.html#tls-warnings\n",
      "  warnings.warn(\n"
     ]
    },
    {
     "name": "stdout",
     "output_type": "stream",
     "text": [
      "              Copyright © Ministry of Foreign Affairs. All Rights Reserved.이전자동재생 정지다음오늘 하루 이 창 닫기팝업 닫기팝업버튼 닫기POPUP대표), 업무시간 : 09:00-12:30, 14:00-17:00 (월-금)긴급시 연락처 : +91-99-5359-6008 (당직전화), +91-124-651-4443 (한인회), 국번없이 100 (경찰서), 011 6620 6630 (Fortis 병원)개인정보처리방침저작권정책뷰어프로그램텍스트 모드러로 전년 동기 대비 34% 감소 - 모리셔스, 싱가포르, 미국, UAE 등에서의 FDI 유입이 감소했으나 네덜란드, 일본, 독일에서는 유입이 증가 - 부문별로는 컴퓨터 소프트웨어 및 하드웨어, 무역, 통신, 자동차, 제약 및 화학 분야에서 유입이 감소했으나 서비스, 건설(인프라) 활동, 건설 개발 및 금속 산업은 유입이 증가   3. 정부, 찐쌀에 20% 수출관세 부과Govt imposes 20% exports duty on parboiled rice exports(Financial Express, 8.26)o 인도 재무부는 찐살(parboiled rice)에 20%의 수출 관세를 부과하기로 8.25(금)에 발표했으며, 동 수출 관세는 즉시 적용  - 동 결정은 국내 시장 안정을 위한 것으로, 국내 쌀 생산자들의 이익 증대와 국내 소비 증대를 위해 내려짐.  - 인도는 국내 시장 가격 안정을 위해 올해 7월 21일 정부는 비바스마티 쌀 수출 금지를 발표했으며, 8월 19일 양파에 대해 올해 말까지 40%의 수출관세를 부과한다고 발표    4. 미국, 인도의 노트북 등 수입 제한 결정에 우려 제기 US raises concerns on India's decision to impose import curbs (Financial Express, 8.28)o 미국무역대표부(USTR)의 성명에 따르면 인도가 노트북 등 특정전자제품에 대한 수입 제한 결정에 대해 미국이 우려를 표시하면서 양국은 문제를 더 깊이 조사하고 해결책을 찾기로 합의 - 동 문제는 지난 8월 26일 피유시 고얄(Piyush Goyal) 상공부 장관과 캐서린 타이(Katherine Tai) 미국 무역대표부 대표 간의 회담에서 제기 - 인도는 지난 8월 3일 국내 제조를 촉진하고 중국 등 국가로부터의 수입을 줄이기 위해 보안상의 이유로 11월 1일부터 노트북 및 컴퓨터(태블릿 컴퓨터 포함) 등을 포함한 전자제품에 대한 수입 제한을 부과한바 있음.    목록이전 글\n"
     ]
    },
    {
     "name": "stderr",
     "output_type": "stream",
     "text": [
      "c:\\Users\\User\\anaconda3\\envs\\llm\\lib\\site-packages\\bs4\\element.py:175: RuntimeWarning: coroutine 'main' was never awaited\n",
      "  self.parent = parent\n",
      "RuntimeWarning: Enable tracemalloc to get the object allocation traceback\n"
     ]
    }
   ],
   "source": [
    "# 로더를 사용하여 데이터를 불러옵니다.\n",
    "web_data = loader.load()\n",
    "# 불러온 데이터를 출력합니다.\n",
    "print(web_data[0].page_content[:].replace(\"\\n\", \"\"))"
   ]
  },
  {
   "cell_type": "code",
   "execution_count": 46,
   "metadata": {},
   "outputs": [],
   "source": [
    "contents = web_data[0].page_content"
   ]
  },
  {
   "cell_type": "code",
   "execution_count": 47,
   "metadata": {},
   "outputs": [
    {
     "data": {
      "text/plain": [
       "\"\\n\\n\\n\\n인도경제 언론동향 (2023.08.28) 상세보기|인도 경제동향주인도 대한민국 대사관\\n\\n\\n\\n\\n\\n\\n\\n\\n\\n\\n\\n\\n\\n\\n\\n\\n\\n\\n\\n\\n\\n\\n\\n\\n\\n바로가기 메뉴\\n본문 바로가기\\n주메뉴 바로가기\\n\\n\\n\\n\\n\\n\\n\\n\\n\\n외교부\\n\\n\\n대통령실\\n\\nRSS\\n\\n\\n\\n\\n\\n\\n인도 내 공관\\n\\n\\n\\n\\n공관 소셜미디어\\n\\n\\nfacebook\\nX\\n\\n\\n\\n\\n\\nKOREAN\\n\\n\\nKOREAN\\nEnglish\\n\\n\\n\\n\\n\\n주인도 대한민국 대사관\\n팝업\\n\\n\\n\\n\\nKOREAN\\nEnglish\\n\\n\\n\\n공관소개\\n\\n공관장 인사\\n\\n주요업무 및 연락처\\n\\n공관약사\\n\\n찾아오시는 길\\n\\n\\n\\n\\n영사·재외국민보호\\n\\n재외국민 보호(코로나 포함)\\n\\n출입국 및 체류정보\\n\\n영사민원소식\\n\\n여권\\n\\n재외국민등록/해외이주신고\\n\\n병역\\n\\n국적\\n\\n가족관계등록\\n\\n사증\\n\\n공증\\n\\n기타\\n\\n민원수수료\\n\\n\\n\\n\\n뉴스\\n\\n공관 주요 활동\\n\\n공지사항\\n\\n계약공고\\n\\n주요 외교정책\\n\\n\\n\\n\\n한·인도 관계\\n\\n인도개관\\n\\n주요인사교류\\n\\n한·인도 정무관계 \\n\\n인도정세 동향\\n\\n\\n한·인도 경제관계\\n\\n인도 경제동향\\n\\n\\n\\n\\n\\n전자민원\\n\\n질의응답\\n\\n양식다운로드\\n\\n공통민원서식\\n공관별민원서식\\n\\n\\n재외공관민원조회\\n\\n사이버기업서비스\\n\\n기업애로사항\\n\\n\\n\\n\\n\\n정보마당\\n\\n해외여행안전정보\\n\\n생활정보\\n\\n채용정보\\n\\n외교부 소식지\\n\\n한국문화원\\n\\n코트라 뉴델리\\n\\n주요웹사이트\\n\\n\\n\\n\\n\\n검색창 열기\\n\\n\\n검색 입력 폼\\n\\n\\n검색\\n\\n\\n\\n\\n\\n\\n사이트맵 열기\\n\\n\\n\\n\\n\\n\\n외교부\\n\\n\\n대통령실\\n\\n\\n\\n\\n공관소개\\n\\n공관장 인사\\n\\n주요업무 및 연락처\\n\\n공관약사\\n\\n찾아오시는 길\\n\\n\\n\\n\\n영사·재외국민보호\\n\\n재외국민 보호(코로나 포함)\\n\\n출입국 및 체류정보\\n\\n영사민원소식\\n\\n여권\\n\\n재외국민등록/해외이주신고\\n\\n병역\\n\\n국적\\n\\n가족관계등록\\n\\n사증\\n\\n공증\\n\\n기타\\n\\n민원수수료\\n\\n\\n\\n\\n뉴스\\n\\n공관 주요 활동\\n\\n공지사항\\n\\n계약공고\\n\\n주요 외교정책\\n\\n\\n\\n\\n한·인도 관계\\n\\n인도개관\\n\\n주요인사교류\\n\\n한·인도 정무관계 \\n\\n인도정세 동향\\n\\n\\n한·인도 경제관계\\n\\n인도 경제동향\\n\\n\\n\\n\\n\\n전자민원\\n\\n질의응답\\n\\n양식다운로드\\n\\n공통민원서식\\n공관별민원서식\\n\\n\\n재외공관민원조회\\n\\n사이버기업서비스\\n\\n기업애로사항\\n\\n\\n\\n\\n\\n정보마당\\n\\n해외여행안전정보\\n\\n생활정보\\n\\n채용정보\\n\\n외교부 소식지\\n\\n한국문화원\\n\\n코트라 뉴델리\\n\\n주요웹사이트\\n\\n\\n\\n\\n\\n\\n인도 내 공관\\n\\n\\n\\n\\n공관 소셜미디어\\n\\n\\n\\n\\n\\n사이트맵 닫기\\n\\n\\n\\n\\n\\n\\n\\n\\n\\n\\n한·인도 관계\\n\\n\\n\\r\\n        \\t\\t\\t인도개관\\r\\n        \\t\\t\\n\\n\\n\\r\\n        \\t\\t\\t주요인사교류\\r\\n        \\t\\t\\n\\n\\n\\r\\n        \\t\\t\\t한·인도 정무관계 \\r\\n        \\t\\t\\n\\n\\n\\r\\n\\t\\t\\t\\t\\t\\t\\t\\t\\t\\t인도정세 동향\\r\\n\\t\\t\\t\\t\\t\\t\\t\\t\\t\\n\\n\\n\\n\\n\\r\\n        \\t\\t\\t한·인도 경제관계\\r\\n        \\t\\t\\n\\n\\n\\r\\n\\t\\t\\t\\t\\t\\t\\t\\t\\t\\t인도 경제동향\\r\\n\\t\\t\\t\\t\\t\\t\\t\\t\\t\\n\\n\\n\\n\\n\\n\\n\\n인도 경제동향\\n\\n\\n한·인도 관계\\n한·인도 경제관계\\n인도 경제동향\\n\\n\\n\\n\\n글자크기\\n글자확대\\n글자축소\\n\\nSNS 공유\\n\\n\\n\\n\\n\\n\\n\\n\\n\\n\\n\\n인쇄하기\\n\\n\\n\\n\\n\\n\\n\\n\\n\\n\\n\\n\\n\\n\\r\\n\\t\\t\\t\\r\\n\\t\\t\\t인도경제 언론동향 (2023.08.28)\\r\\n\\t\\t\\n\\n작성자\\n주 인도 대사관\\n작성일\\n2023-08-28\\n\\n\\n\\n1. 8.28.(월)\\xa0종가기준 센섹스지수\\xa0(BSE): 65,033.15(+146.64), Rs. 82.65$\\xa02.\\xa04-6월간 인도의 FDI 순유입, 34% 감소한 109.4억 달러 기록FDI equity inflows dip 34% to $10.94 bn in April-June(Economic Times, 8.27)o\\xa0인도 상무부 산하 대외무역총국(DPIIT)에 따르면, 인도의 외국인직접투자(FDI) 자본 순유입이 올해 4월부터 6월까지 109.4억 달러로 전년 동기 대비 34% 감소 - 모리셔스, 싱가포르, 미국, UAE 등에서의 FDI 유입이 감소했으나 네덜란드, 일본, 독일에서는 유입이 증가 - 부문별로는 컴퓨터 소프트웨어 및 하드웨어, 무역, 통신, 자동차, 제약 및 화학 분야에서 유입이 감소했으나 서비스, 건설(인프라) 활동, 건설 개발 및 금속 산업은 유입이 증가 \\xa0 3. 정부, 찐쌀에 20% 수출관세 부과Govt imposes 20% exports duty on parboiled rice exports(Financial Express, 8.26)o 인도 재무부는 찐살(parboiled rice)에 20%의 수출 관세를 부과하기로 8.25(금)에 발표했으며, 동 수출 관세는 즉시 적용  - 동 결정은 국내 시장 안정을 위한 것으로, 국내 쌀 생산자들의 이익 증대와 국내 소비 증대를 위해 내려짐.  - 인도는 국내 시장 가격 안정을 위해 올해 7월 21일 정부는 비바스마티 쌀 수출 금지를 발표했으며, 8월 19일 양파에 대해 올해 말까지 40%의 수출관세를 부과한다고 발표  \\xa0 4. 미국, 인도의 노트북 등 수입 제한 결정에 우려 제기 US raises concerns on India's decision to impose import curbs (Financial Express, 8.28)o\\xa0미국무역대표부(USTR)의 성명에 따르면 인도가 노트북 등 특정전자제품에 대한 수입 제한 결정에 대해 미국이 우려를 표시하면서 양국은 문제를 더 깊이 조사하고 해결책을 찾기로 합의 - 동 문제는 지난 8월 26일 피유시 고얄(Piyush Goyal) 상공부 장관과 캐서린 타이(Katherine Tai) 미국 무역대표부 대표 간의 회담에서 제기 - 인도는 지난 8월 3일 국내 제조를 촉진하고 중국 등 국가로부터의 수입을 줄이기 위해 보안상의 이유로 11월 1일부터 노트북 및 컴퓨터(태블릿 컴퓨터 포함) 등을 포함한 전자제품에 대한 수입 제한을 부과한바 있음.  \\xa0 \\n\\n\\n\\n\\n목록\\n\\n\\n이전 글\\n\\r\\n\\t\\t\\t\\t\\t 인도경제 언론동향 (2023.06.27)\\r\\n\\t\\t\\t\\t\\t\\n\\n\\n다음 글\\n\\n\\r\\n\\t\\t\\t\\t\\t다음 글이 없습니다.\\r\\n\\t\\t\\t\\t\\n\\n\\n\\n\\n\\n\\n\\n\\n\\n\\n\\n\\n\\n\\n\\n\\n\\n주인도 대한민국 대사관\\n주소 : 9 Chandragupta Marg, Chanakyapuri Extension, New Delhi - 110021, INDIA\\n전화번호 : +91-11-4200-7000(대표), 업무시간 : 09:00-12:30, 14:00-17:00 (월-금)\\n긴급시 연락처 : +91-99-5359-6008 (당직전화), +91-124-651-4443 (한인회), 국번없이 100 (경찰서), 011 6620 6630 (Fortis 병원)\\n\\n\\n\\n\\n\\n\\n\\n\\n\\n\\n\\n\\n\\n\\n\\n\\n\\n개인정보처리방침\\n저작권정책\\n뷰어프로그램\\n\\n\\n텍스트 모드\\n\\r\\n               OFF\\r\\n              \\n\\n\\n\\nCopyright © Ministry of Foreign Affairs. All Rights Reserved.\\n\\n\\n\\n\\n\\n\\n\\n\\n\\n\\n\\n\\n\\n\\n\\n\\n\\n\\n이전\\n자동재생 정지\\n다음\\n\\n\\n\\n오늘 하루 이 창 닫기\\n팝업 닫기\\n\\n\\n\\n\\n팝업버튼 닫기\\nPOPUP\\n\\n\\n\\n\\n\\n\\n\\n\\n\\n\\n\\n\\n\\n\\n\""
      ]
     },
     "execution_count": 47,
     "metadata": {},
     "output_type": "execute_result"
    }
   ],
   "source": [
    "contents"
   ]
  },
  {
   "cell_type": "markdown",
   "metadata": {},
   "source": [
    "### txt 파일로 저장하기"
   ]
  },
  {
   "cell_type": "code",
   "execution_count": 48,
   "metadata": {},
   "outputs": [
    {
     "name": "stdout",
     "output_type": "stream",
     "text": [
      "파일이 생성되고 내용이 저장되었습니다.\n"
     ]
    }
   ],
   "source": [
    "import re\n",
    "\n",
    "# 3개 이상의 연속된 \\n 문자를 2개의 \\n 문자로 변환합니다.\n",
    "modified_contents = re.sub(r'\\n{3,}', '\\n\\n', contents)\n",
    "\n",
    "# 텍스트 파일을 쓰기 모드로 엽니다.\n",
    "with open('output.txt', 'w', encoding='utf-8') as file:\n",
    "    # 문자열을 파일에 씁니다.\n",
    "    file.write(modified_contents)\n",
    "\n",
    "# 파일이 잘 저장되었는지 확인합니다.\n",
    "print(\"파일이 생성되고 내용이 저장되었습니다.\")"
   ]
  },
  {
   "cell_type": "markdown",
   "metadata": {},
   "source": [
    "### 여러 페이지 로드\n",
    "\n",
    "여러 개의 웹페이지를 한 번에 로드하려면 로더에 URL 리스트를 전달하면 됩니다. 이렇게 하면 전달된 URL과 동일한 순서로 문서 리스트가 반환됩니다."
   ]
  },
  {
   "cell_type": "markdown",
   "metadata": {},
   "source": [
    "WebBaseLoader를 사용하여 여러 웹페이지를 로드해 봅시다."
   ]
  },
  {
   "cell_type": "code",
   "execution_count": 6,
   "metadata": {},
   "outputs": [],
   "source": [
    "url_1 = \"https://news.naver.com/\"\n",
    "url_2 = \"https://news.daum.net\""
   ]
  },
  {
   "cell_type": "code",
   "execution_count": 7,
   "metadata": {},
   "outputs": [
    {
     "name": "stdout",
     "output_type": "stream",
     "text": [
      "Naver\n",
      "                        구독설정                                속보22대 국회 전반기 원 구성 완료…국민의힘 몫 7개 상임위원장 선출KBS내용작성전22대 국회 전반기 원구성 완료…여당몫 7개 상임위원장 선출한경비즈니스내용작성전22대 국회 전반기 원구성 완료…여당몫 7개 상임위원장 선출경기일보내용작성전'친족간 재산범죄 처벌면제' 친족상도례, 헌법불합치 결정부산일보\"尹 탄핵 청원 20만명 넘어…스스로 물러날 지지율\" 野 박찬대 일갈매일신문헌재. '친족간 재산범죄 처벌면제' 친족상도례 헌법 불합치강원일보속보 닫기동아일보06월 27일 15:37구독음주 피겨선수, 이해인이었다…“성추행 안해, 연인 사이 스킨십”이해인이 지난 1월 7일 오후 경기도 의정부실내빙상장에서 열린 ‘제78회 전국남녀 피겨스케이팅 종합선수권 대회’에서 여자 시니어 싱글 프리 연기를 선보인 뒤 팬들에게 인사하‘고 있다. 뉴스1해외 전지훈련 기간 술을 마시고 미성년자 후배를 성추행한 혐의로 3년의 자격정지 처분을 받은 여자 피겨 국가대표 선수가 이해인(19)...CJB청주방송06월 27일 15:12구독경찰관 앞 대놓고 무단횡단 中관광객…\"이게 왜 불법?\"제주에서 경찰관이 보는 앞에서 대놓고 무단횡단을 한 중국인 관광객들이 잇따라 단속에 적발됐습니다. 이들은 불법인줄 몰랐다며 억울하다는 표정을 지었습니다. 벌금을 부과한 경찰도 당황스럽기는 마찬가지였습니다. 외국인 관kbc광주방송06월 27일 15:10구독\"사생활 폭로..3억 요구\" 농구선수 허웅, 전 여친 고소프로농구 선수 허웅(31·KCC)이 \"사생활 폭\n",
      "============================================================\n",
      "Daum\n",
      "홈 | 다음뉴스본문 바로가기메뉴 바로가기뉴스관련 서비스연예스포츠 뉴스 메인메뉴홈사회정치경제국제문화IT연재포토팩트체크홈이슈 기사 목록정치                                    \"앉아서 오줌 누는...\" 군수 비판하다가 막말한 군의원                                정치                                    민주당 \"대통령 문고리 집중 통화, '윗선 윤석열' 증거 나왔다\"                                정치                                    조국당 검찰청폐지법에 與 \"檢 손보겠다는 범죄자들, 민심 왜곡\"                                사회                                    한의사협회 \"의료공백 막기 위해 한의과 공보의 역할 확대해야\"                                경제                                    [경제 '쏙'] 서학개미 몰린 엔비디아‥주총 효과는?                                경제                                    친환경차 개소세 일몰 기로에... 업계 \"연장 해야\"                                경제                                    투자손실로 '관리종목 지정' 동일철강, 신사업 '로봇' 투자 확대                                국제                                    \"우리 동의 없이 독도 조사 말라\"… 日, 또 다시 억지주장                                문화                                    주말 전국 장마 시작…시간당 최대 50㎜ 이상 물폭탄 쏟아진다                                \n"
     ]
    }
   ],
   "source": [
    "# 웹 페이지 URL 목록을 사용하여 WebBaseLoader 객체를 생성합니다.\n",
    "loader = WebBaseLoader([url_1, url_2])\n",
    "docs = loader.load()  # 지정된 웹 페이지에서 문서를 로드합니다.\n",
    "# 로드된 문서를 출력합니다.\n",
    "print(\"Naver\")\n",
    "print(docs[0].page_content.replace(\"\\n\", \"\")[200:1000])\n",
    "print(\"===\" * 20)\n",
    "print(\"Daum\")\n",
    "print(docs[1].page_content.replace(\"\\n\", \"\")[:1000])"
   ]
  },
  {
   "cell_type": "markdown",
   "metadata": {},
   "source": [
    "### 여러 URL을 동시에 로드\n",
    "\n",
    "여러 URL을 동시에 스크래핑하고 파싱하는 방법은 스크래핑 프로세스의 속도를 상당히 향상시킬 수 있는 효과적인 방법입니다. 이를 통해, 다량의 데이터를 빠르게 수집할 수 있으며, 작업의 효율성을 크게 개선할 수 있습니다.\n",
    "\n",
    "기본적으로 동시 요청의 수는 초당 2개로 제한되어 있으나, requests_per_second 매개변수를 조정하여 이 제한을 변경할 수 있습니다. 이는 특히 스크래핑하는 서버를 직접 관리하거나, 서버 부하에 대해 우려하지 않는 경우 유용할 수 있습니다.\n",
    "\n",
    "그러나, 동시 요청 수를 무리하게 늘리는 것은 서버에 과부하 ** 줄 수 있으며, 이로 인해 스크래핑 대상 웹사이트에서 차단당할 위험을 증가시킵니다. 스크래핑 작업을 수행할 때는 항상 해당 웹사이트의 이용 약관을 확인하고, 과도한 부하를 주지 않도록 주의를 기울여야 합니다. 만약 가능하다면, API를 통한 데이터 접근을 우선 고려하는 것도 좋은 방법입니다.\n",
    "\n",
    "- requests_per_second 속성을 1로 설정하여 초당 요청 수를 제한합니다.\n",
    "- aload() 메서드를 호출하여 비동기적으로 웹 페이지 데이터를 로드하고 docs 변수에 할당합니다."
   ]
  },
  {
   "cell_type": "code",
   "execution_count": 9,
   "metadata": {},
   "outputs": [],
   "source": [
    "url_1 = \"https://news.naver.com/\"\n",
    "url_2 = \"https://news.daum.net\""
   ]
  },
  {
   "cell_type": "code",
   "execution_count": 14,
   "metadata": {},
   "outputs": [
    {
     "name": "stderr",
     "output_type": "stream",
     "text": [
      "Fetching pages: 100%|##########| 2/2 [00:00<00:00,  4.10it/s]\n"
     ]
    },
    {
     "name": "stdout",
     "output_type": "stream",
     "text": [
      "Naver\n",
      "네이버 뉴스본문 바로가기NAVER뉴스연예스포츠날씨프리미엄검색언론사별정치경제사회생활/문화IT/과학세계랭킹신문보기오피니언TV팩트체크알고리즘 안내정정보도 모음콘텐츠6.27(목)전체 언론\n",
      "============================================================\n",
      "Daum\n",
      "홈 | 다음뉴스본문 바로가기메뉴 바로가기뉴스관련 서비스연예스포츠 뉴스 메인메뉴홈사회정치경제국제문화IT연재포토팩트체크홈이슈 기사 목록사회                         \n"
     ]
    }
   ],
   "source": [
    "import nest_asyncio\n",
    "import asyncio\n",
    "\n",
    "# 현재 이벤트 루프를 패치합니다.\n",
    "nest_asyncio.apply()\n",
    "\n",
    "loader = WebBaseLoader([url_1, url_2])\n",
    "loader.requests_per_second = 1  # 초당 요청 수를 1로 설정합니다.\n",
    "# 비동기 함수를 실행합니다.\n",
    "docs = loader.aload()\n",
    "\n",
    "# 로드된 문서를 출력합니다.\n",
    "print(\"URL_1\")\n",
    "print(docs[0].page_content.replace(\"\\n\", \"\")[:100])\n",
    "print(\"===\" * 20)\n",
    "print(\"URL_2\")\n",
    "print(docs[1].page_content.replace(\"\\n\", \"\")[:100])"
   ]
  },
  {
   "cell_type": "code",
   "execution_count": 15,
   "metadata": {},
   "outputs": [
    {
     "data": {
      "text/plain": [
       "'홈 | 다음뉴스본문 바로가기메뉴 바로가기뉴스관련 서비스연예스포츠 뉴스 메인메뉴홈사회정치경제국제문화IT연재포토팩트체크홈이슈 기사 목록사회                         '"
      ]
     },
     "execution_count": 15,
     "metadata": {},
     "output_type": "execute_result"
    }
   ],
   "source": [
    "a = docs[1].page_content.replace(\"\\n\", \"\")[:100]\n",
    "\n",
    "a"
   ]
  },
  {
   "cell_type": "code",
   "execution_count": null,
   "metadata": {},
   "outputs": [],
   "source": [
    "import requests\n",
    "from bs4 import BeautifulSoup\n",
    "\n",
    "html_doc = requests.get(\"https://news.naver.com/\")\n",
    "soup = BeautifulSoup(html_doc.text, \"html.parser\")\n",
    "\n",
    "# 예제 코드\n",
    "# soup.select_one(\"td[class='scrtext']\").text"
   ]
  },
  {
   "cell_type": "code",
   "execution_count": null,
   "metadata": {},
   "outputs": [],
   "source": [
    "# body 태그의 내용을 출력합니다.\n",
    "print(soup.select_one(\"body\").text.replace(\"\\n\", \"\")[:1000])"
   ]
  }
 ],
 "metadata": {
  "kernelspec": {
   "display_name": "llm",
   "language": "python",
   "name": "python3"
  },
  "language_info": {
   "codemirror_mode": {
    "name": "ipython",
    "version": 3
   },
   "file_extension": ".py",
   "mimetype": "text/x-python",
   "name": "python",
   "nbconvert_exporter": "python",
   "pygments_lexer": "ipython3",
   "version": "3.10.14"
  }
 },
 "nbformat": 4,
 "nbformat_minor": 2
}
